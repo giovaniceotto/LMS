{
 "cells": [
  {
   "cell_type": "markdown",
   "metadata": {},
   "source": [
    "# Initialization"
   ]
  },
  {
   "source": [
    "%load_ext autoreload\n",
    "%autoreload 2"
   ],
   "cell_type": "code",
   "metadata": {
    "tags": []
   },
   "execution_count": 76,
   "outputs": [
    {
     "output_type": "stream",
     "name": "stdout",
     "text": "The autoreload extension is already loaded. To reload it, use:\n  %reload_ext autoreload\n"
    }
   ]
  },
  {
   "cell_type": "code",
   "execution_count": 77,
   "metadata": {
    "scrolled": false
   },
   "outputs": [],
   "source": [
    "# Noelle\n",
    "from noelle import Motor, Fluid, FluidMixture\n",
    "\n",
    "# Numpy\n",
    "import numpy as np\n",
    "\n",
    "# Matplotlib\n",
    "from matplotlib import pyplot as plt\n",
    "import matplotlib\n",
    "import matplotlib as mpl\n",
    "from labellines import labelLine, labelLines"
   ]
  },
  {
   "cell_type": "code",
   "execution_count": 78,
   "metadata": {},
   "outputs": [],
   "source": [
    "# Configure plot styles\n",
    "\n",
    "# Sizes\n",
    "mpl.rcParams['figure.figsize'] = [12.0, 6.0]\n",
    "mpl.rcParams['figure.dpi'] = 120\n",
    "mpl.rcParams['savefig.dpi'] = 120\n",
    "\n",
    "# Font\n",
    "font = {'family' : 'normal',\n",
    "        'weight' : 'bold',\n",
    "        'size'   : 22}\n",
    "matplotlib.rc('font', **font)\n",
    "\n",
    "# Style\n",
    "plt.style.use(['science'])"
   ]
  },
  {
   "cell_type": "markdown",
   "metadata": {},
   "source": [
    "# Fuel and Oxidizer Definitions"
   ]
  },
  {
   "cell_type": "code",
   "execution_count": 79,
   "metadata": {
    "scrolled": false,
    "tags": []
   },
   "outputs": [],
   "source": [
    "# Oxidizer\n",
    "NOX =  Fluid(name='N2O', coolprop_name='NitrousOxide', formula=None, fluid_type='oxidizer', storage_temperature=298.15)\n",
    "\n",
    "# Fuels\n",
    "H2O = Fluid(name='H2O(L)', coolprop_name='water', formula='H 2 O 1', fluid_type='fuel', storage_pressure=60e5, storage_temperature=298.15)\n",
    "\n",
    "LC2H5OH = Fluid(name='C2H5OH(L)', coolprop_name='ethanol', formula='C 2 H 6 O 1', fluid_type='fuel', storage_pressure=60e5, storage_temperature=298.15)\n",
    "\n",
    "H2O_30_C2H50H_70 = FluidMixture(fluid1=LC2H5OH, x1=70, fluid2=H2O, x2=30)"
   ]
  },
  {
   "cell_type": "markdown",
   "metadata": {},
   "source": [
    "# Motor Main Parameters Design"
   ]
  },
  {
   "cell_type": "markdown",
   "metadata": {},
   "source": [
    "## Anhydrous Ethanol"
   ]
  },
  {
   "cell_type": "code",
   "execution_count": 80,
   "metadata": {
    "scrolled": false,
    "tags": []
   },
   "outputs": [
    {
     "output_type": "stream",
     "name": "stdout",
     "text": "Thrust (N): 1000.00\n\nBurn time (seconds): 10.00\n\nChamber pressure (bar): 35.0\n\nAdiabatic chamber temperature (Kelvin): 3182.2\n\nMolecular Weight of exhaust products (kg/kmol): 26.56\n\nRatio of specific heats of exhaust products: 1.14\n\nOxidiser/fuel mass ratio: 5.73\n\nCombustion efficiency (%): 1.00\n\nThrust coefficient efficiency (%): 1.00\n\nPressure on oxidiser tank (bar): 56.52\n\nTemperature on oxidiser tank (K): 298.15\n\nPressure on fuel tank (bar): 60.00\n\nTemperature on fuel tank (K): 298.15\n\nCharacteristic velocity (m/s): 1566.19\n\nThrust coefficient: 1.53\n\nSpecific impulse (seconds): 243.74\n\nVolumetric Specific impulse (Ns/m³): 1792389.81\n\nTotal mass flow rate (kg/s): 0.418\n\nOxidiser mass flow rate (kg/s): 0.356\n\nFuel mass flow rate (kg/s): 0.062\n\nTotal oxidiser mass (kg): 3.561\n\nTotal fuel mass (kg): 0.621\n\nNozzle throat diameter (mm): 15.4\n\nNozzle exit diameter (mm): 37.7\n\nPERFORMANCE PARAMETERS\n\n+---------------------------------------------+------------+---------+\n|            Performance parameters           |   Value    |  Units  |\n+---------------------------------------------+------------+---------+\n|                    Thrust                   |    1000    |    N    |\n|                  Burn time                  |     10     | Seconds |\n|               Chamber pressure              |     35     |   bar   |\n|        Adiabatic chamber temperature        |  3182.22   |    K    |\n|     Molecular Weight of exhaust products    |   26.56    | kg/kmol |\n| Ratio of specific heats of exhaust products |    1.14    |    -    |\n|            Combustion efficiency            |    100     |    %    |\n|        Thrust coefficient efficiency        |    100     |    %    |\n|           Characteristic velocity           |  1566.19   |   m/s   |\n|              Thrust coefficient             |    1.53    |    -    |\n|               Specific impulse              |   243.74   | Seconds |\n|         Volumetric Specific impulse         | 1792389.81 |  Ns/m³  |\n+---------------------------------------------+------------+---------+\n\nINJECTOR PARAMETERS\n\n+------------------------------+--------+-------+\n|     Injector parameters      | Value  | Units |\n+------------------------------+--------+-------+\n|  Pressure on oxidiser tank   | 56.52  |  bar  |\n| Temperature on oxidiser tank | 298.15 |   K   |\n|    Pressure on fuel tank     |  60.0  |  bar  |\n|   Temperature on fuel tank   | 298.15 |   K   |\n|     Total mass flow rate     | 0.418  |  kg/s |\n|   Oxidiser mass flow rate    | 0.356  |  kg/s |\n|     Fuel mass flow rate      | 0.062  |  kg/s |\n|     Total oxidiser mass      | 3.561  |   kg  |\n|       Total fuel mass        | 0.621  |   kg  |\n+------------------------------+--------+-------+\n\nGEOMETRIC PARAMETERS\n\n+------------------------+-------+-------+\n|  Geometric parameters  | Value | Units |\n+------------------------+-------+-------+\n| Nozzle throat diameter |  15.4 |   mm  |\n|  Nozzle exit diameter  |  37.7 |   mm  |\n+------------------------+-------+-------+\n"
    }
   ],
   "source": [
    "NOELLE = Motor(\n",
    "    NOX,\n",
    "    LC2H5OH,\n",
    "    thrust = 1000,\n",
    "    burn_time = 10,\n",
    "    p_chamber = 35,\n",
    "    n_cstar = 1,\n",
    "    n_cf = 1,\n",
    "    cd_ox = 0.6,\n",
    "    cd_fuel = 0.182,\n",
    "    phi=1.0\n",
    ")\n",
    "NOELLE.report()\n",
    "NOELLE.report_ptable()"
   ]
  },
  {
   "cell_type": "markdown",
   "metadata": {},
   "source": [
    "## Hydrous Ethanol"
   ]
  },
  {
   "cell_type": "code",
   "execution_count": 81,
   "metadata": {
    "tags": []
   },
   "outputs": [
    {
     "output_type": "stream",
     "name": "stdout",
     "text": "Thrust (N): 1000.00\n\nBurn time (seconds): 10.00\n\nChamber pressure (bar): 35.0\n\nAdiabatic chamber temperature (Kelvin): 3000.6\n\nMolecular Weight of exhaust products (kg/kmol): 26.17\n\nRatio of specific heats of exhaust products: 1.14\n\nOxidiser/fuel mass ratio: 4.01\n\nCombustion efficiency (%): 1.00\n\nThrust coefficient efficiency (%): 1.00\n\nPressure on oxidiser tank (bar): 56.52\n\nTemperature on oxidiser tank (K): 298.15\n\nPressure on fuel tank (bar): 60.00\n\nTemperature on fuel tank (K): 298.15\n\nCharacteristic velocity (m/s): 1531.87\n\nThrust coefficient: 1.53\n\nSpecific impulse (seconds): 238.35\n\nVolumetric Specific impulse (Ns/m³): 1769043.48\n\nTotal mass flow rate (kg/s): 0.428\n\nOxidiser mass flow rate (kg/s): 0.342\n\nFuel mass flow rate (kg/s): 0.085\n\nTotal oxidiser mass (kg): 3.424\n\nTotal fuel mass (kg): 0.853\n\nNozzle throat diameter (mm): 15.4\n\nNozzle exit diameter (mm): 37.7\n\nPERFORMANCE PARAMETERS\n\n+---------------------------------------------+------------+---------+\n|            Performance parameters           |   Value    |  Units  |\n+---------------------------------------------+------------+---------+\n|                    Thrust                   |    1000    |    N    |\n|                  Burn time                  |     10     | Seconds |\n|               Chamber pressure              |     35     |   bar   |\n|        Adiabatic chamber temperature        |  3000.55   |    K    |\n|     Molecular Weight of exhaust products    |   26.17    | kg/kmol |\n| Ratio of specific heats of exhaust products |    1.14    |    -    |\n|            Combustion efficiency            |    100     |    %    |\n|        Thrust coefficient efficiency        |    100     |    %    |\n|           Characteristic velocity           |  1531.87   |   m/s   |\n|              Thrust coefficient             |    1.53    |    -    |\n|               Specific impulse              |   238.35   | Seconds |\n|         Volumetric Specific impulse         | 1769043.48 |  Ns/m³  |\n+---------------------------------------------+------------+---------+\n\nINJECTOR PARAMETERS\n\n+------------------------------+--------+-------+\n|     Injector parameters      | Value  | Units |\n+------------------------------+--------+-------+\n|  Pressure on oxidiser tank   | 56.52  |  bar  |\n| Temperature on oxidiser tank | 298.15 |   K   |\n|    Pressure on fuel tank     |  60.0  |  bar  |\n|   Temperature on fuel tank   | 298.15 |   K   |\n|     Total mass flow rate     | 0.428  |  kg/s |\n|   Oxidiser mass flow rate    | 0.342  |  kg/s |\n|     Fuel mass flow rate      | 0.085  |  kg/s |\n|     Total oxidiser mass      | 3.424  |   kg  |\n|       Total fuel mass        | 0.853  |   kg  |\n+------------------------------+--------+-------+\n\nGEOMETRIC PARAMETERS\n\n+------------------------+-------+-------+\n|  Geometric parameters  | Value | Units |\n+------------------------+-------+-------+\n| Nozzle throat diameter |  15.4 |   mm  |\n|  Nozzle exit diameter  |  37.7 |   mm  |\n+------------------------+-------+-------+\n"
    }
   ],
   "source": [
    "NOELLE = Motor(\n",
    "    NOX,\n",
    "    H2O_30_C2H50H_70,\n",
    "    thrust = 1000,\n",
    "    burn_time = 10,\n",
    "    p_chamber = 35,\n",
    "    n_cstar = 1,\n",
    "    n_cf = 1,\n",
    "    cd_ox = 0.6,\n",
    "    cd_fuel = 0.182,\n",
    "    phi=1.0\n",
    ")\n",
    "NOELLE.report()\n",
    "NOELLE.report_ptable()"
   ]
  },
  {
   "cell_type": "code",
   "execution_count": 82,
   "metadata": {
    "tags": []
   },
   "outputs": [
    {
     "output_type": "stream",
     "name": "stdout",
     "text": "\n *******************************************************************************\n\n         NASA-GLENN CHEMICAL EQUILIBRIUM PROGRAM CEA, OCTOBER 18, 2002\n                   BY  BONNIE MCBRIDE AND SANFORD GORDON\n      REFS: NASA RP-1311, PART I, 1994 AND NASA RP-1311, PART II, 1996\n\n *******************************************************************************\n\n\n\n reac\n  fuel C2H5OH(L) C 2 H 6 O 1 wt%=70 t(k)=298.150 rho=0.790\n  fuel H2O(L) H 2 O 1 wt%=30 t(k)=298.150 rho=1.000\n  oxid NitrousOxide  N 2.0 O 1.0  wt%=100.00\n  h,cal= 19467.0 t(k)=298.15\n  \n prob case=RocketCEA,\n  rocket equilibrium   p,bar=35.000000,  pi/p=35.000000,  supar=5.718453,\n  o/f=4.012590,\n  \n  \n output siunits  transport  massf\n end\n\n OPTIONS: TP=F  HP=F  SP=F  TV=F  UV=F  SV=F  DETN=F  SHOCK=F  REFL=F  INCD=F\n RKT=T  FROZ=F  EQL=T  IONS=F  SIUNIT=T  DEBUGF=F  SHKDBG=F  DETDBG=F  TRNSPT=T\n\n TRACE= 0.00E+00  S/R= 0.000000E+00  H/R= 0.000000E+00  U/R= 0.000000E+00\n\n Pc,BAR =    35.000000\n\n Pc/P =    35.0000\n\n SUBSONIC AREA RATIOS =\n\n SUPERSONIC AREA RATIOS =     5.7185\n\n NFZ=  1  Mdot/Ac= 0.000000E+00  Ac/At= 0.000000E+00\n\n O/F =   4.012590\n\n                       EFFECTIVE FUEL     EFFECTIVE OXIDANT        MIXTURE\n ENTHALPY                  h(2)/R              h(1)/R               h0/R\n (KG-MOL)(K)/KG       -0.10796185E+04      0.22257432E+03     -0.37210111E+02\n\n KG-FORM.WT./KG             bi(2)               bi(1)               b0i\n  *C                   0.30389568E-01      0.00000000E+00      0.60626479E-02\n  *H                   0.12447377E+00      0.00000000E+00      0.24832226E-01\n  *O                   0.31847315E-01      0.22720663E-01      0.24541409E-01\n  *N                   0.00000000E+00      0.45441326E-01      0.36375888E-01\n\n POINT ITN      T            C           H           O           N \n\n   1   23    3000.554     -17.779     -10.707     -15.342     -12.791\n\n Pinf/Pt = 1.737083\n   2    4    2825.357     -18.358     -10.991     -15.589     -12.950\n\n Pinf/Pt = 1.737712\n   2    2    2825.244     -18.358     -10.992     -15.589     -12.950\n\n   3    5    1906.637     -22.953     -13.021     -17.563     -13.742\n\n   4    2    1897.168     -23.022     -13.049     -17.592     -13.749\n\n   4    2    1906.633     -22.953     -13.021     -17.563     -13.742\n\n\n\n\n\n\n              THEORETICAL ROCKET PERFORMANCE ASSUMING EQUILIBRIUM\n\n           COMPOSITION DURING EXPANSION FROM INFINITE AREA COMBUSTOR\n\n Pinj =   507.6 PSIA\n CASE = RocketCEA,     \n\n             REACTANT                    WT FRACTION      ENERGY      TEMP\n                                          (SEE NOTE)     KJ/KG-MOL      K  \n fuel        C2H5OH(L)                   70.0000000         0.000    298.150\n fuel        H2O(L)                      30.0000000         0.000    298.150\n oxid        NitrousOxide               100.0000000     81449.928    298.150\n\n O/F=    4.01259  %FUEL= 19.949766  R,EQ.RATIO= 1.000000  PHI,EQ.RATIO= 1.000000\n\n                 CHAMBER   THROAT     EXIT     EXIT\n Pinf/P            1.0000   1.7377   35.000   35.000\n P, BAR            35.000   20.141   1.0000  0.99999\n T, K             3000.55  2825.24  1906.64  1906.63\n RHO, KG/CU M    3.6715 0 2.2649 0 1.7168-1 1.7168-1\n H, KJ/KG         -309.38  -818.26 -3017.80 -3017.81\n U, KJ/KG        -1262.67 -1707.53 -3600.27 -3600.28\n G, KJ/KG        -30323.5 -29078.7 -22089.6 -22089.6\n S, KJ/(KG)(K)    10.0028  10.0028  10.0028  10.0028\n\n M, (1/n)          26.171   26.415   27.216   27.216\n (dLV/dLP)t      -1.01281 -1.01009 -1.00068 -1.00068\n (dLV/dLT)p        1.2819   1.2368   1.0239   1.0239\n Cp, KJ/(KG)(K)    3.7729   3.5314   1.9094   1.9094\n GAMMAs            1.1436   1.1445   1.2005   1.2005\n SON VEL,M/SEC     1044.1   1008.8    836.2    836.2\n MACH NUMBER        0.000    1.000    2.783    2.783\n\n TRANSPORT PROPERTIES (GASES ONLY)\n   CONDUCTIVITY IN UNITS OF MILLIWATTS/(CM)(K)\n\n VISC,MILLIPOISE  0.99281  0.95205  0.72880  0.72880\n\n  WITH EQUILIBRIUM REACTIONS\n\n Cp, KJ/(KG)(K)    3.7729   3.5314   1.9094   1.9094\n CONDUCTIVITY      7.5772   6.5575   2.1808   2.1808\n PRANDTL NUMBER    0.4943   0.5127   0.6381   0.6381\n\n  WITH FROZEN REACTIONS\n\n Cp, KJ/(KG)(K)    1.7462   1.7368   1.6488   1.6488\n CONDUCTIVITY      2.7233   2.5694   1.7932   1.7932\n PRANDTL NUMBER    0.6366   0.6435   0.6701   0.6701\n\n PERFORMANCE PARAMETERS\n\n Ae/At                      1.0000   5.7185   5.7185\n CSTAR, M/SEC               1531.8   1531.8   1531.8\n CF                         0.6586   1.5194   1.5194\n Ivac, M/SEC                1890.3   2577.7   2577.7\n Isp, M/SEC                 1008.8   2327.4   2327.4\n\n\n MASS FRACTIONS\n\n *CO              0.04891  0.03873  0.00255  0.00255\n *CO2             0.18996  0.20595  0.26281  0.26281\n *H               0.00013  0.00009  0.00000  0.00000\n HO2              0.00004  0.00002  0.00000  0.00000\n *H2              0.00125  0.00098  0.00009  0.00009\n H2O              0.20364  0.20839  0.22262  0.22262\n H2O2             0.00001  0.00000  0.00000  0.00000\n *NO              0.01281  0.00931  0.00043  0.00043\n NO2              0.00002  0.00001  0.00000  0.00000\n *N2              0.50351  0.50515  0.50931  0.50931\n *O               0.00162  0.00103  0.00001  0.00001\n *OH              0.01457  0.01083  0.00048  0.00048\n *O2              0.02351  0.01949  0.00172  0.00172\n\n  * THERMODYNAMIC PROPERTIES FITTED TO 20000.K\n\n    PRODUCTS WHICH WERE CONSIDERED BUT WHOSE MASS FRACTIONS\n    WERE LESS THAN 5.000000E-06 FOR ALL ASSIGNED CONDITIONS\n\n *C              *CH             CH2             CH3             CH2OH          \n CH3O            CH4             CH3OH           CH3OOH          *CN            \n CNN             COOH            *C2             C2H             C2H2,acetylene \n C2H2,vinylidene CH2CO,ketene    O(CH)2O         HO(CO)2OH       C2H3,vinyl     \n CH3CN           CH3CO,acetyl    C2H4            C2H4O,ethylen-o CH3CHO,ethanal \n CH3COOH         OHCH2COOH       C2H5            C2H6            CH3N2CH3       \n C2H5OH          CH3OCH3         CH3O2CH3        CCN             CNC            \n OCCN            C2N2            C2O             *C3             C3H3,1-propynl \n C3H3,2-propynl  C3H4,allene     C3H4,propyne    C3H4,cyclo-     C3H5,allyl     \n C3H6,propylene  C3H6,cyclo-     C3H6O,propylox  C3H6O,acetone   C3H6O,propanal \n C3H7,n-propyl   C3H7,i-propyl   C3H8            C3H8O,1propanol C3H8O,2propanol\n CNCOCN          C3O2            *C4             C4H2,butadiyne  C4H4,1,3-cyclo-\n C4H6,butadiene  C4H6,1butyne    C4H6,2butyne    C4H6,cyclo-     C4H8,1-butene  \n C4H8,cis2-buten C4H8,tr2-butene C4H8,isobutene  C4H8,cyclo-     (CH3COOH)2     \n C4H9,n-butyl    C4H9,i-butyl    C4H9,s-butyl    C4H9,t-butyl    C4H10,n-butane \n C4H10,isobutane C4N2            *C5             C5H6,1,3cyclo-  C5H8,cyclo-    \n C5H10,1-pentene C5H10,cyclo-    C5H11,pentyl    C5H11,t-pentyl  C5H12,n-pentane\n C5H12,i-pentane CH3C(CH3)2CH3   C6H2            C6H5,phenyl     C6H5O,phenoxy  \n C6H6            C6H5OH,phenol   C6H10,cyclo-    C6H12,1-hexene  C6H12,cyclo-   \n C6H13,n-hexyl   C6H14,n-hexane  C7H7,benzyl     C7H8            C7H8O,cresol-mx\n C7H14,1-heptene C7H15,n-heptyl  C7H16,n-heptane C7H16,2-methylh C8H8,styrene   \n C8H10,ethylbenz C8H16,1-octene  C8H17,n-octyl   C8H18,n-octane  C8H18,isooctane\n C9H19,n-nonyl   C10H8,naphthale C10H21,n-decyl  C12H9,o-bipheny C12H10,biphenyl\n HCN             HCO             HCCN            HCCO            HNC            \n HNCO            HNO             HNO2            HNO3            HCHO,formaldehy\n HCOOH           (HCOOH)2        *N              NCO             *NH            \n NH2             NH3             NH2OH           NO3             NCN            \n N2H2            NH2NO2          N2H4            N2O             N2O3           \n N2O4            N2O5            N3              N3H             O3             \n C(gr)           H2O(cr)         H2O(L)         \n\n NOTE. WEIGHT FRACTION OF FUEL IN TOTAL FUELS AND OF OXIDANT IN TOTAL OXIDANTS\n\n\n\n\n"
    }
   ],
   "source": [
    "NOELLE.print_cea_output()"
   ]
  },
  {
   "cell_type": "code",
   "execution_count": 83,
   "metadata": {
    "tags": []
   },
   "outputs": [
    {
     "output_type": "stream",
     "name": "stdout",
     "text": "[list([3000.55, 2825.24, 1906.64, 1906.63])\n list([3.6715, 0.0, 2.2649, 0.0, 1.7168, 1.0, 1.7168, 1.0])\n list([1.1436, 1.1445, 1.2005, 1.2005])\n list([0.99281, 0.95205, 0.7288, 0.7288])\n list([7.5772, 6.5575, 2.1808, 2.1808])\n list([0.4943, 0.5127, 0.6381, 0.6381])]\n"
    }
   ],
   "source": [
    "values = NOELLE.value_cea_output(frozen=False)\n",
    "print(values)"
   ]
  },
  {
   "cell_type": "code",
   "execution_count": 91,
   "metadata": {
    "tags": []
   },
   "outputs": [
    {
     "output_type": "stream",
     "name": "stdout",
     "text": "3.6715\n0.0\n\n2.2649\n0.0\n\n1.7168\n1.0\n\n1.7168\n1.0\n\n[3.6715, 2.2649, 0.17168000000000003, 0.17168000000000003]\n"
    }
   ],
   "source": [
    "\n",
    "        new_density = []\n",
    "        for i in range(len(values[1])-1):\n",
    "            if i % 2 == 0:\n",
    "                new_density.append(values[1][i]*10**(-values[1][i+1]))\n",
    "                print(values[1][i])\n",
    "                print(values[1][i+1])\n",
    "                print('')\n",
    "            else:\n",
    "                continue\n",
    "\n",
    "        print(new_density)"
   ]
  },
  {
   "cell_type": "code",
   "execution_count": null,
   "metadata": {},
   "outputs": [],
   "source": []
  }
 ],
 "metadata": {
  "kernelspec": {
   "display_name": "Python 3.7.7 64-bit ('base': conda)",
   "language": "python",
   "name": "python_defaultSpec_1601148142940"
  },
  "language_info": {
   "codemirror_mode": {
    "name": "ipython",
    "version": 3
   },
   "file_extension": ".py",
   "mimetype": "text/x-python",
   "name": "python",
   "nbconvert_exporter": "python",
   "pygments_lexer": "ipython3",
   "version": "3.8.3-final"
  }
 },
 "nbformat": 4,
 "nbformat_minor": 1
}