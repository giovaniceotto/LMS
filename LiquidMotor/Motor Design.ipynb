{
 "cells": [
  {
   "cell_type": "markdown",
   "metadata": {},
   "source": [
    "# Initialization"
   ]
  },
  {
   "cell_type": "code",
   "execution_count": 1,
   "metadata": {},
   "outputs": [],
   "source": [
    "%load_ext autoreload\n",
    "%autoreload 2"
   ]
  },
  {
   "cell_type": "code",
   "execution_count": 2,
   "metadata": {
    "scrolled": false
   },
   "outputs": [],
   "source": [
    "# Noelle\n",
    "from noelle import Motor, Fluid, FluidMixture\n",
    "\n",
    "# Numpy\n",
    "import numpy as np\n",
    "\n",
    "# Matplotlib\n",
    "from matplotlib import pyplot as plt\n",
    "import matplotlib\n",
    "import matplotlib as mpl\n",
    "from labellines import labelLine, labelLines"
   ]
  },
  {
   "cell_type": "code",
   "execution_count": 3,
   "metadata": {},
   "outputs": [],
   "source": [
    "# Configure plot styles\n",
    "\n",
    "# Sizes\n",
    "mpl.rcParams['figure.figsize'] = [12.0, 6.0]\n",
    "mpl.rcParams['figure.dpi'] = 120\n",
    "mpl.rcParams['savefig.dpi'] = 120\n",
    "\n",
    "# Font\n",
    "font = {'family' : 'normal',\n",
    "        'weight' : 'bold',\n",
    "        'size'   : 22}\n",
    "matplotlib.rc('font', **font)\n",
    "\n",
    "# Style\n",
    "plt.style.use(['science'])"
   ]
  },
  {
   "cell_type": "markdown",
   "metadata": {},
   "source": [
    "# Fuel and Oxidizer Definitions"
   ]
  },
  {
   "cell_type": "code",
   "execution_count": 6,
   "metadata": {
    "scrolled": false,
    "tags": []
   },
   "outputs": [],
   "source": [
    "# Oxidizer\n",
    "NOX =  Fluid(name='N2O', coolprop_name='NitrousOxide', formula=None, fluid_type='oxidizer', storage_temperature=298.15)\n",
    "\n",
    "# Fuels\n",
    "H2O = Fluid(name='H2O(L)', coolprop_name='water', formula='H 2 O 1', fluid_type='fuel', storage_pressure=35e5, storage_temperature=298.15)\n",
    "\n",
    "LC2H5OH = Fluid(name='C2H5OH(L)', coolprop_name='ethanol', formula='C 2 H 6 O 1', fluid_type='fuel', storage_pressure=35e5, storage_temperature=298.15)\n",
    "\n",
    "H2O_30_C2H50H_70 = FluidMixture(fluid1=LC2H5OH, x1=70, fluid2=H2O, x2=30)"
   ]
  },
  {
   "cell_type": "markdown",
   "metadata": {},
   "source": [
    "# Motor Main Parameters Design"
   ]
  },
  {
   "cell_type": "markdown",
   "metadata": {},
   "source": [
    "## Anhydrous Ethanol"
   ]
  },
  {
   "cell_type": "code",
   "execution_count": 7,
   "metadata": {
    "scrolled": false,
    "tags": []
   },
   "outputs": [
    {
     "output_type": "stream",
     "name": "stdout",
     "text": "Thrust (N): 1500.00\n\nBurn time (seconds): 10.00\n\nChamber pressure (bar): 35.0\n\nAdiabatic chamber temperature (Kelvin): 3187.5\n\nMolecular Weight of exhaust products (kg/kmol): 26.32\n\nRatio of specific heats of exhaust products: 1.14\n\nOxidiser/fuel mass ratio: 5.40\n\nCombustion efficiency (%): 1.00\n\nThrust coefficient efficiency (%): 1.00\n\nPressure on oxidiser tank (bar): 56.52\n\nTemperature on oxidiser tank (K): 298.15\n\nPressure on fuel tank (bar): 35.00\n\nTemperature on fuel tank (K): 298.15\n\nCharacteristic velocity (m/s): 1574.63\n\nThrust coefficient: 1.52\n\nSpecific impulse (seconds): 244.67\n\nVolumetric Specific impulse (Ns/m³): 1799345.75\n\nTotal mass flow rate (kg/s): 0.625\n\nOxidiser mass flow rate (kg/s): 0.527\n\nFuel mass flow rate (kg/s): 0.098\n\nTotal oxidiser mass (kg): 5.273\n\nTotal fuel mass (kg): 0.976\n\nNozzle throat diameter (mm): 18.9\n\nNozzle exit diameter (mm): 46.0\n\n"
    }
   ],
   "source": [
    "NOELLE = Motor(\n",
    "    NOX,\n",
    "    LC2H5OH,\n",
    "    thrust = 1500,\n",
    "    burn_time = 10,\n",
    "    p_chamber = 35,\n",
    "    n_cstar = 1,\n",
    "    n_cf = 1,\n",
    "    cd_ox = 0.6,\n",
    "    cd_fuel = 0.182,\n",
    "    suboptimal = 1\n",
    ")\n",
    "NOELLE.report()"
   ]
  },
  {
   "cell_type": "markdown",
   "metadata": {},
   "source": [
    "## Hydrous Ethanol"
   ]
  },
  {
   "cell_type": "code",
   "execution_count": 33,
   "metadata": {
    "tags": []
   },
   "outputs": [
    {
     "output_type": "stream",
     "name": "stdout",
     "text": "Thrust (N): 1500.00\n\nBurn time (seconds): 10.00\n\nChamber pressure (bar): 35.0\n\nAdiabatic chamber temperature (Kelvin): 3000.6\n\nMolecular Weight of exhaust products (kg/kmol): 26.16\n\nRatio of specific heats of exhaust products: 1.14\n\nOxidiser/fuel mass ratio: 4.00\n\nCombustion efficiency (%): 1.00\n\nThrust coefficient efficiency (%): 1.00\n\nPressure on oxidiser tank (bar): 56.52\n\nTemperature on oxidiser tank (K): 298.15\n\nPressure on fuel tank (bar): 35.00\n\nTemperature on fuel tank (K): 298.15\n\nCharacteristic velocity (m/s): 1532.24\n\nThrust coefficient: 1.52\n\nSpecific impulse (seconds): 238.06\n\nVolumetric Specific impulse (Ns/m³): 1767686.65\n\nTotal mass flow rate (kg/s): 0.642\n\nOxidiser mass flow rate (kg/s): 0.514\n\nFuel mass flow rate (kg/s): 0.128\n\nTotal oxidiser mass (kg): 5.138\n\nTotal fuel mass (kg): 1.285\n\nNozzle throat diameter (mm): 18.9\n\nNozzle exit diameter (mm): 46.0\n\n"
    }
   ],
   "source": [
    "NOELLE = Motor(\n",
    "    NOX,\n",
    "    H2O_30_C2H50H_70,\n",
    "    thrust = 1500,\n",
    "    burn_time = 10,\n",
    "    p_chamber = 35,\n",
    "    n_cstar = 1,\n",
    "    n_cf = 1,\n",
    "    cd_ox = 0.6,\n",
    "    cd_fuel = 0.182,\n",
    "    suboptimal = 1\n",
    ")\n",
    "NOELLE.report()"
   ]
  }
 ],
 "metadata": {
  "kernelspec": {
   "display_name": "Python 3",
   "language": "python",
   "name": "python3"
  },
  "language_info": {
   "codemirror_mode": {
    "name": "ipython",
    "version": 3
   },
   "file_extension": ".py",
   "mimetype": "text/x-python",
   "name": "python",
   "nbconvert_exporter": "python",
   "pygments_lexer": "ipython3",
   "version": "3.7.7"
  }
 },
 "nbformat": 4,
 "nbformat_minor": 1
}