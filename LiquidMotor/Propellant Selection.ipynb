{
 "cells": [
  {
   "cell_type": "markdown",
   "metadata": {},
   "source": [
    "# Initialization"
   ]
  },
  {
   "cell_type": "code",
   "execution_count": 1,
   "metadata": {
    "tags": []
   },
   "outputs": [],
   "source": [
    "%load_ext autoreload\n",
    "%autoreload 2"
   ]
  },
  {
   "cell_type": "code",
   "execution_count": 2,
   "metadata": {
    "scrolled": false,
    "tags": []
   },
   "outputs": [],
   "source": [
    "# Noelle\n",
    "from noelle import Motor, Fluid, FluidMixture\n",
    "\n",
    "# Numpy\n",
    "import numpy as np\n",
    "\n",
    "# Matplotlib\n",
    "from matplotlib import pyplot as plt\n",
    "import matplotlib\n",
    "import matplotlib as mpl\n",
    "from labellines import labelLine, labelLines\n",
    "\n",
    "# RocketCEA\n",
    "from rocketcea.biprop_utils.rho_isp_plot_obj import RhoIspPlot"
   ]
  },
  {
   "cell_type": "code",
   "execution_count": 3,
   "metadata": {},
   "outputs": [],
   "source": [
    "# Configure plot styles\n",
    "\n",
    "# Sizes\n",
    "mpl.rcParams['figure.figsize'] = [12.0, 6.0]\n",
    "mpl.rcParams['figure.dpi'] = 120\n",
    "mpl.rcParams['savefig.dpi'] = 120\n",
    "\n",
    "# Font\n",
    "font = {'family' : 'normal',\n",
    "        'weight' : 'bold',\n",
    "        'size'   : 22}\n",
    "matplotlib.rc('font', **font)\n",
    "\n",
    "# Style\n",
    "plt.style.use(['science'])"
   ]
  },
  {
   "cell_type": "markdown",
   "metadata": {},
   "source": [
    "# Fuel and Oxidizer Definitions"
   ]
  },
  {
   "cell_type": "code",
   "execution_count": 5,
   "metadata": {
    "scrolled": false,
    "tags": []
   },
   "outputs": [],
   "source": [
    "# Oxidizers\n",
    "LOX = Fluid(name='O2(L)', coolprop_name='oxygen', formula='O 2', fluid_type='oxidizer', storage_pressure=35e5, storage_temperature=90.17)\n",
    "GOX = Fluid(name='O2(G)', coolprop_name='oxygen', formula='O 2', fluid_type='oxidizer', storage_pressure=35e5, storage_temperature=298.15)\n",
    "NOX =  Fluid(name='N2O', coolprop_name='NitrousOxide', formula=None, fluid_type='oxidizer', storage_temperature=298.15)\n",
    "\n",
    "oxidizers_list = [GOX, LOX, NOX]\n",
    "\n",
    "# Fuels\n",
    "H2O = Fluid(name='H2O(L)', coolprop_name='water', formula='H 2 O 1', fluid_type='fuel', storage_pressure=35e5, storage_temperature=298.15)\n",
    "LCH4 = Fluid(name='CH4(L)', coolprop_name='methane', formula='C 1 H 4', fluid_type='fuel', storage_pressure=1e5)\n",
    "GCH4 = Fluid(name='CH4(G)', coolprop_name='methane', formula='C 1 H 4', fluid_type='fuel', storage_pressure=35e5, storage_temperature=298.15)\n",
    "LC2H5OH = Fluid(name='C2H5OH(L)', coolprop_name='ethanol', formula='C 2 H 6 O 1', fluid_type='fuel', storage_pressure=35e5, storage_temperature=298.15)\n",
    "JetA = Fluid(name='JetA', coolprop_name=None, formula=None, fluid_type='fuel', storage_pressure=35e5, storage_temperature=298.15, storage_density=815, storage_enthalpy=72466.6)\n",
    "\n",
    "# Fuel Blend\n",
    "H2O_30_C2H50H_70 = FluidMixture(fluid1=LC2H5OH, x1=70, fluid2=H2O, x2=30)\n",
    "\n",
    "fuels_list = [LCH4, GCH4, LC2H5OH, JetA, H2O_30_C2H50H_70]"
   ]
  },
  {
   "cell_type": "markdown",
   "metadata": {},
   "source": [
    "# Main Motor Parameters for Selected Propellants"
   ]
  },
  {
   "cell_type": "code",
   "execution_count": 6,
   "metadata": {
    "tags": []
   },
   "outputs": [
    {
     "output_type": "stream",
     "name": "stdout",
     "text": "Thrust (N): 1500.00\n\nBurn time (seconds): 10.00\n\nChamber pressure (bar): 35.0\n\nAdiabatic chamber temperature (Kelvin): 3000.6\n\nMolecular Weight of exhaust products (kg/kmol): 26.16\n\nRatio of specific heats of exhaust products: 1.14\n\nOxidiser/fuel mass ratio: 4.00\n\nCombustion efficiency (%): 1.00\n\nThrust coefficient efficiency (%): 1.00\n\nPressure on oxidiser tank (bar): 56.52\n\nTemperature on oxidiser tank (K): 298.15\n\nPressure on fuel tank (bar): 35.00\n\nTemperature on fuel tank (K): 298.15\n\nCharacteristic velocity (m/s): 1532.24\n\nThrust coefficient: 1.52\n\nSpecific impulse (seconds): 238.06\n\nVolumetric Specific impulse (Ns/m³): 1767686.65\n\nTotal mass flow rate (kg/s): 0.642\n\nOxidiser mass flow rate (kg/s): 0.514\n\nFuel mass flow rate (kg/s): 0.128\n\nTotal oxidiser mass (kg): 5.138\n\nTotal fuel mass (kg): 1.285\n\nNozzle throat diameter (mm): 18.9\n\nNozzle exit diameter (mm): 46.0\n\n"
    }
   ],
   "source": [
    "NOELLE = Motor(\n",
    "    NOX,\n",
    "    H2O_30_C2H50H_70,\n",
    "    thrust = 1500,\n",
    "    burn_time = 10,\n",
    "    p_chamber = 35,\n",
    "    n_cstar = 1,\n",
    "    n_cf = 1,\n",
    "    cd_ox = 0.6,\n",
    "    cd_fuel = 0.182,\n",
    "    suboptimal = 1\n",
    ")\n",
    "NOELLE.report()"
   ]
  },
  {
   "cell_type": "markdown",
   "metadata": {},
   "source": [
    "# Fuel and Oxidizers Comparison\n",
    "\n",
    "Fuel List:\n",
    "    - CH4 (L) - LNG\n",
    "    - CH4 (G) - NG\n",
    "    - C2H6O (L) - Ethanol\n",
    "    - C12H23 (L) - JetA - Kerosene\n",
    "    \n",
    "Oxidizer List:\n",
    "    - O2 (L)\n",
    "    - O2 (G)\n",
    "    - NO2 (L-G)"
   ]
  },
  {
   "cell_type": "markdown",
   "metadata": {
    "heading_collapsed": true
   },
   "source": [
    "## Oxidizer Fuel Combinations"
   ]
  },
  {
   "cell_type": "code",
   "execution_count": 7,
   "metadata": {
    "hidden": true,
    "scrolled": false,
    "tags": []
   },
   "outputs": [
    {
     "output_type": "stream",
     "name": "stdout",
     "text": "Number of combinations: 15\n-----------(O2(G), CH4(L))-----------\nOx name changed to GO2\nThrust (N): 1000.00\n\nBurn time (seconds): 10.00\n\nChamber pressure (bar): 35.0\n\nAdiabatic chamber temperature (Kelvin): 3460.0\n\nMolecular Weight of exhaust products (kg/kmol): 20.46\n\nRatio of specific heats of exhaust products: 1.13\n\nOxidiser/fuel mass ratio: 3.10\n\nCombustion efficiency (%): 0.89\n\nThrust coefficient efficiency (%): 0.95\n\nPressure on oxidiser tank (bar): 35.00\n\nTemperature on oxidiser tank (K): 298.15\n\nPressure on fuel tank (bar): 1.00\n\nTemperature on fuel tank (K): 111.51\n\nCharacteristic velocity (m/s): 1867.34\n\nThrust coefficient: 1.53\n\nSpecific impulse (seconds): 244.78\n\nVolumetric Specific impulse (Ns/m³): 141552.61\n\nTotal mass flow rate (kg/s): 0.416\n\nOxidiser mass flow rate (kg/s): 0.315\n\nFuel mass flow rate (kg/s): 0.102\n\nTotal oxidiser mass (kg): 3.149\n\nTotal fuel mass (kg): 1.016\n\nNozzle throat diameter (mm): 15.8\n\nNozzle exit diameter (mm): 38.8\n\n-----------(O2(G), CH4(G))-----------\nOx name changed to GO2\nFuel name changed to GCH4\nThrust (N): 1000.00\n\nBurn time (seconds): 10.00\n\nChamber pressure (bar): 35.0\n\nAdiabatic chamber temperature (Kelvin): 3468.8\n\nMolecular Weight of exhaust products (kg/kmol): 20.04\n\nRatio of specific heats of exhaust products: 1.13\n\nOxidiser/fuel mass ratio: 3.00\n\nCombustion efficiency (%): 0.89\n\nThrust coefficient efficiency (%): 0.95\n\nPressure on oxidiser tank (bar): 35.00\n\nTemperature on oxidiser tank (K): 298.15\n\nPressure on fuel tank (bar): 35.00\n\nTemperature on fuel tank (K): 298.15\n\nCharacteristic velocity (m/s): 1887.90\n\nThrust coefficient: 1.53\n\nSpecific impulse (seconds): 247.31\n\nVolumetric Specific impulse (Ns/m³): 91060.78\n\nTotal mass flow rate (kg/s): 0.412\n\nOxidiser mass flow rate (kg/s): 0.309\n\nFuel mass flow rate (kg/s): 0.103\n\nTotal oxidiser mass (kg): 3.091\n\nTotal fuel mass (kg): 1.030\n\nNozzle throat diameter (mm): 15.8\n\nNozzle exit diameter (mm): 38.8\n\n-----------(O2(G), C2H5OH(L))-----------\nOx name changed to GO2\nThrust (N): 1000.00\n\nBurn time (seconds): 10.00\n\nChamber pressure (bar): 35.0\n\nAdiabatic chamber temperature (Kelvin): 3375.0\n\nMolecular Weight of exhaust products (kg/kmol): 23.14\n\nRatio of specific heats of exhaust products: 1.13\n\nOxidiser/fuel mass ratio: 1.70\n\nCombustion efficiency (%): 0.89\n\nThrust coefficient efficiency (%): 0.95\n\nPressure on oxidiser tank (bar): 35.00\n\nTemperature on oxidiser tank (K): 298.15\n\nPressure on fuel tank (bar): 35.00\n\nTemperature on fuel tank (K): 298.15\n\nCharacteristic velocity (m/s): 1737.10\n\nThrust coefficient: 1.53\n\nSpecific impulse (seconds): 228.10\n\nVolumetric Specific impulse (Ns/m³): 158523.08\n\nTotal mass flow rate (kg/s): 0.447\n\nOxidiser mass flow rate (kg/s): 0.281\n\nFuel mass flow rate (kg/s): 0.166\n\nTotal oxidiser mass (kg): 2.814\n\nTotal fuel mass (kg): 1.655\n\nNozzle throat diameter (mm): 15.8\n\nNozzle exit diameter (mm): 39.0\n\n-----------(O2(G), JetA)-----------\nOx name changed to GO2\nThrust (N): 1000.00\n\nBurn time (seconds): 10.00\n\nChamber pressure (bar): 35.0\n\nAdiabatic chamber temperature (Kelvin): 3598.1\n\nMolecular Weight of exhaust products (kg/kmol): 22.84\n\nRatio of specific heats of exhaust products: 1.14\n\nOxidiser/fuel mass ratio: 2.50\n\nCombustion efficiency (%): 0.89\n\nThrust coefficient efficiency (%): 0.95\n\nPressure on oxidiser tank (bar): 35.00\n\nTemperature on oxidiser tank (K): 298.15\n\nPressure on fuel tank (bar): 35.00\n\nTemperature on fuel tank (K): 298.15\n\nCharacteristic velocity (m/s): 1800.05\n\nThrust coefficient: 1.53\n\nSpecific impulse (seconds): 235.71\n\nVolumetric Specific impulse (Ns/m³): 146056.88\n\nTotal mass flow rate (kg/s): 0.432\n\nOxidiser mass flow rate (kg/s): 0.309\n\nFuel mass flow rate (kg/s): 0.124\n\nTotal oxidiser mass (kg): 3.089\n\nTotal fuel mass (kg): 1.236\n\nNozzle throat diameter (mm): 15.8\n\nNozzle exit diameter (mm): 38.7\n\n-----------(O2(G), C2H5OH(L)_70_H2O(L)_30)-----------\nOx name changed to GO2\nThrust (N): 1000.00\n\nBurn time (seconds): 10.00\n\nChamber pressure (bar): 35.0\n\nAdiabatic chamber temperature (Kelvin): 3148.3\n\nMolecular Weight of exhaust products (kg/kmol): 24.08\n\nRatio of specific heats of exhaust products: 1.12\n\nOxidiser/fuel mass ratio: 1.40\n\nCombustion efficiency (%): 0.89\n\nThrust coefficient efficiency (%): 0.95\n\nPressure on oxidiser tank (bar): 35.00\n\nTemperature on oxidiser tank (K): 298.15\n\nPressure on fuel tank (bar): 35.00\n\nTemperature on fuel tank (K): 298.15\n\nCharacteristic velocity (m/s): 1647.80\n\nThrust coefficient: 1.54\n\nSpecific impulse (seconds): 216.80\n\nVolumetric Specific impulse (Ns/m³): 161716.79\n\nTotal mass flow rate (kg/s): 0.470\n\nOxidiser mass flow rate (kg/s): 0.274\n\nFuel mass flow rate (kg/s): 0.196\n\nTotal oxidiser mass (kg): 2.743\n\nTotal fuel mass (kg): 1.959\n\nNozzle throat diameter (mm): 15.8\n\nNozzle exit diameter (mm): 39.1\n\n-----------(O2(L), CH4(L))-----------\nThrust (N): 1000.00\n\nBurn time (seconds): 10.00\n\nChamber pressure (bar): 35.0\n\nAdiabatic chamber temperature (Kelvin): 3435.9\n\nMolecular Weight of exhaust products (kg/kmol): 20.92\n\nRatio of specific heats of exhaust products: 1.13\n\nOxidiser/fuel mass ratio: 3.20\n\nCombustion efficiency (%): 0.89\n\nThrust coefficient efficiency (%): 0.95\n\nPressure on oxidiser tank (bar): 35.00\n\nTemperature on oxidiser tank (K): 90.17\n\nPressure on fuel tank (bar): 1.00\n\nTemperature on fuel tank (K): 111.51\n\nCharacteristic velocity (m/s): 1841.21\n\nThrust coefficient: 1.53\n\nSpecific impulse (seconds): 241.51\n\nVolumetric Specific impulse (Ns/m³): 1931317.56\n\nTotal mass flow rate (kg/s): 0.422\n\nOxidiser mass flow rate (kg/s): 0.322\n\nFuel mass flow rate (kg/s): 0.100\n\nTotal oxidiser mass (kg): 3.216\n\nTotal fuel mass (kg): 1.005\n\nNozzle throat diameter (mm): 15.8\n\nNozzle exit diameter (mm): 38.9\n\n-----------(O2(L), CH4(G))-----------\nFuel name changed to GCH4\nThrust (N): 1000.00\n\nBurn time (seconds): 10.00\n\nChamber pressure (bar): 35.0\n\nAdiabatic chamber temperature (Kelvin): 3447.8\n\nMolecular Weight of exhaust products (kg/kmol): 20.50\n\nRatio of specific heats of exhaust products: 1.13\n\nOxidiser/fuel mass ratio: 3.10\n\nCombustion efficiency (%): 0.89\n\nThrust coefficient efficiency (%): 0.95\n\nPressure on oxidiser tank (bar): 35.00\n\nTemperature on oxidiser tank (K): 90.17\n\nPressure on fuel tank (bar): 35.00\n\nTemperature on fuel tank (K): 298.15\n\nCharacteristic velocity (m/s): 1861.87\n\nThrust coefficient: 1.53\n\nSpecific impulse (seconds): 244.06\n\nVolumetric Specific impulse (Ns/m³): 221836.07\n\nTotal mass flow rate (kg/s): 0.418\n\nOxidiser mass flow rate (kg/s): 0.316\n\nFuel mass flow rate (kg/s): 0.102\n\nTotal oxidiser mass (kg): 3.158\n\nTotal fuel mass (kg): 1.019\n\nNozzle throat diameter (mm): 15.8\n\nNozzle exit diameter (mm): 38.8\n\n-----------(O2(L), C2H5OH(L))-----------\nThrust (N): 1000.00\n\nBurn time (seconds): 10.00\n\nChamber pressure (bar): 35.0\n\nAdiabatic chamber temperature (Kelvin): 3336.4\n\nMolecular Weight of exhaust products (kg/kmol): 23.31\n\nRatio of specific heats of exhaust products: 1.13\n\nOxidiser/fuel mass ratio: 1.70\n\nCombustion efficiency (%): 0.89\n\nThrust coefficient efficiency (%): 0.95\n\nPressure on oxidiser tank (bar): 35.00\n\nTemperature on oxidiser tank (K): 90.17\n\nPressure on fuel tank (bar): 35.00\n\nTemperature on fuel tank (K): 298.15\n\nCharacteristic velocity (m/s): 1720.73\n\nThrust coefficient: 1.53\n\nSpecific impulse (seconds): 225.96\n\nVolumetric Specific impulse (Ns/m³): 2177338.87\n\nTotal mass flow rate (kg/s): 0.451\n\nOxidiser mass flow rate (kg/s): 0.284\n\nFuel mass flow rate (kg/s): 0.167\n\nTotal oxidiser mass (kg): 2.840\n\nTotal fuel mass (kg): 1.671\n\nNozzle throat diameter (mm): 15.8\n\nNozzle exit diameter (mm): 39.0\n\n-----------(O2(L), JetA)-----------\nThrust (N): 1000.00\n\nBurn time (seconds): 10.00\n\nChamber pressure (bar): 35.0\n\nAdiabatic chamber temperature (Kelvin): 3555.6\n\nMolecular Weight of exhaust products (kg/kmol): 23.05\n\nRatio of specific heats of exhaust products: 1.14\n\nOxidiser/fuel mass ratio: 2.50\n\nCombustion efficiency (%): 0.89\n\nThrust coefficient efficiency (%): 0.95\n\nPressure on oxidiser tank (bar): 35.00\n\nTemperature on oxidiser tank (K): 90.17\n\nPressure on fuel tank (bar): 35.00\n\nTemperature on fuel tank (K): 298.15\n\nCharacteristic velocity (m/s): 1781.60\n\nThrust coefficient: 1.53\n\nSpecific impulse (seconds): 233.31\n\nVolumetric Specific impulse (Ns/m³): 2353685.62\n\nTotal mass flow rate (kg/s): 0.437\n\nOxidiser mass flow rate (kg/s): 0.312\n\nFuel mass flow rate (kg/s): 0.125\n\nTotal oxidiser mass (kg): 3.121\n\nTotal fuel mass (kg): 1.248\n\nNozzle throat diameter (mm): 15.8\n\nNozzle exit diameter (mm): 38.7\n\n-----------(O2(L), C2H5OH(L)_70_H2O(L)_30)-----------\nThrust (N): 1000.00\n\nBurn time (seconds): 10.00\n\nChamber pressure (bar): 35.0\n\nAdiabatic chamber temperature (Kelvin): 3109.3\n\nMolecular Weight of exhaust products (kg/kmol): 24.24\n\nRatio of specific heats of exhaust products: 1.12\n\nOxidiser/fuel mass ratio: 1.40\n\nCombustion efficiency (%): 0.89\n\nThrust coefficient efficiency (%): 0.95\n\nPressure on oxidiser tank (bar): 35.00\n\nTemperature on oxidiser tank (K): 90.17\n\nPressure on fuel tank (bar): 35.00\n\nTemperature on fuel tank (K): 298.15\n\nCharacteristic velocity (m/s): 1632.08\n\nThrust coefficient: 1.54\n\nSpecific impulse (seconds): 214.74\n\nVolumetric Specific impulse (Ns/m³): 2071720.75\n\nTotal mass flow rate (kg/s): 0.475\n\nOxidiser mass flow rate (kg/s): 0.277\n\nFuel mass flow rate (kg/s): 0.198\n\nTotal oxidiser mass (kg): 2.769\n\nTotal fuel mass (kg): 1.978\n\nNozzle throat diameter (mm): 15.8\n\nNozzle exit diameter (mm): 39.1\n\n-----------(N2O, CH4(L))-----------\nThrust (N): 1000.00\n\nBurn time (seconds): 10.00\n\nChamber pressure (bar): 35.0\n\nAdiabatic chamber temperature (Kelvin): 3257.8\n\nMolecular Weight of exhaust products (kg/kmol): 25.32\n\nRatio of specific heats of exhaust products: 1.15\n\nOxidiser/fuel mass ratio: 10.00\n\nCombustion efficiency (%): 0.89\n\nThrust coefficient efficiency (%): 0.95\n\nPressure on oxidiser tank (bar): 56.52\n\nTemperature on oxidiser tank (K): 298.15\n\nPressure on fuel tank (bar): 1.00\n\nTemperature on fuel tank (K): 111.51\n\nCharacteristic velocity (m/s): 1621.03\n\nThrust coefficient: 1.52\n\nSpecific impulse (seconds): 211.52\n\nVolumetric Specific impulse (Ns/m³): 1442236.79\n\nTotal mass flow rate (kg/s): 0.482\n\nOxidiser mass flow rate (kg/s): 0.438\n\nFuel mass flow rate (kg/s): 0.044\n\nTotal oxidiser mass (kg): 4.381\n\nTotal fuel mass (kg): 0.438\n\nNozzle throat diameter (mm): 15.9\n\nNozzle exit diameter (mm): 38.4\n\n-----------(N2O, CH4(G))-----------\nFuel name changed to GCH4\nThrust (N): 1000.00\n\nBurn time (seconds): 10.00\n\nChamber pressure (bar): 35.0\n\nAdiabatic chamber temperature (Kelvin): 3277.1\n\nMolecular Weight of exhaust products (kg/kmol): 25.27\n\nRatio of specific heats of exhaust products: 1.15\n\nOxidiser/fuel mass ratio: 10.00\n\nCombustion efficiency (%): 0.89\n\nThrust coefficient efficiency (%): 0.95\n\nPressure on oxidiser tank (bar): 56.52\n\nTemperature on oxidiser tank (K): 298.15\n\nPressure on fuel tank (bar): 35.00\n\nTemperature on fuel tank (K): 298.15\n\nCharacteristic velocity (m/s): 1627.69\n\nThrust coefficient: 1.52\n\nSpecific impulse (seconds): 212.40\n\nVolumetric Specific impulse (Ns/m³): 416643.76\n\nTotal mass flow rate (kg/s): 0.480\n\nOxidiser mass flow rate (kg/s): 0.436\n\nFuel mass flow rate (kg/s): 0.044\n\nTotal oxidiser mass (kg): 4.363\n\nTotal fuel mass (kg): 0.436\n\nNozzle throat diameter (mm): 15.9\n\nNozzle exit diameter (mm): 38.4\n\n-----------(N2O, C2H5OH(L))-----------\nThrust (N): 1000.00\n\nBurn time (seconds): 10.00\n\nChamber pressure (bar): 35.0\n\nAdiabatic chamber temperature (Kelvin): 3187.5\n\nMolecular Weight of exhaust products (kg/kmol): 26.32\n\nRatio of specific heats of exhaust products: 1.14\n\nOxidiser/fuel mass ratio: 5.40\n\nCombustion efficiency (%): 0.89\n\nThrust coefficient efficiency (%): 0.95\n\nPressure on oxidiser tank (bar): 56.52\n\nTemperature on oxidiser tank (K): 298.15\n\nPressure on fuel tank (bar): 35.00\n\nTemperature on fuel tank (K): 298.15\n\nCharacteristic velocity (m/s): 1574.63\n\nThrust coefficient: 1.52\n\nSpecific impulse (seconds): 205.71\n\nVolumetric Specific impulse (Ns/m³): 1512799.94\n\nTotal mass flow rate (kg/s): 0.496\n\nOxidiser mass flow rate (kg/s): 0.418\n\nFuel mass flow rate (kg/s): 0.077\n\nTotal oxidiser mass (kg): 4.181\n\nTotal fuel mass (kg): 0.774\n\nNozzle throat diameter (mm): 15.8\n\nNozzle exit diameter (mm): 38.5\n\n-----------(N2O, JetA)-----------\nThrust (N): 1000.00\n\nBurn time (seconds): 10.00\n\nChamber pressure (bar): 35.0\n\nAdiabatic chamber temperature (Kelvin): 3342.4\n\nMolecular Weight of exhaust products (kg/kmol): 26.76\n\nRatio of specific heats of exhaust products: 1.15\n\nOxidiser/fuel mass ratio: 8.40\n\nCombustion efficiency (%): 0.89\n\nThrust coefficient efficiency (%): 0.95\n\nPressure on oxidiser tank (bar): 56.52\n\nTemperature on oxidiser tank (K): 298.15\n\nPressure on fuel tank (bar): 35.00\n\nTemperature on fuel tank (K): 298.15\n\nCharacteristic velocity (m/s): 1597.20\n\nThrust coefficient: 1.52\n\nSpecific impulse (seconds): 208.43\n\nVolumetric Specific impulse (Ns/m³): 1533468.72\n\nTotal mass flow rate (kg/s): 0.489\n\nOxidiser mass flow rate (kg/s): 0.437\n\nFuel mass flow rate (kg/s): 0.052\n\nTotal oxidiser mass (kg): 4.370\n\nTotal fuel mass (kg): 0.520\n\nNozzle throat diameter (mm): 15.9\n\nNozzle exit diameter (mm): 38.4\n\n-----------(N2O, C2H5OH(L)_70_H2O(L)_30)-----------\nThrust (N): 1000.00\n\nBurn time (seconds): 10.00\n\nChamber pressure (bar): 35.0\n\nAdiabatic chamber temperature (Kelvin): 3000.6\n\nMolecular Weight of exhaust products (kg/kmol): 26.16\n\nRatio of specific heats of exhaust products: 1.14\n\nOxidiser/fuel mass ratio: 4.00\n\nCombustion efficiency (%): 0.89\n\nThrust coefficient efficiency (%): 0.95\n\nPressure on oxidiser tank (bar): 56.52\n\nTemperature on oxidiser tank (K): 298.15\n\nPressure on fuel tank (bar): 35.00\n\nTemperature on fuel tank (K): 298.15\n\nCharacteristic velocity (m/s): 1532.24\n\nThrust coefficient: 1.52\n\nSpecific impulse (seconds): 200.15\n\nVolumetric Specific impulse (Ns/m³): 1486182.55\n\nTotal mass flow rate (kg/s): 0.509\n\nOxidiser mass flow rate (kg/s): 0.407\n\nFuel mass flow rate (kg/s): 0.102\n\nTotal oxidiser mass (kg): 4.075\n\nTotal fuel mass (kg): 1.019\n\nNozzle throat diameter (mm): 15.9\n\nNozzle exit diameter (mm): 38.5\n\n"
    }
   ],
   "source": [
    "# Combinations\n",
    "import itertools\n",
    "oxidizer_fuel_combinations = list(itertools.product(oxidizers_list, fuels_list))\n",
    "\n",
    "print(\"Number of combinations:\", len(oxidizer_fuel_combinations))\n",
    "for combination in oxidizer_fuel_combinations:\n",
    "    print(\"-----------\"+str(combination)+\"-----------\")\n",
    "    test_motor = Motor(\n",
    "        combination[0],\n",
    "        combination[1],\n",
    "        thrust = 1000,\n",
    "        burn_time = 10,\n",
    "        p_chamber = 35,\n",
    "        n_cstar = 0.885,\n",
    "        n_cf = 0.95,\n",
    "        cd_ox = 0.4,\n",
    "        cd_fuel = 0.4\n",
    "    )\n",
    "    test_motor.report()"
   ]
  },
  {
   "cell_type": "code",
   "execution_count": 8,
   "metadata": {
    "hidden": true,
    "tags": []
   },
   "outputs": [
    {
     "output_type": "stream",
     "name": "stdout",
     "text": "Ox name changed to GO2\nTest Motor - Oxidizer: *O2(G)* | Fuel: *CH4(L)* | Isp: *244.8* s | Iv: *1415.5* 10^3 Ns/m³ | c*: 1867.3 m/s\nOx name changed to GO2\nFuel name changed to GCH4\nTest Motor - Oxidizer: *O2(G)* | Fuel: *CH4(G)* | Isp: *247.3* s | Iv: *910.6* 10^3 Ns/m³ | c*: 1887.9 m/s\nOx name changed to GO2\nTest Motor - Oxidizer: *O2(G)* | Fuel: *C2H5OH(L)* | Isp: *228.1* s | Iv: *1585.2* 10^3 Ns/m³ | c*: 1737.1 m/s\nOx name changed to GO2\nTest Motor - Oxidizer: *O2(G)* | Fuel: *JetA* | Isp: *235.7* s | Iv: *1460.6* 10^3 Ns/m³ | c*: 1800.0 m/s\nOx name changed to GO2\nTest Motor - Oxidizer: *O2(G)* | Fuel: *C2H5OH(L)_70_H2O(L)_30* | Isp: *216.8* s | Iv: *1617.2* 10^3 Ns/m³ | c*: 1647.8 m/s\nTest Motor - Oxidizer: *O2(L)* | Fuel: *CH4(L)* | Isp: *241.5* s | Iv: *19313.2* 10^3 Ns/m³ | c*: 1841.2 m/s\nFuel name changed to GCH4\nTest Motor - Oxidizer: *O2(L)* | Fuel: *CH4(G)* | Isp: *244.1* s | Iv: *2218.4* 10^3 Ns/m³ | c*: 1861.9 m/s\nTest Motor - Oxidizer: *O2(L)* | Fuel: *C2H5OH(L)* | Isp: *226.0* s | Iv: *21773.4* 10^3 Ns/m³ | c*: 1720.7 m/s\nTest Motor - Oxidizer: *O2(L)* | Fuel: *JetA* | Isp: *233.3* s | Iv: *23536.9* 10^3 Ns/m³ | c*: 1781.6 m/s\nTest Motor - Oxidizer: *O2(L)* | Fuel: *C2H5OH(L)_70_H2O(L)_30* | Isp: *214.7* s | Iv: *20717.2* 10^3 Ns/m³ | c*: 1632.1 m/s\nTest Motor - Oxidizer: *N2O* | Fuel: *CH4(L)* | Isp: *211.5* s | Iv: *14422.4* 10^3 Ns/m³ | c*: 1621.0 m/s\nFuel name changed to GCH4\nTest Motor - Oxidizer: *N2O* | Fuel: *CH4(G)* | Isp: *212.4* s | Iv: *4166.4* 10^3 Ns/m³ | c*: 1627.7 m/s\nTest Motor - Oxidizer: *N2O* | Fuel: *C2H5OH(L)* | Isp: *205.7* s | Iv: *15128.0* 10^3 Ns/m³ | c*: 1574.6 m/s\nTest Motor - Oxidizer: *N2O* | Fuel: *JetA* | Isp: *208.4* s | Iv: *15334.7* 10^3 Ns/m³ | c*: 1597.2 m/s\nTest Motor - Oxidizer: *N2O* | Fuel: *C2H5OH(L)_70_H2O(L)_30* | Isp: *200.1* s | Iv: *14861.8* 10^3 Ns/m³ | c*: 1532.2 m/s\n"
    }
   ],
   "source": [
    "# Combinations\n",
    "import itertools\n",
    "oxidizer_fuel_combinations = list(itertools.product(oxidizers_list, fuels_list))\n",
    "\n",
    "for combination in oxidizer_fuel_combinations:\n",
    "    # Extract fuel and oxidizer\n",
    "    oxidizer = combination[0]\n",
    "    fuel = combination[1]\n",
    "    # Create test motor\n",
    "    test_motor = Motor(oxidizer,\n",
    "                        fuel,\n",
    "                        thrust = 1000,\n",
    "                        burn_time = 10,\n",
    "                        p_chamber = 35,\n",
    "                        n_cstar = 0.885,\n",
    "                        n_cf = 0.95,\n",
    "                        cd_ox = 0.4,\n",
    "                        cd_fuel = 0.4)\n",
    "    print(\"Test Motor - Oxidizer: *\"+str(oxidizer)+\"* | Fuel: *\"+str(fuel)+\"* | Isp: *{:0.1f}* s | Iv: *{:0.1f}* 10^3 Ns/m³ | c*: {:0.1f} m/s\".format(test_motor.Isp, test_motor.Iv/100, test_motor.cstar))\n",
    "    "
   ]
  },
  {
   "cell_type": "markdown",
   "metadata": {
    "heading_collapsed": true
   },
   "source": [
    "## $I_{sp}$ and $\\rho \\cdot I_{sp}$ Comparison"
   ]
  },
  {
   "cell_type": "code",
   "execution_count": 9,
   "metadata": {
    "hidden": true,
    "tags": []
   },
   "outputs": [
    {
     "output_type": "stream",
     "name": "stdout",
     "text": "Ox name changed to GO2\nOx name changed to GO2\nOx name changed to GO2\nOx name changed to GO2\nOx name changed to GO2\nOx name changed to GO2\nOx name changed to GO2\nOx name changed to GO2\nOx name changed to GO2\nOx name changed to GO2\nOx name changed to GO2\nOx name changed to GO2\nOx name changed to GO2\nOx name changed to GO2\nOx name changed to GO2\nOx name changed to GO2\nOx name changed to GO2\nOx name changed to GO2\nOx name changed to GO2\nOx name changed to GO2\nTest Motor - Oxidizer: *O2(G)* | Fuel: *CH4(L)* | Isp: *234.9* s | Iv: *1292.0* 10^3 Ns/m³\nOx name changed to GO2\nFuel name changed to GCH4\nOx name changed to GO2\nFuel name changed to GCH4\nOx name changed to GO2\nFuel name changed to GCH4\nOx name changed to GO2\nFuel name changed to GCH4\nOx name changed to GO2\nFuel name changed to GCH4\nOx name changed to GO2\nFuel name changed to GCH4\nOx name changed to GO2\nFuel name changed to GCH4\nOx name changed to GO2\nFuel name changed to GCH4\nOx name changed to GO2\nFuel name changed to GCH4\nOx name changed to GO2\nFuel name changed to GCH4\nOx name changed to GO2\nFuel name changed to GCH4\nOx name changed to GO2\nFuel name changed to GCH4\nOx name changed to GO2\nFuel name changed to GCH4\nOx name changed to GO2\nFuel name changed to GCH4\nOx name changed to GO2\nFuel name changed to GCH4\nOx name changed to GO2\nFuel name changed to GCH4\nOx name changed to GO2\nFuel name changed to GCH4\nOx name changed to GO2\nFuel name changed to GCH4\nOx name changed to GO2\nFuel name changed to GCH4\nOx name changed to GO2\nFuel name changed to GCH4\nTest Motor - Oxidizer: *O2(G)* | Fuel: *CH4(G)* | Isp: *237.7* s | Iv: *906.3* 10^3 Ns/m³\nOx name changed to GO2\nOx name changed to GO2\nOx name changed to GO2\nOx name changed to GO2\nOx name changed to GO2\nOx name changed to GO2\nOx name changed to GO2\nOx name changed to GO2\nOx name changed to GO2\nOx name changed to GO2\nOx name changed to GO2\nOx name changed to GO2\nOx name changed to GO2\nOx name changed to GO2\nOx name changed to GO2\nOx name changed to GO2\nOx name changed to GO2\nOx name changed to GO2\nOx name changed to GO2\nOx name changed to GO2\nTest Motor - Oxidizer: *O2(G)* | Fuel: *C2H5OH(L)* | Isp: *221.1* s | Iv: *1416.1* 10^3 Ns/m³\nOx name changed to GO2\nOx name changed to GO2\nOx name changed to GO2\nOx name changed to GO2\nOx name changed to GO2\nOx name changed to GO2\nOx name changed to GO2\nOx name changed to GO2\nOx name changed to GO2\nOx name changed to GO2\nOx name changed to GO2\nOx name changed to GO2\nOx name changed to GO2\nOx name changed to GO2\nOx name changed to GO2\nOx name changed to GO2\nOx name changed to GO2\nOx name changed to GO2\nOx name changed to GO2\nOx name changed to GO2\nTest Motor - Oxidizer: *O2(G)* | Fuel: *JetA* | Isp: *227.6* s | Iv: *1323.9* 10^3 Ns/m³\nOx name changed to GO2\nOx name changed to GO2\nOx name changed to GO2\nOx name changed to GO2\nOx name changed to GO2\nOx name changed to GO2\nOx name changed to GO2\nOx name changed to GO2\nOx name changed to GO2\nOx name changed to GO2\nOx name changed to GO2\nOx name changed to GO2\nOx name changed to GO2\nOx name changed to GO2\nOx name changed to GO2\nOx name changed to GO2\nOx name changed to GO2\nOx name changed to GO2\nOx name changed to GO2\nOx name changed to GO2\nTest Motor - Oxidizer: *O2(G)* | Fuel: *C2H5OH(L)_70_H2O(L)_30* | Isp: *209.3* s | Iv: *1424.1* 10^3 Ns/m³\nTest Motor - Oxidizer: *O2(L)* | Fuel: *CH4(L)* | Isp: *231.0* s | Iv: *19527.6* 10^3 Ns/m³\nFuel name changed to GCH4\nFuel name changed to GCH4\nFuel name changed to GCH4\nFuel name changed to GCH4\nFuel name changed to GCH4\nFuel name changed to GCH4\nFuel name changed to GCH4\nFuel name changed to GCH4\nFuel name changed to GCH4\nFuel name changed to GCH4\nFuel name changed to GCH4\nFuel name changed to GCH4\nFuel name changed to GCH4\nFuel name changed to GCH4\nFuel name changed to GCH4\nFuel name changed to GCH4\nFuel name changed to GCH4\nFuel name changed to GCH4\nFuel name changed to GCH4\nFuel name changed to GCH4\nTest Motor - Oxidizer: *O2(L)* | Fuel: *CH4(G)* | Isp: *233.8* s | Iv: *2560.4* 10^3 Ns/m³\nTest Motor - Oxidizer: *O2(L)* | Fuel: *C2H5OH(L)* | Isp: *218.9* s | Iv: *21589.4* 10^3 Ns/m³\nTest Motor - Oxidizer: *O2(L)* | Fuel: *JetA* | Isp: *225.3* s | Iv: *23152.4* 10^3 Ns/m³\nTest Motor - Oxidizer: *O2(L)* | Fuel: *C2H5OH(L)_70_H2O(L)_30* | Isp: *206.8* s | Iv: *20391.1* 10^3 Ns/m³\nTest Motor - Oxidizer: *N2O* | Fuel: *CH4(L)* | Isp: *204.6* s | Iv: *14145.5* 10^3 Ns/m³\nFuel name changed to GCH4\nFuel name changed to GCH4\nFuel name changed to GCH4\nFuel name changed to GCH4\nFuel name changed to GCH4\nFuel name changed to GCH4\nFuel name changed to GCH4\nFuel name changed to GCH4\nFuel name changed to GCH4\nFuel name changed to GCH4\nFuel name changed to GCH4\nFuel name changed to GCH4\nFuel name changed to GCH4\nFuel name changed to GCH4\nFuel name changed to GCH4\nFuel name changed to GCH4\nFuel name changed to GCH4\nFuel name changed to GCH4\nFuel name changed to GCH4\nFuel name changed to GCH4\nTest Motor - Oxidizer: *N2O* | Fuel: *CH4(G)* | Isp: *205.3* s | Iv: *4775.8* 10^3 Ns/m³\nTest Motor - Oxidizer: *N2O* | Fuel: *C2H5OH(L)* | Isp: *199.8* s | Iv: *14669.5* 10^3 Ns/m³\nTest Motor - Oxidizer: *N2O* | Fuel: *JetA* | Isp: *202.6* s | Iv: *14873.2* 10^3 Ns/m³\nTest Motor - Oxidizer: *N2O* | Fuel: *C2H5OH(L)_70_H2O(L)_30* | Isp: *194.1* s | Iv: *14359.6* 10^3 Ns/m³\n"
    }
   ],
   "source": [
    "# Combinations\n",
    "import itertools\n",
    "oxidizer_fuel_combinations = list(itertools.product(oxidizers_list, fuels_list))\n",
    "\n",
    "results_x = []\n",
    "results_y = []\n",
    "\n",
    "for combination in oxidizer_fuel_combinations:\n",
    "    sub_result_x = []\n",
    "    sub_result_y = []\n",
    "    # Extract fuel and oxidizer\n",
    "    oxidizer = combination[0]\n",
    "    fuel = combination[1]\n",
    "    for suboptimal in np.linspace(0.7, 1.3, 20):\n",
    "        # Create test motor\n",
    "        test_motor = Motor(oxidizer,\n",
    "                            fuel,\n",
    "                            thrust = 1000,\n",
    "                            burn_time = 10,\n",
    "                            p_chamber = 35,\n",
    "                            n_cstar = 0.885,\n",
    "                            n_cf = 0.95,\n",
    "                            cd_ox = 0.4,\n",
    "                            cd_fuel = 0.4,\n",
    "                            suboptimal = suboptimal)\n",
    "        sub_result_x.append(test_motor.propellant_storage_density)\n",
    "        sub_result_y.append(test_motor.Isp)\n",
    "    \n",
    "    results_x.append(sub_result_x) \n",
    "    results_y.append(sub_result_y)\n",
    "   \n",
    "    print(\"Test Motor - Oxidizer: *\"+str(oxidizer)+\"* | Fuel: *\"+str(fuel)+\"* | Isp: *{:0.1f}* s | Iv: *{:0.1f}* 10^3 Ns/m³\".format(test_motor.Isp, test_motor.Iv/100))"
   ]
  },
  {
   "cell_type": "code",
   "execution_count": 10,
   "metadata": {
    "hidden": true
   },
   "outputs": [
    {
     "output_type": "error",
     "ename": "RuntimeError",
     "evalue": "Failed to process string with tex because latex could not be found",
     "traceback": [
      "\u001b[1;31m---------------------------------------------------------------------------\u001b[0m",
      "\u001b[1;31mFileNotFoundError\u001b[0m                         Traceback (most recent call last)",
      "\u001b[1;32m~\\miniconda3\\lib\\site-packages\\matplotlib\\texmanager.py\u001b[0m in \u001b[0;36m_run_checked_subprocess\u001b[1;34m(self, command, tex)\u001b[0m\n\u001b[0;32m    305\u001b[0m                                              \u001b[0mcwd\u001b[0m\u001b[1;33m=\u001b[0m\u001b[0mself\u001b[0m\u001b[1;33m.\u001b[0m\u001b[0mtexcache\u001b[0m\u001b[1;33m,\u001b[0m\u001b[1;33m\u001b[0m\u001b[1;33m\u001b[0m\u001b[0m\n\u001b[1;32m--> 306\u001b[1;33m                                              stderr=subprocess.STDOUT)\n\u001b[0m\u001b[0;32m    307\u001b[0m         \u001b[1;32mexcept\u001b[0m \u001b[0mFileNotFoundError\u001b[0m \u001b[1;32mas\u001b[0m \u001b[0mexc\u001b[0m\u001b[1;33m:\u001b[0m\u001b[1;33m\u001b[0m\u001b[1;33m\u001b[0m\u001b[0m\n",
      "\u001b[1;32m~\\miniconda3\\lib\\subprocess.py\u001b[0m in \u001b[0;36mcheck_output\u001b[1;34m(timeout, *popenargs, **kwargs)\u001b[0m\n\u001b[0;32m    410\u001b[0m     return run(*popenargs, stdout=PIPE, timeout=timeout, check=True,\n\u001b[1;32m--> 411\u001b[1;33m                **kwargs).stdout\n\u001b[0m\u001b[0;32m    412\u001b[0m \u001b[1;33m\u001b[0m\u001b[0m\n",
      "\u001b[1;32m~\\miniconda3\\lib\\subprocess.py\u001b[0m in \u001b[0;36mrun\u001b[1;34m(input, capture_output, timeout, check, *popenargs, **kwargs)\u001b[0m\n\u001b[0;32m    487\u001b[0m \u001b[1;33m\u001b[0m\u001b[0m\n\u001b[1;32m--> 488\u001b[1;33m     \u001b[1;32mwith\u001b[0m \u001b[0mPopen\u001b[0m\u001b[1;33m(\u001b[0m\u001b[1;33m*\u001b[0m\u001b[0mpopenargs\u001b[0m\u001b[1;33m,\u001b[0m \u001b[1;33m**\u001b[0m\u001b[0mkwargs\u001b[0m\u001b[1;33m)\u001b[0m \u001b[1;32mas\u001b[0m \u001b[0mprocess\u001b[0m\u001b[1;33m:\u001b[0m\u001b[1;33m\u001b[0m\u001b[1;33m\u001b[0m\u001b[0m\n\u001b[0m\u001b[0;32m    489\u001b[0m         \u001b[1;32mtry\u001b[0m\u001b[1;33m:\u001b[0m\u001b[1;33m\u001b[0m\u001b[1;33m\u001b[0m\u001b[0m\n",
      "\u001b[1;32m~\\miniconda3\\lib\\subprocess.py\u001b[0m in \u001b[0;36m__init__\u001b[1;34m(self, args, bufsize, executable, stdin, stdout, stderr, preexec_fn, close_fds, shell, cwd, env, universal_newlines, startupinfo, creationflags, restore_signals, start_new_session, pass_fds, encoding, errors, text)\u001b[0m\n\u001b[0;32m    799\u001b[0m                                 \u001b[0merrread\u001b[0m\u001b[1;33m,\u001b[0m \u001b[0merrwrite\u001b[0m\u001b[1;33m,\u001b[0m\u001b[1;33m\u001b[0m\u001b[1;33m\u001b[0m\u001b[0m\n\u001b[1;32m--> 800\u001b[1;33m                                 restore_signals, start_new_session)\n\u001b[0m\u001b[0;32m    801\u001b[0m         \u001b[1;32mexcept\u001b[0m\u001b[1;33m:\u001b[0m\u001b[1;33m\u001b[0m\u001b[1;33m\u001b[0m\u001b[0m\n",
      "\u001b[1;32m~\\miniconda3\\lib\\subprocess.py\u001b[0m in \u001b[0;36m_execute_child\u001b[1;34m(self, args, executable, preexec_fn, close_fds, pass_fds, cwd, env, startupinfo, creationflags, shell, p2cread, p2cwrite, c2pread, c2pwrite, errread, errwrite, unused_restore_signals, unused_start_new_session)\u001b[0m\n\u001b[0;32m   1206\u001b[0m                                          \u001b[0mos\u001b[0m\u001b[1;33m.\u001b[0m\u001b[0mfspath\u001b[0m\u001b[1;33m(\u001b[0m\u001b[0mcwd\u001b[0m\u001b[1;33m)\u001b[0m \u001b[1;32mif\u001b[0m \u001b[0mcwd\u001b[0m \u001b[1;32mis\u001b[0m \u001b[1;32mnot\u001b[0m \u001b[1;32mNone\u001b[0m \u001b[1;32melse\u001b[0m \u001b[1;32mNone\u001b[0m\u001b[1;33m,\u001b[0m\u001b[1;33m\u001b[0m\u001b[1;33m\u001b[0m\u001b[0m\n\u001b[1;32m-> 1207\u001b[1;33m                                          startupinfo)\n\u001b[0m\u001b[0;32m   1208\u001b[0m             \u001b[1;32mfinally\u001b[0m\u001b[1;33m:\u001b[0m\u001b[1;33m\u001b[0m\u001b[1;33m\u001b[0m\u001b[0m\n",
      "\u001b[1;31mFileNotFoundError\u001b[0m: [WinError 2] The system cannot find the file specified",
      "\nThe above exception was the direct cause of the following exception:\n",
      "\u001b[1;31mRuntimeError\u001b[0m                              Traceback (most recent call last)",
      "\u001b[1;32m~\\miniconda3\\lib\\site-packages\\IPython\\core\\formatters.py\u001b[0m in \u001b[0;36m__call__\u001b[1;34m(self, obj)\u001b[0m\n\u001b[0;32m    339\u001b[0m                 \u001b[1;32mpass\u001b[0m\u001b[1;33m\u001b[0m\u001b[1;33m\u001b[0m\u001b[0m\n\u001b[0;32m    340\u001b[0m             \u001b[1;32melse\u001b[0m\u001b[1;33m:\u001b[0m\u001b[1;33m\u001b[0m\u001b[1;33m\u001b[0m\u001b[0m\n\u001b[1;32m--> 341\u001b[1;33m                 \u001b[1;32mreturn\u001b[0m \u001b[0mprinter\u001b[0m\u001b[1;33m(\u001b[0m\u001b[0mobj\u001b[0m\u001b[1;33m)\u001b[0m\u001b[1;33m\u001b[0m\u001b[1;33m\u001b[0m\u001b[0m\n\u001b[0m\u001b[0;32m    342\u001b[0m             \u001b[1;31m# Finally look for special method names\u001b[0m\u001b[1;33m\u001b[0m\u001b[1;33m\u001b[0m\u001b[1;33m\u001b[0m\u001b[0m\n\u001b[0;32m    343\u001b[0m             \u001b[0mmethod\u001b[0m \u001b[1;33m=\u001b[0m \u001b[0mget_real_method\u001b[0m\u001b[1;33m(\u001b[0m\u001b[0mobj\u001b[0m\u001b[1;33m,\u001b[0m \u001b[0mself\u001b[0m\u001b[1;33m.\u001b[0m\u001b[0mprint_method\u001b[0m\u001b[1;33m)\u001b[0m\u001b[1;33m\u001b[0m\u001b[1;33m\u001b[0m\u001b[0m\n",
      "\u001b[1;32m~\\miniconda3\\lib\\site-packages\\IPython\\core\\pylabtools.py\u001b[0m in \u001b[0;36m<lambda>\u001b[1;34m(fig)\u001b[0m\n\u001b[0;32m    252\u001b[0m         \u001b[0mjpg_formatter\u001b[0m\u001b[1;33m.\u001b[0m\u001b[0mfor_type\u001b[0m\u001b[1;33m(\u001b[0m\u001b[0mFigure\u001b[0m\u001b[1;33m,\u001b[0m \u001b[1;32mlambda\u001b[0m \u001b[0mfig\u001b[0m\u001b[1;33m:\u001b[0m \u001b[0mprint_figure\u001b[0m\u001b[1;33m(\u001b[0m\u001b[0mfig\u001b[0m\u001b[1;33m,\u001b[0m \u001b[1;34m'jpg'\u001b[0m\u001b[1;33m,\u001b[0m \u001b[1;33m**\u001b[0m\u001b[0mkwargs\u001b[0m\u001b[1;33m)\u001b[0m\u001b[1;33m)\u001b[0m\u001b[1;33m\u001b[0m\u001b[1;33m\u001b[0m\u001b[0m\n\u001b[0;32m    253\u001b[0m     \u001b[1;32mif\u001b[0m \u001b[1;34m'svg'\u001b[0m \u001b[1;32min\u001b[0m \u001b[0mformats\u001b[0m\u001b[1;33m:\u001b[0m\u001b[1;33m\u001b[0m\u001b[1;33m\u001b[0m\u001b[0m\n\u001b[1;32m--> 254\u001b[1;33m         \u001b[0msvg_formatter\u001b[0m\u001b[1;33m.\u001b[0m\u001b[0mfor_type\u001b[0m\u001b[1;33m(\u001b[0m\u001b[0mFigure\u001b[0m\u001b[1;33m,\u001b[0m \u001b[1;32mlambda\u001b[0m \u001b[0mfig\u001b[0m\u001b[1;33m:\u001b[0m \u001b[0mprint_figure\u001b[0m\u001b[1;33m(\u001b[0m\u001b[0mfig\u001b[0m\u001b[1;33m,\u001b[0m \u001b[1;34m'svg'\u001b[0m\u001b[1;33m,\u001b[0m \u001b[1;33m**\u001b[0m\u001b[0mkwargs\u001b[0m\u001b[1;33m)\u001b[0m\u001b[1;33m)\u001b[0m\u001b[1;33m\u001b[0m\u001b[1;33m\u001b[0m\u001b[0m\n\u001b[0m\u001b[0;32m    255\u001b[0m     \u001b[1;32mif\u001b[0m \u001b[1;34m'pdf'\u001b[0m \u001b[1;32min\u001b[0m \u001b[0mformats\u001b[0m\u001b[1;33m:\u001b[0m\u001b[1;33m\u001b[0m\u001b[1;33m\u001b[0m\u001b[0m\n\u001b[0;32m    256\u001b[0m         \u001b[0mpdf_formatter\u001b[0m\u001b[1;33m.\u001b[0m\u001b[0mfor_type\u001b[0m\u001b[1;33m(\u001b[0m\u001b[0mFigure\u001b[0m\u001b[1;33m,\u001b[0m \u001b[1;32mlambda\u001b[0m \u001b[0mfig\u001b[0m\u001b[1;33m:\u001b[0m \u001b[0mprint_figure\u001b[0m\u001b[1;33m(\u001b[0m\u001b[0mfig\u001b[0m\u001b[1;33m,\u001b[0m \u001b[1;34m'pdf'\u001b[0m\u001b[1;33m,\u001b[0m \u001b[1;33m**\u001b[0m\u001b[0mkwargs\u001b[0m\u001b[1;33m)\u001b[0m\u001b[1;33m)\u001b[0m\u001b[1;33m\u001b[0m\u001b[1;33m\u001b[0m\u001b[0m\n",
      "\u001b[1;32m~\\miniconda3\\lib\\site-packages\\IPython\\core\\pylabtools.py\u001b[0m in \u001b[0;36mprint_figure\u001b[1;34m(fig, fmt, bbox_inches, **kwargs)\u001b[0m\n\u001b[0;32m    130\u001b[0m         \u001b[0mFigureCanvasBase\u001b[0m\u001b[1;33m(\u001b[0m\u001b[0mfig\u001b[0m\u001b[1;33m)\u001b[0m\u001b[1;33m\u001b[0m\u001b[1;33m\u001b[0m\u001b[0m\n\u001b[0;32m    131\u001b[0m \u001b[1;33m\u001b[0m\u001b[0m\n\u001b[1;32m--> 132\u001b[1;33m     \u001b[0mfig\u001b[0m\u001b[1;33m.\u001b[0m\u001b[0mcanvas\u001b[0m\u001b[1;33m.\u001b[0m\u001b[0mprint_figure\u001b[0m\u001b[1;33m(\u001b[0m\u001b[0mbytes_io\u001b[0m\u001b[1;33m,\u001b[0m \u001b[1;33m**\u001b[0m\u001b[0mkw\u001b[0m\u001b[1;33m)\u001b[0m\u001b[1;33m\u001b[0m\u001b[1;33m\u001b[0m\u001b[0m\n\u001b[0m\u001b[0;32m    133\u001b[0m     \u001b[0mdata\u001b[0m \u001b[1;33m=\u001b[0m \u001b[0mbytes_io\u001b[0m\u001b[1;33m.\u001b[0m\u001b[0mgetvalue\u001b[0m\u001b[1;33m(\u001b[0m\u001b[1;33m)\u001b[0m\u001b[1;33m\u001b[0m\u001b[1;33m\u001b[0m\u001b[0m\n\u001b[0;32m    134\u001b[0m     \u001b[1;32mif\u001b[0m \u001b[0mfmt\u001b[0m \u001b[1;33m==\u001b[0m \u001b[1;34m'svg'\u001b[0m\u001b[1;33m:\u001b[0m\u001b[1;33m\u001b[0m\u001b[1;33m\u001b[0m\u001b[0m\n",
      "\u001b[1;32m~\\miniconda3\\lib\\site-packages\\matplotlib\\backend_bases.py\u001b[0m in \u001b[0;36mprint_figure\u001b[1;34m(self, filename, dpi, facecolor, edgecolor, orientation, format, bbox_inches, **kwargs)\u001b[0m\n\u001b[0;32m   2098\u001b[0m                            else suppress())\n\u001b[0;32m   2099\u001b[0m                     \u001b[1;32mwith\u001b[0m \u001b[0mctx\u001b[0m\u001b[1;33m:\u001b[0m\u001b[1;33m\u001b[0m\u001b[1;33m\u001b[0m\u001b[0m\n\u001b[1;32m-> 2100\u001b[1;33m                         \u001b[0mself\u001b[0m\u001b[1;33m.\u001b[0m\u001b[0mfigure\u001b[0m\u001b[1;33m.\u001b[0m\u001b[0mdraw\u001b[0m\u001b[1;33m(\u001b[0m\u001b[0mrenderer\u001b[0m\u001b[1;33m)\u001b[0m\u001b[1;33m\u001b[0m\u001b[1;33m\u001b[0m\u001b[0m\n\u001b[0m\u001b[0;32m   2101\u001b[0m                     \u001b[0mbbox_artists\u001b[0m \u001b[1;33m=\u001b[0m \u001b[0mkwargs\u001b[0m\u001b[1;33m.\u001b[0m\u001b[0mpop\u001b[0m\u001b[1;33m(\u001b[0m\u001b[1;34m\"bbox_extra_artists\"\u001b[0m\u001b[1;33m,\u001b[0m \u001b[1;32mNone\u001b[0m\u001b[1;33m)\u001b[0m\u001b[1;33m\u001b[0m\u001b[1;33m\u001b[0m\u001b[0m\n\u001b[0;32m   2102\u001b[0m                     bbox_inches = self.figure.get_tightbbox(renderer,\n",
      "\u001b[1;32m~\\miniconda3\\lib\\site-packages\\matplotlib\\artist.py\u001b[0m in \u001b[0;36mdraw_wrapper\u001b[1;34m(artist, renderer, *args, **kwargs)\u001b[0m\n\u001b[0;32m     36\u001b[0m                 \u001b[0mrenderer\u001b[0m\u001b[1;33m.\u001b[0m\u001b[0mstart_filter\u001b[0m\u001b[1;33m(\u001b[0m\u001b[1;33m)\u001b[0m\u001b[1;33m\u001b[0m\u001b[1;33m\u001b[0m\u001b[0m\n\u001b[0;32m     37\u001b[0m \u001b[1;33m\u001b[0m\u001b[0m\n\u001b[1;32m---> 38\u001b[1;33m             \u001b[1;32mreturn\u001b[0m \u001b[0mdraw\u001b[0m\u001b[1;33m(\u001b[0m\u001b[0martist\u001b[0m\u001b[1;33m,\u001b[0m \u001b[0mrenderer\u001b[0m\u001b[1;33m,\u001b[0m \u001b[1;33m*\u001b[0m\u001b[0margs\u001b[0m\u001b[1;33m,\u001b[0m \u001b[1;33m**\u001b[0m\u001b[0mkwargs\u001b[0m\u001b[1;33m)\u001b[0m\u001b[1;33m\u001b[0m\u001b[1;33m\u001b[0m\u001b[0m\n\u001b[0m\u001b[0;32m     39\u001b[0m         \u001b[1;32mfinally\u001b[0m\u001b[1;33m:\u001b[0m\u001b[1;33m\u001b[0m\u001b[1;33m\u001b[0m\u001b[0m\n\u001b[0;32m     40\u001b[0m             \u001b[1;32mif\u001b[0m \u001b[0martist\u001b[0m\u001b[1;33m.\u001b[0m\u001b[0mget_agg_filter\u001b[0m\u001b[1;33m(\u001b[0m\u001b[1;33m)\u001b[0m \u001b[1;32mis\u001b[0m \u001b[1;32mnot\u001b[0m \u001b[1;32mNone\u001b[0m\u001b[1;33m:\u001b[0m\u001b[1;33m\u001b[0m\u001b[1;33m\u001b[0m\u001b[0m\n",
      "\u001b[1;32m~\\miniconda3\\lib\\site-packages\\matplotlib\\figure.py\u001b[0m in \u001b[0;36mdraw\u001b[1;34m(self, renderer)\u001b[0m\n\u001b[0;32m   1734\u001b[0m             \u001b[0mself\u001b[0m\u001b[1;33m.\u001b[0m\u001b[0mpatch\u001b[0m\u001b[1;33m.\u001b[0m\u001b[0mdraw\u001b[0m\u001b[1;33m(\u001b[0m\u001b[0mrenderer\u001b[0m\u001b[1;33m)\u001b[0m\u001b[1;33m\u001b[0m\u001b[1;33m\u001b[0m\u001b[0m\n\u001b[0;32m   1735\u001b[0m             mimage._draw_list_compositing_images(\n\u001b[1;32m-> 1736\u001b[1;33m                 renderer, self, artists, self.suppressComposite)\n\u001b[0m\u001b[0;32m   1737\u001b[0m \u001b[1;33m\u001b[0m\u001b[0m\n\u001b[0;32m   1738\u001b[0m             \u001b[0mrenderer\u001b[0m\u001b[1;33m.\u001b[0m\u001b[0mclose_group\u001b[0m\u001b[1;33m(\u001b[0m\u001b[1;34m'figure'\u001b[0m\u001b[1;33m)\u001b[0m\u001b[1;33m\u001b[0m\u001b[1;33m\u001b[0m\u001b[0m\n",
      "\u001b[1;32m~\\miniconda3\\lib\\site-packages\\matplotlib\\image.py\u001b[0m in \u001b[0;36m_draw_list_compositing_images\u001b[1;34m(renderer, parent, artists, suppress_composite)\u001b[0m\n\u001b[0;32m    135\u001b[0m     \u001b[1;32mif\u001b[0m \u001b[0mnot_composite\u001b[0m \u001b[1;32mor\u001b[0m \u001b[1;32mnot\u001b[0m \u001b[0mhas_images\u001b[0m\u001b[1;33m:\u001b[0m\u001b[1;33m\u001b[0m\u001b[1;33m\u001b[0m\u001b[0m\n\u001b[0;32m    136\u001b[0m         \u001b[1;32mfor\u001b[0m \u001b[0ma\u001b[0m \u001b[1;32min\u001b[0m \u001b[0martists\u001b[0m\u001b[1;33m:\u001b[0m\u001b[1;33m\u001b[0m\u001b[1;33m\u001b[0m\u001b[0m\n\u001b[1;32m--> 137\u001b[1;33m             \u001b[0ma\u001b[0m\u001b[1;33m.\u001b[0m\u001b[0mdraw\u001b[0m\u001b[1;33m(\u001b[0m\u001b[0mrenderer\u001b[0m\u001b[1;33m)\u001b[0m\u001b[1;33m\u001b[0m\u001b[1;33m\u001b[0m\u001b[0m\n\u001b[0m\u001b[0;32m    138\u001b[0m     \u001b[1;32melse\u001b[0m\u001b[1;33m:\u001b[0m\u001b[1;33m\u001b[0m\u001b[1;33m\u001b[0m\u001b[0m\n\u001b[0;32m    139\u001b[0m         \u001b[1;31m# Composite any adjacent images together\u001b[0m\u001b[1;33m\u001b[0m\u001b[1;33m\u001b[0m\u001b[1;33m\u001b[0m\u001b[0m\n",
      "\u001b[1;32m~\\miniconda3\\lib\\site-packages\\matplotlib\\artist.py\u001b[0m in \u001b[0;36mdraw_wrapper\u001b[1;34m(artist, renderer, *args, **kwargs)\u001b[0m\n\u001b[0;32m     36\u001b[0m                 \u001b[0mrenderer\u001b[0m\u001b[1;33m.\u001b[0m\u001b[0mstart_filter\u001b[0m\u001b[1;33m(\u001b[0m\u001b[1;33m)\u001b[0m\u001b[1;33m\u001b[0m\u001b[1;33m\u001b[0m\u001b[0m\n\u001b[0;32m     37\u001b[0m \u001b[1;33m\u001b[0m\u001b[0m\n\u001b[1;32m---> 38\u001b[1;33m             \u001b[1;32mreturn\u001b[0m \u001b[0mdraw\u001b[0m\u001b[1;33m(\u001b[0m\u001b[0martist\u001b[0m\u001b[1;33m,\u001b[0m \u001b[0mrenderer\u001b[0m\u001b[1;33m,\u001b[0m \u001b[1;33m*\u001b[0m\u001b[0margs\u001b[0m\u001b[1;33m,\u001b[0m \u001b[1;33m**\u001b[0m\u001b[0mkwargs\u001b[0m\u001b[1;33m)\u001b[0m\u001b[1;33m\u001b[0m\u001b[1;33m\u001b[0m\u001b[0m\n\u001b[0m\u001b[0;32m     39\u001b[0m         \u001b[1;32mfinally\u001b[0m\u001b[1;33m:\u001b[0m\u001b[1;33m\u001b[0m\u001b[1;33m\u001b[0m\u001b[0m\n\u001b[0;32m     40\u001b[0m             \u001b[1;32mif\u001b[0m \u001b[0martist\u001b[0m\u001b[1;33m.\u001b[0m\u001b[0mget_agg_filter\u001b[0m\u001b[1;33m(\u001b[0m\u001b[1;33m)\u001b[0m \u001b[1;32mis\u001b[0m \u001b[1;32mnot\u001b[0m \u001b[1;32mNone\u001b[0m\u001b[1;33m:\u001b[0m\u001b[1;33m\u001b[0m\u001b[1;33m\u001b[0m\u001b[0m\n",
      "\u001b[1;32m~\\miniconda3\\lib\\site-packages\\matplotlib\\axes\\_base.py\u001b[0m in \u001b[0;36mdraw\u001b[1;34m(self, renderer, inframe)\u001b[0m\n\u001b[0;32m   2588\u001b[0m                 \u001b[0martists\u001b[0m\u001b[1;33m.\u001b[0m\u001b[0mremove\u001b[0m\u001b[1;33m(\u001b[0m\u001b[0mspine\u001b[0m\u001b[1;33m)\u001b[0m\u001b[1;33m\u001b[0m\u001b[1;33m\u001b[0m\u001b[0m\n\u001b[0;32m   2589\u001b[0m \u001b[1;33m\u001b[0m\u001b[0m\n\u001b[1;32m-> 2590\u001b[1;33m         \u001b[0mself\u001b[0m\u001b[1;33m.\u001b[0m\u001b[0m_update_title_position\u001b[0m\u001b[1;33m(\u001b[0m\u001b[0mrenderer\u001b[0m\u001b[1;33m)\u001b[0m\u001b[1;33m\u001b[0m\u001b[1;33m\u001b[0m\u001b[0m\n\u001b[0m\u001b[0;32m   2591\u001b[0m \u001b[1;33m\u001b[0m\u001b[0m\n\u001b[0;32m   2592\u001b[0m         \u001b[1;32mif\u001b[0m \u001b[1;32mnot\u001b[0m \u001b[0mself\u001b[0m\u001b[1;33m.\u001b[0m\u001b[0maxison\u001b[0m \u001b[1;32mor\u001b[0m \u001b[0minframe\u001b[0m\u001b[1;33m:\u001b[0m\u001b[1;33m\u001b[0m\u001b[1;33m\u001b[0m\u001b[0m\n",
      "\u001b[1;32m~\\miniconda3\\lib\\site-packages\\matplotlib\\axes\\_base.py\u001b[0m in \u001b[0;36m_update_title_position\u001b[1;34m(self, renderer)\u001b[0m\n\u001b[0;32m   2536\u001b[0m                 \u001b[1;32mif\u001b[0m \u001b[0mbb\u001b[0m \u001b[1;32mis\u001b[0m \u001b[1;32mnot\u001b[0m \u001b[1;32mNone\u001b[0m\u001b[1;33m:\u001b[0m\u001b[1;33m\u001b[0m\u001b[1;33m\u001b[0m\u001b[0m\n\u001b[0;32m   2537\u001b[0m                     \u001b[0mtop\u001b[0m \u001b[1;33m=\u001b[0m \u001b[0mmax\u001b[0m\u001b[1;33m(\u001b[0m\u001b[0mtop\u001b[0m\u001b[1;33m,\u001b[0m \u001b[0mbb\u001b[0m\u001b[1;33m.\u001b[0m\u001b[0mymax\u001b[0m\u001b[1;33m)\u001b[0m\u001b[1;33m\u001b[0m\u001b[1;33m\u001b[0m\u001b[0m\n\u001b[1;32m-> 2538\u001b[1;33m             \u001b[1;32mif\u001b[0m \u001b[0mtitle\u001b[0m\u001b[1;33m.\u001b[0m\u001b[0mget_window_extent\u001b[0m\u001b[1;33m(\u001b[0m\u001b[0mrenderer\u001b[0m\u001b[1;33m)\u001b[0m\u001b[1;33m.\u001b[0m\u001b[0mymin\u001b[0m \u001b[1;33m<\u001b[0m \u001b[0mtop\u001b[0m\u001b[1;33m:\u001b[0m\u001b[1;33m\u001b[0m\u001b[1;33m\u001b[0m\u001b[0m\n\u001b[0m\u001b[0;32m   2539\u001b[0m                 \u001b[0m_\u001b[0m\u001b[1;33m,\u001b[0m \u001b[0my\u001b[0m \u001b[1;33m=\u001b[0m \u001b[0mself\u001b[0m\u001b[1;33m.\u001b[0m\u001b[0mtransAxes\u001b[0m\u001b[1;33m.\u001b[0m\u001b[0minverted\u001b[0m\u001b[1;33m(\u001b[0m\u001b[1;33m)\u001b[0m\u001b[1;33m.\u001b[0m\u001b[0mtransform\u001b[0m\u001b[1;33m(\u001b[0m\u001b[1;33m(\u001b[0m\u001b[1;36m0\u001b[0m\u001b[1;33m,\u001b[0m \u001b[0mtop\u001b[0m\u001b[1;33m)\u001b[0m\u001b[1;33m)\u001b[0m\u001b[1;33m\u001b[0m\u001b[1;33m\u001b[0m\u001b[0m\n\u001b[0;32m   2540\u001b[0m                 \u001b[0mtitle\u001b[0m\u001b[1;33m.\u001b[0m\u001b[0mset_position\u001b[0m\u001b[1;33m(\u001b[0m\u001b[1;33m(\u001b[0m\u001b[0mx\u001b[0m\u001b[1;33m,\u001b[0m \u001b[0my\u001b[0m\u001b[1;33m)\u001b[0m\u001b[1;33m)\u001b[0m\u001b[1;33m\u001b[0m\u001b[1;33m\u001b[0m\u001b[0m\n",
      "\u001b[1;32m~\\miniconda3\\lib\\site-packages\\matplotlib\\text.py\u001b[0m in \u001b[0;36mget_window_extent\u001b[1;34m(self, renderer, dpi)\u001b[0m\n\u001b[0;32m    903\u001b[0m             \u001b[1;32mraise\u001b[0m \u001b[0mRuntimeError\u001b[0m\u001b[1;33m(\u001b[0m\u001b[1;34m'Cannot get window extent w/o renderer'\u001b[0m\u001b[1;33m)\u001b[0m\u001b[1;33m\u001b[0m\u001b[1;33m\u001b[0m\u001b[0m\n\u001b[0;32m    904\u001b[0m \u001b[1;33m\u001b[0m\u001b[0m\n\u001b[1;32m--> 905\u001b[1;33m         \u001b[0mbbox\u001b[0m\u001b[1;33m,\u001b[0m \u001b[0minfo\u001b[0m\u001b[1;33m,\u001b[0m \u001b[0mdescent\u001b[0m \u001b[1;33m=\u001b[0m \u001b[0mself\u001b[0m\u001b[1;33m.\u001b[0m\u001b[0m_get_layout\u001b[0m\u001b[1;33m(\u001b[0m\u001b[0mself\u001b[0m\u001b[1;33m.\u001b[0m\u001b[0m_renderer\u001b[0m\u001b[1;33m)\u001b[0m\u001b[1;33m\u001b[0m\u001b[1;33m\u001b[0m\u001b[0m\n\u001b[0m\u001b[0;32m    906\u001b[0m         \u001b[0mx\u001b[0m\u001b[1;33m,\u001b[0m \u001b[0my\u001b[0m \u001b[1;33m=\u001b[0m \u001b[0mself\u001b[0m\u001b[1;33m.\u001b[0m\u001b[0mget_unitless_position\u001b[0m\u001b[1;33m(\u001b[0m\u001b[1;33m)\u001b[0m\u001b[1;33m\u001b[0m\u001b[1;33m\u001b[0m\u001b[0m\n\u001b[0;32m    907\u001b[0m         \u001b[0mx\u001b[0m\u001b[1;33m,\u001b[0m \u001b[0my\u001b[0m \u001b[1;33m=\u001b[0m \u001b[0mself\u001b[0m\u001b[1;33m.\u001b[0m\u001b[0mget_transform\u001b[0m\u001b[1;33m(\u001b[0m\u001b[1;33m)\u001b[0m\u001b[1;33m.\u001b[0m\u001b[0mtransform\u001b[0m\u001b[1;33m(\u001b[0m\u001b[1;33m(\u001b[0m\u001b[0mx\u001b[0m\u001b[1;33m,\u001b[0m \u001b[0my\u001b[0m\u001b[1;33m)\u001b[0m\u001b[1;33m)\u001b[0m\u001b[1;33m\u001b[0m\u001b[1;33m\u001b[0m\u001b[0m\n",
      "\u001b[1;32m~\\miniconda3\\lib\\site-packages\\matplotlib\\text.py\u001b[0m in \u001b[0;36m_get_layout\u001b[1;34m(self, renderer)\u001b[0m\n\u001b[0;32m    291\u001b[0m         _, lp_h, lp_d = renderer.get_text_width_height_descent(\n\u001b[0;32m    292\u001b[0m             \u001b[1;34m\"lp\"\u001b[0m\u001b[1;33m,\u001b[0m \u001b[0mself\u001b[0m\u001b[1;33m.\u001b[0m\u001b[0m_fontproperties\u001b[0m\u001b[1;33m,\u001b[0m\u001b[1;33m\u001b[0m\u001b[1;33m\u001b[0m\u001b[0m\n\u001b[1;32m--> 293\u001b[1;33m             ismath=\"TeX\" if self.get_usetex() else False)\n\u001b[0m\u001b[0;32m    294\u001b[0m         \u001b[0mmin_dy\u001b[0m \u001b[1;33m=\u001b[0m \u001b[1;33m(\u001b[0m\u001b[0mlp_h\u001b[0m \u001b[1;33m-\u001b[0m \u001b[0mlp_d\u001b[0m\u001b[1;33m)\u001b[0m \u001b[1;33m*\u001b[0m \u001b[0mself\u001b[0m\u001b[1;33m.\u001b[0m\u001b[0m_linespacing\u001b[0m\u001b[1;33m\u001b[0m\u001b[1;33m\u001b[0m\u001b[0m\n\u001b[0;32m    295\u001b[0m \u001b[1;33m\u001b[0m\u001b[0m\n",
      "\u001b[1;32m~\\miniconda3\\lib\\site-packages\\matplotlib\\backends\\backend_svg.py\u001b[0m in \u001b[0;36mget_text_width_height_descent\u001b[1;34m(self, s, prop, ismath)\u001b[0m\n\u001b[0;32m   1172\u001b[0m     \u001b[1;32mdef\u001b[0m \u001b[0mget_text_width_height_descent\u001b[0m\u001b[1;33m(\u001b[0m\u001b[0mself\u001b[0m\u001b[1;33m,\u001b[0m \u001b[0ms\u001b[0m\u001b[1;33m,\u001b[0m \u001b[0mprop\u001b[0m\u001b[1;33m,\u001b[0m \u001b[0mismath\u001b[0m\u001b[1;33m)\u001b[0m\u001b[1;33m:\u001b[0m\u001b[1;33m\u001b[0m\u001b[1;33m\u001b[0m\u001b[0m\n\u001b[0;32m   1173\u001b[0m         \u001b[1;31m# docstring inherited\u001b[0m\u001b[1;33m\u001b[0m\u001b[1;33m\u001b[0m\u001b[1;33m\u001b[0m\u001b[0m\n\u001b[1;32m-> 1174\u001b[1;33m         \u001b[1;32mreturn\u001b[0m \u001b[0mself\u001b[0m\u001b[1;33m.\u001b[0m\u001b[0m_text2path\u001b[0m\u001b[1;33m.\u001b[0m\u001b[0mget_text_width_height_descent\u001b[0m\u001b[1;33m(\u001b[0m\u001b[0ms\u001b[0m\u001b[1;33m,\u001b[0m \u001b[0mprop\u001b[0m\u001b[1;33m,\u001b[0m \u001b[0mismath\u001b[0m\u001b[1;33m)\u001b[0m\u001b[1;33m\u001b[0m\u001b[1;33m\u001b[0m\u001b[0m\n\u001b[0m\u001b[0;32m   1175\u001b[0m \u001b[1;33m\u001b[0m\u001b[0m\n\u001b[0;32m   1176\u001b[0m \u001b[1;33m\u001b[0m\u001b[0m\n",
      "\u001b[1;32m~\\miniconda3\\lib\\site-packages\\matplotlib\\textpath.py\u001b[0m in \u001b[0;36mget_text_width_height_descent\u001b[1;34m(self, s, prop, ismath)\u001b[0m\n\u001b[0;32m     67\u001b[0m             \u001b[0mfontsize\u001b[0m \u001b[1;33m=\u001b[0m \u001b[0mprop\u001b[0m\u001b[1;33m.\u001b[0m\u001b[0mget_size_in_points\u001b[0m\u001b[1;33m(\u001b[0m\u001b[1;33m)\u001b[0m\u001b[1;33m\u001b[0m\u001b[1;33m\u001b[0m\u001b[0m\n\u001b[0;32m     68\u001b[0m             w, h, d = texmanager.get_text_width_height_descent(s, fontsize,\n\u001b[1;32m---> 69\u001b[1;33m                                                                renderer=None)\n\u001b[0m\u001b[0;32m     70\u001b[0m             \u001b[1;32mreturn\u001b[0m \u001b[0mw\u001b[0m\u001b[1;33m,\u001b[0m \u001b[0mh\u001b[0m\u001b[1;33m,\u001b[0m \u001b[0md\u001b[0m\u001b[1;33m\u001b[0m\u001b[1;33m\u001b[0m\u001b[0m\n\u001b[0;32m     71\u001b[0m \u001b[1;33m\u001b[0m\u001b[0m\n",
      "\u001b[1;32m~\\miniconda3\\lib\\site-packages\\matplotlib\\texmanager.py\u001b[0m in \u001b[0;36mget_text_width_height_descent\u001b[1;34m(self, tex, fontsize, renderer)\u001b[0m\n\u001b[0;32m    456\u001b[0m         \u001b[1;32melse\u001b[0m\u001b[1;33m:\u001b[0m\u001b[1;33m\u001b[0m\u001b[1;33m\u001b[0m\u001b[0m\n\u001b[0;32m    457\u001b[0m             \u001b[1;31m# use dviread.\u001b[0m\u001b[1;33m\u001b[0m\u001b[1;33m\u001b[0m\u001b[1;33m\u001b[0m\u001b[0m\n\u001b[1;32m--> 458\u001b[1;33m             \u001b[0mdvifile\u001b[0m \u001b[1;33m=\u001b[0m \u001b[0mself\u001b[0m\u001b[1;33m.\u001b[0m\u001b[0mmake_dvi\u001b[0m\u001b[1;33m(\u001b[0m\u001b[0mtex\u001b[0m\u001b[1;33m,\u001b[0m \u001b[0mfontsize\u001b[0m\u001b[1;33m)\u001b[0m\u001b[1;33m\u001b[0m\u001b[1;33m\u001b[0m\u001b[0m\n\u001b[0m\u001b[0;32m    459\u001b[0m             \u001b[1;32mwith\u001b[0m \u001b[0mdviread\u001b[0m\u001b[1;33m.\u001b[0m\u001b[0mDvi\u001b[0m\u001b[1;33m(\u001b[0m\u001b[0mdvifile\u001b[0m\u001b[1;33m,\u001b[0m \u001b[1;36m72\u001b[0m \u001b[1;33m*\u001b[0m \u001b[0mdpi_fraction\u001b[0m\u001b[1;33m)\u001b[0m \u001b[1;32mas\u001b[0m \u001b[0mdvi\u001b[0m\u001b[1;33m:\u001b[0m\u001b[1;33m\u001b[0m\u001b[1;33m\u001b[0m\u001b[0m\n\u001b[0;32m    460\u001b[0m                 \u001b[0mpage\u001b[0m\u001b[1;33m,\u001b[0m \u001b[1;33m=\u001b[0m \u001b[0mdvi\u001b[0m\u001b[1;33m\u001b[0m\u001b[1;33m\u001b[0m\u001b[0m\n",
      "\u001b[1;32m~\\miniconda3\\lib\\site-packages\\matplotlib\\texmanager.py\u001b[0m in \u001b[0;36mmake_dvi\u001b[1;34m(self, tex, fontsize)\u001b[0m\n\u001b[0;32m    338\u001b[0m                 self._run_checked_subprocess(\n\u001b[0;32m    339\u001b[0m                     [\"latex\", \"-interaction=nonstopmode\", \"--halt-on-error\",\n\u001b[1;32m--> 340\u001b[1;33m                      texfile], tex)\n\u001b[0m\u001b[0;32m    341\u001b[0m             \u001b[1;32mfor\u001b[0m \u001b[0mfname\u001b[0m \u001b[1;32min\u001b[0m \u001b[0mglob\u001b[0m\u001b[1;33m.\u001b[0m\u001b[0mglob\u001b[0m\u001b[1;33m(\u001b[0m\u001b[0mbasefile\u001b[0m \u001b[1;33m+\u001b[0m \u001b[1;34m'*'\u001b[0m\u001b[1;33m)\u001b[0m\u001b[1;33m:\u001b[0m\u001b[1;33m\u001b[0m\u001b[1;33m\u001b[0m\u001b[0m\n\u001b[0;32m    342\u001b[0m                 \u001b[1;32mif\u001b[0m \u001b[1;32mnot\u001b[0m \u001b[0mfname\u001b[0m\u001b[1;33m.\u001b[0m\u001b[0mendswith\u001b[0m\u001b[1;33m(\u001b[0m\u001b[1;33m(\u001b[0m\u001b[1;34m'dvi'\u001b[0m\u001b[1;33m,\u001b[0m \u001b[1;34m'tex'\u001b[0m\u001b[1;33m)\u001b[0m\u001b[1;33m)\u001b[0m\u001b[1;33m:\u001b[0m\u001b[1;33m\u001b[0m\u001b[1;33m\u001b[0m\u001b[0m\n",
      "\u001b[1;32m~\\miniconda3\\lib\\site-packages\\matplotlib\\texmanager.py\u001b[0m in \u001b[0;36m_run_checked_subprocess\u001b[1;34m(self, command, tex)\u001b[0m\n\u001b[0;32m    308\u001b[0m             raise RuntimeError(\n\u001b[0;32m    309\u001b[0m                 \u001b[1;34m'Failed to process string with tex because {} could not be '\u001b[0m\u001b[1;33m\u001b[0m\u001b[1;33m\u001b[0m\u001b[0m\n\u001b[1;32m--> 310\u001b[1;33m                 'found'.format(command[0])) from exc\n\u001b[0m\u001b[0;32m    311\u001b[0m         \u001b[1;32mexcept\u001b[0m \u001b[0msubprocess\u001b[0m\u001b[1;33m.\u001b[0m\u001b[0mCalledProcessError\u001b[0m \u001b[1;32mas\u001b[0m \u001b[0mexc\u001b[0m\u001b[1;33m:\u001b[0m\u001b[1;33m\u001b[0m\u001b[1;33m\u001b[0m\u001b[0m\n\u001b[0;32m    312\u001b[0m             raise RuntimeError(\n",
      "\u001b[1;31mRuntimeError\u001b[0m: Failed to process string with tex because latex could not be found"
     ]
    }
   ],
   "source": [
    "plt.figure()\n",
    "x_mesh = np.linspace(1, 1200, 1200)\n",
    "# for i in range(40, 260, 20):\n",
    "#     plt.plot(x_mesh, 1000*i/x_mesh, color='grey', linestyle='--', label=str(i))\n",
    "# labelLines(plt.gca().get_lines(),zorder=2.5)\n",
    "\n",
    "a5, = plt.plot(results_x[4], results_y[4], label=str(oxidizer_fuel_combinations[4])[1:-1])\n",
    "a1, = plt.plot(results_x[6], results_y[6], label=str(oxidizer_fuel_combinations[6])[1:-1])\n",
    "a2, = plt.plot(results_x[7], results_y[7], label=str(oxidizer_fuel_combinations[7])[1:-1])\n",
    "a3, = plt.plot(results_x[8], results_y[8], label=str(oxidizer_fuel_combinations[8])[1:-1])\n",
    "a5, = plt.plot(results_x[10], results_y[10], label=str(oxidizer_fuel_combinations[10])[1:-1])\n",
    "a6, = plt.plot(results_x[11], results_y[11], label=str(oxidizer_fuel_combinations[11])[1:-1])\n",
    "a1, = plt.plot(results_x[0], results_y[0], '--', label=str(oxidizer_fuel_combinations[0])[1:-1])\n",
    "a2, = plt.plot(results_x[1], results_y[1], '--', label=str(oxidizer_fuel_combinations[1])[1:-1])\n",
    "a3, = plt.plot(results_x[2], results_y[2], '--', label=str(oxidizer_fuel_combinations[2])[1:-1])\n",
    "a4, = plt.plot(results_x[3], results_y[3], '--', label=str(oxidizer_fuel_combinations[3])[1:-1])\n",
    "a6, = plt.plot(results_x[5], results_y[5], '--', label=str(oxidizer_fuel_combinations[5])[1:-1])\n",
    "a4, = plt.plot(results_x[9], results_y[9], '--', label=str(oxidizer_fuel_combinations[9])[1:-1])\n",
    "\n",
    "    \n",
    "# plt.xlim(650, 1100)\n",
    "# plt.ylim(190, 250)\n",
    "plt.xlabel('Propellant Storage Density  (kg/m³)')\n",
    "plt.ylabel('Specific Impulse  (s)')\n",
    "plt.title('Specific Impulse vs. Density')\n",
    "# plt.legend()\n",
    "plt.grid()\n",
    "plt.show()\n",
    "\n",
    "# Export results to files\n",
    "# plt.savefig(\"output.png\", bbox_inches=\"tight\")\n",
    "# np.savetxt('I_sp_x.csv', results_x, delimiter=',')\n",
    "# np.savetxt('I_sp_y.csv', results_y, delimiter=',')\n"
   ]
  },
  {
   "cell_type": "code",
   "execution_count": null,
   "metadata": {
    "hidden": true
   },
   "outputs": [],
   "source": [
    "rp = RhoIspPlot(dpi=120, bipropL=oxidizer_fuel_combinations, Pc=500, eps=2.4)\n",
    "rp.add_rho_isp_contours(label_frac_pos=0.4)\n",
    "rp.show()"
   ]
  }
 ],
 "metadata": {
  "kernelspec": {
   "display_name": "Python 3",
   "language": "python",
   "name": "python3"
  },
  "language_info": {
   "codemirror_mode": {
    "name": "ipython",
    "version": 3
   },
   "file_extension": ".py",
   "mimetype": "text/x-python",
   "name": "python",
   "nbconvert_exporter": "python",
   "pygments_lexer": "ipython3",
   "version": "3.7.7"
  }
 },
 "nbformat": 4,
 "nbformat_minor": 1
}