{
 "cells": [
  {
   "cell_type": "code",
   "execution_count": 1,
   "metadata": {},
   "outputs": [],
   "source": [
    "from nozzle_design import *"
   ]
  },
  {
   "cell_type": "code",
   "execution_count": 2,
   "metadata": {
    "tags": []
   },
   "outputs": [
    {
     "output_type": "stream",
     "name": "stdout",
     "text": "No constraints given.\nNew best for swarm at iteration 1: [1.92610512e+06 5.00000000e-04 1.04869775e-03 3.72925010e+01\n 6.67939895e-02 1.50000000e+00 1.50000000e+00 2.50000000e+03] -207.5565293520275\nreading cea isp data files for N2O / C2H5OH(L)_92_H2O(L)_8 100 times\nNew best for swarm at iteration 1: [3.87793008e+06 2.36521045e-03 5.00000000e-04 4.53426530e+01\n 6.34710961e-02 1.50000000e+00 1.44807350e+00 2.50000000e+03] -208.86381815020658\nreading cea isp data files for N2O / C2H5OH(L)_100_H2O(L)_0 100 times\nNew best for swarm at iteration 1: [2.47785557e+06 5.00000000e-04 5.00000000e-04 3.74730608e+01\n 4.95132390e-02 1.50000000e+00 1.36220034e+00 1.96780762e+03] -212.68486617843251\nBest after iteration 1: [2.47785557e+06 5.00000000e-04 5.00000000e-04 3.74730608e+01\n 4.95132390e-02 1.50000000e+00 1.36220034e+00 1.96780762e+03] -212.68486617843251\nNew best for swarm at iteration 2: [3.74154522e+06 5.00000000e-04 5.00000000e-04 5.00211276e+01\n 3.43063505e-02 1.50000000e+00 1.50000000e+00 2.17864892e+03] -219.69264467757668\nNew best for swarm at iteration 2: [3.74759694e+06 5.00000000e-04 5.00000000e-04 5.65400062e+01\n 6.76937874e-02 1.50000000e+00 1.48567268e+00 2.07632424e+03] -227.682890081068\nreading cea isp data files for N2O / C2H5OH(L)_92_H2O(L)_8 400 times\nNew best for swarm at iteration 2: [2.43977061e+06 5.00000000e-04 5.00000000e-04 4.89908266e+01\n 8.00000000e-02 1.50000000e+00 1.50000000e+00 2.50000000e+03] -227.91189165353987\nreading cea isp data files for N2O / C2H5OH(L)_92_H2O(L)_8 700 times\nreading cea isp data files for N2O / C2H5OH(L)_92_H2O(L)_8 1000 times\nBest after iteration 2: [2.43977061e+06 5.00000000e-04 5.00000000e-04 4.89908266e+01\n 8.00000000e-02 1.50000000e+00 1.50000000e+00 2.50000000e+03] -227.91189165353987\nNew best for swarm at iteration 3: [3.83095476e+06 5.00000000e-04 5.00000000e-04 5.71541003e+01\n 7.58535964e-02 1.50000000e+00 1.50000000e+00 2.33798800e+03] -231.2164153771979\nreading cea isp data files for N2O / C2H5OH(L)_92_H2O(L)_8 1300 times\nNew best for swarm at iteration 3: [3.74983038e+06 5.00000000e-04 5.00000000e-04 5.57492702e+01\n 8.00000000e-02 1.50000000e+00 1.50000000e+00 2.50000000e+03] -232.91108659080092\nreading cea isp data files for N2O / C2H5OH(L)_92_H2O(L)_8 1600 times\nBest after iteration 3: [3.74983038e+06 5.00000000e-04 5.00000000e-04 5.57492702e+01\n 8.00000000e-02 1.50000000e+00 1.50000000e+00 2.50000000e+03] -232.91108659080092\nreading cea isp data files for N2O / C2H5OH(L)_92_H2O(L)_8 1900 times\nNew best for swarm at iteration 4: [3.84679526e+06 5.00000000e-04 5.00000000e-04 5.69308839e+01\n 8.00000000e-02 1.50000000e+00 1.50000000e+00 2.48924901e+03] -233.03393006522703\nNew best for swarm at iteration 4: [3.98752197e+06 5.31811832e-04 5.00000000e-04 6.00000000e+01\n 8.00000000e-02 1.50000000e+00 1.50000000e+00 2.50000000e+03] -233.073177202385\nreading cea isp data files for N2O / C2H5OH(L)_92_H2O(L)_8 2200 times\nNew best for swarm at iteration 4: [3.84049183e+06 5.00000000e-04 5.00000000e-04 6.00000000e+01\n 8.00000000e-02 1.50000000e+00 1.50000000e+00 2.50000000e+03] -233.37039731984163\nreading cea isp data files for N2O / C2H5OH(L)_92_H2O(L)_8 2500 times\nreading cea isp data files for N2O / C2H5OH(L)_92_H2O(L)_8 2800 times\nBest after iteration 4: [3.84049183e+06 5.00000000e-04 5.00000000e-04 6.00000000e+01\n 8.00000000e-02 1.50000000e+00 1.50000000e+00 2.50000000e+03] -233.37039731984163\nNew best for swarm at iteration 5: [4.00000000e+06 5.00000000e-04 5.00000000e-04 6.00000000e+01\n 8.00000000e-02 1.49559214e+00 1.50000000e+00 2.50000000e+03] -233.39761112679784\nNew best for swarm at iteration 5: [3.99199517e+06 5.00000000e-04 5.00000000e-04 5.96201529e+01\n 8.00000000e-02 1.50000000e+00 1.50000000e+00 2.50000000e+03] -233.75733773808847\nreading cea isp data files for N2O / C2H5OH(L)_92_H2O(L)_8 3100 times\nreading cea isp data files for N2O / C2H5OH(L)_92_H2O(L)_8 3400 times\nreading cea isp data files for N2O / C2H5OH(L)_92_H2O(L)_8 3700 times\nreading cea isp data files for N2O / C2H5OH(L)_92_H2O(L)_8 4000 times\nreading cea isp data files for N2O / C2H5OH(L)_92_H2O(L)_8 4300 times\nBest after iteration 5: [3.99199517e+06 5.00000000e-04 5.00000000e-04 5.96201529e+01\n 8.00000000e-02 1.50000000e+00 1.50000000e+00 2.50000000e+03] -233.75733773808847\nreading cea isp data files for N2O / C2H5OH(L)_92_H2O(L)_8 4600 times\nreading cea isp data files for N2O / C2H5OH(L)_92_H2O(L)_8 4900 times\nreading cea isp data files for N2O / C2H5OH(L)_92_H2O(L)_8 5200 times\nreading cea isp data files for N2O / C2H5OH(L)_92_H2O(L)_8 5500 times\nreading cea isp data files for N2O / C2H5OH(L)_92_H2O(L)_8 5800 times\nreading cea isp data files for N2O / C2H5OH(L)_92_H2O(L)_8 6100 times\nBest after iteration 6: [3.99199517e+06 5.00000000e-04 5.00000000e-04 5.96201529e+01\n 8.00000000e-02 1.50000000e+00 1.50000000e+00 2.50000000e+03] -233.75733773808847\nreading cea isp data files for N2O / C2H5OH(L)_92_H2O(L)_8 6400 times\nNew best for swarm at iteration 7: [4.00000000e+06 5.00000000e-04 5.00000000e-04 5.95977319e+01\n 8.00000000e-02 1.50000000e+00 1.50000000e+00 2.50000000e+03] -233.77982052776645\nNew best for swarm at iteration 7: [4.00000000e+06 5.00000000e-04 5.00000000e-04 5.95942533e+01\n 8.00000000e-02 1.50000000e+00 1.50000000e+00 2.50000000e+03] -233.78132915603865\nreading cea isp data files for N2O / C2H5OH(L)_92_H2O(L)_8 6700 times\nreading cea isp data files for N2O / C2H5OH(L)_92_H2O(L)_8 7000 times\nreading cea isp data files for N2O / C2H5OH(L)_92_H2O(L)_8 7300 times\nreading cea isp data files for N2O / C2H5OH(L)_92_H2O(L)_8 7600 times\nNew best for swarm at iteration 7: [4.00000000e+06 5.00000000e-04 5.00000000e-04 5.95924437e+01\n 8.00000000e-02 1.50000000e+00 1.50000000e+00 2.50000000e+03] -233.78211398310742\nreading cea isp data files for N2O / C2H5OH(L)_92_H2O(L)_8 7900 times\nreading cea isp data files for N2O / C2H5OH(L)_92_H2O(L)_8 8200 times\nBest after iteration 7: [4.00000000e+06 5.00000000e-04 5.00000000e-04 5.95924437e+01\n 8.00000000e-02 1.50000000e+00 1.50000000e+00 2.50000000e+03] -233.78211398310742\nreading cea isp data files for N2O / C2H5OH(L)_92_H2O(L)_8 8500 times\nNew best for swarm at iteration 8: [4.0000000e+06 5.0000000e-04 5.0000000e-04 5.9569882e+01 8.0000000e-02\n 1.5000000e+00 1.5000000e+00 2.5000000e+03] -233.79189993002745\nNew best for swarm at iteration 8: [4.00000000e+06 5.00000000e-04 5.00000000e-04 5.95088907e+01\n 8.00000000e-02 1.50000000e+00 1.50000000e+00 2.50000000e+03] -233.8183627262095\nreading cea isp data files for N2O / C2H5OH(L)_92_H2O(L)_8 8800 times\nreading cea isp data files for N2O / C2H5OH(L)_92_H2O(L)_8 9100 times\nreading cea isp data files for N2O / C2H5OH(L)_92_H2O(L)_8 9400 times\nreading cea isp data files for N2O / C2H5OH(L)_92_H2O(L)_8 9700 times\nreading cea isp data files for N2O / C2H5OH(L)_92_H2O(L)_8 10000 times\nreading cea isp data files for N2O / C2H5OH(L)_92_H2O(L)_8 10300 times\nBest after iteration 8: [4.00000000e+06 5.00000000e-04 5.00000000e-04 5.95088907e+01\n 8.00000000e-02 1.50000000e+00 1.50000000e+00 2.50000000e+03] -233.8183627262095\nreading cea isp data files for N2O / C2H5OH(L)_92_H2O(L)_8 10600 times\nreading cea isp data files for N2O / C2H5OH(L)_92_H2O(L)_8 10900 times\nreading cea isp data files for N2O / C2H5OH(L)_92_H2O(L)_8 11200 times\nreading cea isp data files for N2O / C2H5OH(L)_92_H2O(L)_8 11500 times\nreading cea isp data files for N2O / C2H5OH(L)_92_H2O(L)_8 11800 times\nreading cea isp data files for N2O / C2H5OH(L)_92_H2O(L)_8 12100 times\nreading cea isp data files for N2O / C2H5OH(L)_92_H2O(L)_8 12400 times\nNew best for swarm at iteration 9: [4.00000000e+06 5.00000000e-04 5.00000000e-04 5.95037542e+01\n 8.00000000e-02 1.50000000e+00 1.50000000e+00 2.50000000e+03] -233.82059193056807\nreading cea isp data files for N2O / C2H5OH(L)_92_H2O(L)_8 12700 times\nreading cea isp data files for N2O / C2H5OH(L)_92_H2O(L)_8 13000 times\nBest after iteration 9: [4.00000000e+06 5.00000000e-04 5.00000000e-04 5.95037542e+01\n 8.00000000e-02 1.50000000e+00 1.50000000e+00 2.50000000e+03] -233.82059193056807\nreading cea isp data files for N2O / C2H5OH(L)_92_H2O(L)_8 13300 times\nreading cea isp data files for N2O / C2H5OH(L)_92_H2O(L)_8 13600 times\nreading cea isp data files for N2O / C2H5OH(L)_92_H2O(L)_8 13900 times\nreading cea isp data files for N2O / C2H5OH(L)_92_H2O(L)_8 14200 times\nNew best for swarm at iteration 10: [4.0000000e+06 5.0000000e-04 5.0000000e-04 5.9501509e+01 8.0000000e-02\n 1.5000000e+00 1.5000000e+00 2.5000000e+03] -233.82156632061407\nreading cea isp data files for N2O / C2H5OH(L)_92_H2O(L)_8 14500 times\nreading cea isp data files for N2O / C2H5OH(L)_92_H2O(L)_8 14800 times\nreading cea isp data files for N2O / C2H5OH(L)_92_H2O(L)_8 15100 times\nreading cea isp data files for N2O / C2H5OH(L)_92_H2O(L)_8 15400 times\nBest after iteration 10: [4.0000000e+06 5.0000000e-04 5.0000000e-04 5.9501509e+01 8.0000000e-02\n 1.5000000e+00 1.5000000e+00 2.5000000e+03] -233.82156632061407\nreading cea isp data files for N2O / C2H5OH(L)_92_H2O(L)_8 15700 times\nreading cea isp data files for N2O / C2H5OH(L)_92_H2O(L)_8 16000 times\nreading cea isp data files for N2O / C2H5OH(L)_92_H2O(L)_8 16300 times\nNew best for swarm at iteration 11: [4.00000000e+06 5.00000000e-04 5.00000000e-04 5.95012911e+01\n 8.00000000e-02 1.50000000e+00 1.50000000e+00 2.50000000e+03] -233.82166092028586\nreading cea isp data files for N2O / C2H5OH(L)_92_H2O(L)_8 16600 times\nreading cea isp data files for N2O / C2H5OH(L)_92_H2O(L)_8 16900 times\nreading cea isp data files for N2O / C2H5OH(L)_92_H2O(L)_8 17200 times\nreading cea isp data files for N2O / C2H5OH(L)_92_H2O(L)_8 17500 times\nreading cea isp data files for N2O / C2H5OH(L)_92_H2O(L)_8 17800 times\nreading cea isp data files for N2O / C2H5OH(L)_92_H2O(L)_8 18100 times\nNew best for swarm at iteration 11: [4.00000000e+06 5.00000000e-04 5.00000000e-04 5.95008591e+01\n 8.00000000e-02 1.50000000e+00 1.50000000e+00 2.50000000e+03] -233.8218483776413\nBest after iteration 11: [4.00000000e+06 5.00000000e-04 5.00000000e-04 5.95008591e+01\n 8.00000000e-02 1.50000000e+00 1.50000000e+00 2.50000000e+03] -233.8218483776413\nreading cea isp data files for N2O / C2H5OH(L)_92_H2O(L)_8 18400 times\nreading cea isp data files for N2O / C2H5OH(L)_92_H2O(L)_8 18700 times\nreading cea isp data files for N2O / C2H5OH(L)_92_H2O(L)_8 19000 times\nreading cea isp data files for N2O / C2H5OH(L)_92_H2O(L)_8 19300 times\nreading cea isp data files for N2O / C2H5OH(L)_92_H2O(L)_8 19600 times\nNew best for swarm at iteration 12: [4.00000000e+06 5.00000000e-04 5.00000000e-04 5.95002962e+01\n 8.00000000e-02 1.50000000e+00 1.50000000e+00 2.50000000e+03] -233.82209268658414\nNew best for swarm at iteration 12: [4.00000000e+06 5.00000000e-04 5.00000000e-04 5.95000249e+01\n 8.00000000e-02 1.50000000e+00 1.50000000e+00 2.50000000e+03] -233.82221045746704\nreading cea isp data files for N2O / C2H5OH(L)_92_H2O(L)_8 19900 times\nreading cea isp data files for N2O / C2H5OH(L)_92_H2O(L)_8 20200 times\nreading cea isp data files for N2O / C2H5OH(L)_92_H2O(L)_8 20500 times\nreading cea isp data files for N2O / C2H5OH(L)_92_H2O(L)_8 20800 times\nBest after iteration 12: [4.00000000e+06 5.00000000e-04 5.00000000e-04 5.95000249e+01\n 8.00000000e-02 1.50000000e+00 1.50000000e+00 2.50000000e+03] -233.82221045746704\nreading cea isp data files for N2O / C2H5OH(L)_92_H2O(L)_8 21100 times\nreading cea isp data files for N2O / C2H5OH(L)_92_H2O(L)_8 21400 times\nreading cea isp data files for N2O / C2H5OH(L)_92_H2O(L)_8 21700 times\nreading cea isp data files for N2O / C2H5OH(L)_92_H2O(L)_8 22000 times\nreading cea isp data files for N2O / C2H5OH(L)_92_H2O(L)_8 22300 times\nreading cea isp data files for N2O / C2H5OH(L)_92_H2O(L)_8 22600 times\nreading cea isp data files for N2O / C2H5OH(L)_92_H2O(L)_8 22900 times\nreading cea isp data files for N2O / C2H5OH(L)_92_H2O(L)_8 23200 times\nreading cea isp data files for N2O / C2H5OH(L)_92_H2O(L)_8 23500 times\nBest after iteration 13: [4.00000000e+06 5.00000000e-04 5.00000000e-04 5.95000249e+01\n 8.00000000e-02 1.50000000e+00 1.50000000e+00 2.50000000e+03] -233.82221045746704\nreading cea isp data files for N2O / C2H5OH(L)_92_H2O(L)_8 23800 times\nreading cea isp data files for N2O / C2H5OH(L)_92_H2O(L)_8 24100 times\nreading cea isp data files for N2O / C2H5OH(L)_92_H2O(L)_8 24400 times\nreading cea isp data files for N2O / C2H5OH(L)_92_H2O(L)_8 24700 times\nreading cea isp data files for N2O / C2H5OH(L)_92_H2O(L)_8 25000 times\nreading cea isp data files for N2O / C2H5OH(L)_92_H2O(L)_8 25300 times\nreading cea isp data files for N2O / C2H5OH(L)_92_H2O(L)_8 25600 times\nreading cea isp data files for N2O / C2H5OH(L)_92_H2O(L)_8 25900 times\nreading cea isp data files for N2O / C2H5OH(L)_92_H2O(L)_8 26200 times\nBest after iteration 14: [4.00000000e+06 5.00000000e-04 5.00000000e-04 5.95000249e+01\n 8.00000000e-02 1.50000000e+00 1.50000000e+00 2.50000000e+03] -233.82221045746704\nreading cea isp data files for N2O / C2H5OH(L)_92_H2O(L)_8 26500 times\nreading cea isp data files for N2O / C2H5OH(L)_92_H2O(L)_8 26800 times\nreading cea isp data files for N2O / C2H5OH(L)_92_H2O(L)_8 27100 times\nreading cea isp data files for N2O / C2H5OH(L)_92_H2O(L)_8 27400 times\nreading cea isp data files for N2O / C2H5OH(L)_92_H2O(L)_8 27700 times\nreading cea isp data files for N2O / C2H5OH(L)_92_H2O(L)_8 28000 times\nreading cea isp data files for N2O / C2H5OH(L)_92_H2O(L)_8 28300 times\nreading cea isp data files for N2O / C2H5OH(L)_92_H2O(L)_8 28600 times\nreading cea isp data files for N2O / C2H5OH(L)_92_H2O(L)_8 28900 times\nreading cea isp data files for N2O / C2H5OH(L)_92_H2O(L)_8 29200 times\nBest after iteration 15: [4.00000000e+06 5.00000000e-04 5.00000000e-04 5.95000249e+01\n 8.00000000e-02 1.50000000e+00 1.50000000e+00 2.50000000e+03] -233.82221045746704\nreading cea isp data files for N2O / C2H5OH(L)_92_H2O(L)_8 29500 times\nreading cea isp data files for N2O / C2H5OH(L)_92_H2O(L)_8 29800 times\nreading cea isp data files for N2O / C2H5OH(L)_92_H2O(L)_8 30100 times\nreading cea isp data files for N2O / C2H5OH(L)_92_H2O(L)_8 30400 times\nreading cea isp data files for N2O / C2H5OH(L)_92_H2O(L)_8 30700 times\nreading cea isp data files for N2O / C2H5OH(L)_92_H2O(L)_8 31000 times\nreading cea isp data files for N2O / C2H5OH(L)_92_H2O(L)_8 31300 times\nreading cea isp data files for N2O / C2H5OH(L)_92_H2O(L)_8 31600 times\nreading cea isp data files for N2O / C2H5OH(L)_92_H2O(L)_8 31900 times\nBest after iteration 16: [4.00000000e+06 5.00000000e-04 5.00000000e-04 5.95000249e+01\n 8.00000000e-02 1.50000000e+00 1.50000000e+00 2.50000000e+03] -233.82221045746704\nreading cea isp data files for N2O / C2H5OH(L)_92_H2O(L)_8 32200 times\nreading cea isp data files for N2O / C2H5OH(L)_92_H2O(L)_8 32500 times\nreading cea isp data files for N2O / C2H5OH(L)_92_H2O(L)_8 32800 times\nreading cea isp data files for N2O / C2H5OH(L)_92_H2O(L)_8 33100 times\nreading cea isp data files for N2O / C2H5OH(L)_92_H2O(L)_8 33400 times\nreading cea isp data files for N2O / C2H5OH(L)_92_H2O(L)_8 33700 times\nreading cea isp data files for N2O / C2H5OH(L)_92_H2O(L)_8 34000 times\nreading cea isp data files for N2O / C2H5OH(L)_92_H2O(L)_8 34300 times\nreading cea isp data files for N2O / C2H5OH(L)_92_H2O(L)_8 34600 times\nBest after iteration 17: [4.00000000e+06 5.00000000e-04 5.00000000e-04 5.95000249e+01\n 8.00000000e-02 1.50000000e+00 1.50000000e+00 2.50000000e+03] -233.82221045746704\nreading cea isp data files for N2O / C2H5OH(L)_92_H2O(L)_8 34900 times\nreading cea isp data files for N2O / C2H5OH(L)_92_H2O(L)_8 35200 times\nreading cea isp data files for N2O / C2H5OH(L)_92_H2O(L)_8 35500 times\nreading cea isp data files for N2O / C2H5OH(L)_92_H2O(L)_8 35800 times\nreading cea isp data files for N2O / C2H5OH(L)_92_H2O(L)_8 36100 times\nreading cea isp data files for N2O / C2H5OH(L)_92_H2O(L)_8 36400 times\nreading cea isp data files for N2O / C2H5OH(L)_92_H2O(L)_8 36700 times\nreading cea isp data files for N2O / C2H5OH(L)_92_H2O(L)_8 37000 times\nreading cea isp data files for N2O / C2H5OH(L)_92_H2O(L)_8 37300 times\nBest after iteration 18: [4.00000000e+06 5.00000000e-04 5.00000000e-04 5.95000249e+01\n 8.00000000e-02 1.50000000e+00 1.50000000e+00 2.50000000e+03] -233.82221045746704\nreading cea isp data files for N2O / C2H5OH(L)_92_H2O(L)_8 37600 times\nreading cea isp data files for N2O / C2H5OH(L)_92_H2O(L)_8 37900 times\nreading cea isp data files for N2O / C2H5OH(L)_92_H2O(L)_8 38200 times\nreading cea isp data files for N2O / C2H5OH(L)_92_H2O(L)_8 38500 times\nNew best for swarm at iteration 19: [4.00000000e+06 5.00000000e-04 5.00000000e-04 5.95000126e+01\n 8.00000000e-02 1.50000000e+00 1.50000000e+00 2.50000000e+03] -233.82221577319086\nStopping search: Swarm best objective change less than 1e-05\nNo constraints given.\nNew best for swarm at iteration 1: [2.62080746e+06 5.00000000e-04 5.00000000e-04 5.44118307e+01\n 8.00000000e-02 1.50000000e+00 1.50000000e+00 1.83469500e+03] -224.87647666077837\nreading cea isp data files for N2O / C2H5OH(L)_92_H2O(L)_8 38800 times\nreading cea isp data files for N2O / C2H5OH(L)_100_H2O(L)_0 400 times\nBest after iteration 1: [2.62080746e+06 5.00000000e-04 5.00000000e-04 5.44118307e+01\n 8.00000000e-02 1.50000000e+00 1.50000000e+00 1.83469500e+03] -224.87647666077837\nreading cea isp data files for N2O / C2H5OH(L)_92_H2O(L)_8 39100 times\nNew best for swarm at iteration 2: [2.34574669e+06 5.00000000e-04 5.00000000e-04 6.00000000e+01\n 8.00000000e-02 1.50000000e+00 1.50000000e+00 2.18907408e+03] -226.8797675498037\nERROR... bad fuel name (C2H5OH(L)_100_H2O(L)_7.8648e_06) in cea_obj.py\n"
    },
    {
     "output_type": "error",
     "ename": "Exception",
     "evalue": "ERROR... bad fuel name (C2H5OH(L)_100_H2O(L)_7.8648e_06) in cea_obj.py",
     "traceback": [
      "\u001b[0;31m---------------------------------------------------------------------------\u001b[0m",
      "\u001b[0;31mException\u001b[0m                                 Traceback (most recent call last)",
      "\u001b[0;32m<ipython-input-2-bbcc055f87bb>\u001b[0m in \u001b[0;36m<module>\u001b[0;34m\u001b[0m\n\u001b[1;32m      4\u001b[0m \u001b[0;34m\u001b[0m\u001b[0m\n\u001b[1;32m      5\u001b[0m \u001b[0;31m# Running the optimization\u001b[0m\u001b[0;34m\u001b[0m\u001b[0;34m\u001b[0m\u001b[0;34m\u001b[0m\u001b[0m\n\u001b[0;32m----> 6\u001b[0;31m \u001b[0mx_opt\u001b[0m\u001b[0;34m,\u001b[0m \u001b[0mf_opt\u001b[0m \u001b[0;34m=\u001b[0m \u001b[0moptimize\u001b[0m\u001b[0;34m(\u001b[0m\u001b[0mlb\u001b[0m\u001b[0;34m,\u001b[0m \u001b[0mub\u001b[0m\u001b[0;34m,\u001b[0m \u001b[0;36m2\u001b[0m\u001b[0;34m)\u001b[0m\u001b[0;34m\u001b[0m\u001b[0;34m\u001b[0m\u001b[0m\n\u001b[0m\u001b[1;32m      7\u001b[0m \u001b[0mT_min\u001b[0m \u001b[0;34m=\u001b[0m \u001b[0mf_opt\u001b[0m\u001b[0;34m\u001b[0m\u001b[0;34m\u001b[0m\u001b[0m\n",
      "\u001b[0;32m~/Documents/NOELLE/Noelle/Nozzle/nozzle_design.py\u001b[0m in \u001b[0;36moptimize\u001b[0;34m(lb, ub, j)\u001b[0m\n\u001b[1;32m    918\u001b[0m \u001b[0;34m\u001b[0m\u001b[0m\n\u001b[1;32m    919\u001b[0m     \u001b[0;32mfor\u001b[0m \u001b[0mi\u001b[0m \u001b[0;32min\u001b[0m \u001b[0mrange\u001b[0m\u001b[0;34m(\u001b[0m\u001b[0mj\u001b[0m\u001b[0;34m)\u001b[0m\u001b[0;34m:\u001b[0m\u001b[0;34m\u001b[0m\u001b[0;34m\u001b[0m\u001b[0m\n\u001b[0;32m--> 920\u001b[0;31m         \u001b[0mxopt_i\u001b[0m\u001b[0;34m,\u001b[0m \u001b[0mfopt_i\u001b[0m \u001b[0;34m=\u001b[0m \u001b[0mpso\u001b[0m\u001b[0;34m(\u001b[0m\u001b[0mobjective_function\u001b[0m\u001b[0;34m,\u001b[0m \u001b[0mlb\u001b[0m\u001b[0;34m,\u001b[0m \u001b[0mub\u001b[0m\u001b[0;34m,\u001b[0m \u001b[0mswarmsize\u001b[0m\u001b[0;34m=\u001b[0m\u001b[0;36m1000\u001b[0m\u001b[0;34m,\u001b[0m \u001b[0mmaxiter\u001b[0m\u001b[0;34m=\u001b[0m\u001b[0;36m50\u001b[0m\u001b[0;34m,\u001b[0m \u001b[0mminstep\u001b[0m\u001b[0;34m=\u001b[0m\u001b[0;36m1e-6\u001b[0m\u001b[0;34m,\u001b[0m \u001b[0mminfunc\u001b[0m\u001b[0;34m=\u001b[0m\u001b[0;36m1e-5\u001b[0m\u001b[0;34m,\u001b[0m \u001b[0mdebug\u001b[0m\u001b[0;34m=\u001b[0m\u001b[0;32mTrue\u001b[0m\u001b[0;34m)\u001b[0m\u001b[0;34m\u001b[0m\u001b[0;34m\u001b[0m\u001b[0m\n\u001b[0m\u001b[1;32m    921\u001b[0m         \u001b[0;32mif\u001b[0m \u001b[0mfopt_i\u001b[0m \u001b[0;34m<\u001b[0m \u001b[0mfopt\u001b[0m\u001b[0;34m:\u001b[0m\u001b[0;34m\u001b[0m\u001b[0;34m\u001b[0m\u001b[0m\n\u001b[1;32m    922\u001b[0m             \u001b[0mfopt\u001b[0m \u001b[0;34m=\u001b[0m \u001b[0mfopt_i\u001b[0m\u001b[0;34m\u001b[0m\u001b[0;34m\u001b[0m\u001b[0m\n",
      "\u001b[0;32m~/.local/lib/python3.8/site-packages/pyswarm/pso.py\u001b[0m in \u001b[0;36mpso\u001b[0;34m(func, lb, ub, ieqcons, f_ieqcons, args, kwargs, swarmsize, omega, phip, phig, maxiter, minstep, minfunc, debug)\u001b[0m\n\u001b[1;32m    143\u001b[0m             \u001b[0mx\u001b[0m\u001b[0;34m[\u001b[0m\u001b[0mi\u001b[0m\u001b[0;34m,\u001b[0m \u001b[0mmark1\u001b[0m\u001b[0;34m]\u001b[0m \u001b[0;34m=\u001b[0m \u001b[0mlb\u001b[0m\u001b[0;34m[\u001b[0m\u001b[0mmark1\u001b[0m\u001b[0;34m]\u001b[0m\u001b[0;34m\u001b[0m\u001b[0;34m\u001b[0m\u001b[0m\n\u001b[1;32m    144\u001b[0m             \u001b[0mx\u001b[0m\u001b[0;34m[\u001b[0m\u001b[0mi\u001b[0m\u001b[0;34m,\u001b[0m \u001b[0mmark2\u001b[0m\u001b[0;34m]\u001b[0m \u001b[0;34m=\u001b[0m \u001b[0mub\u001b[0m\u001b[0;34m[\u001b[0m\u001b[0mmark2\u001b[0m\u001b[0;34m]\u001b[0m\u001b[0;34m\u001b[0m\u001b[0;34m\u001b[0m\u001b[0m\n\u001b[0;32m--> 145\u001b[0;31m             \u001b[0mfx\u001b[0m \u001b[0;34m=\u001b[0m \u001b[0mobj\u001b[0m\u001b[0;34m(\u001b[0m\u001b[0mx\u001b[0m\u001b[0;34m[\u001b[0m\u001b[0mi\u001b[0m\u001b[0;34m,\u001b[0m \u001b[0;34m:\u001b[0m\u001b[0;34m]\u001b[0m\u001b[0;34m)\u001b[0m\u001b[0;34m\u001b[0m\u001b[0;34m\u001b[0m\u001b[0m\n\u001b[0m\u001b[1;32m    146\u001b[0m \u001b[0;34m\u001b[0m\u001b[0m\n\u001b[1;32m    147\u001b[0m             \u001b[0;31m# Compare particle's best position (if constraints are satisfied)\u001b[0m\u001b[0;34m\u001b[0m\u001b[0;34m\u001b[0m\u001b[0;34m\u001b[0m\u001b[0m\n",
      "\u001b[0;32m~/.local/lib/python3.8/site-packages/pyswarm/pso.py\u001b[0m in \u001b[0;36m<lambda>\u001b[0;34m(x)\u001b[0m\n\u001b[1;32m     72\u001b[0m \u001b[0;34m\u001b[0m\u001b[0m\n\u001b[1;32m     73\u001b[0m     \u001b[0;31m# Check for constraint function(s) #########################################\u001b[0m\u001b[0;34m\u001b[0m\u001b[0;34m\u001b[0m\u001b[0;34m\u001b[0m\u001b[0m\n\u001b[0;32m---> 74\u001b[0;31m     \u001b[0mobj\u001b[0m \u001b[0;34m=\u001b[0m \u001b[0;32mlambda\u001b[0m \u001b[0mx\u001b[0m\u001b[0;34m:\u001b[0m \u001b[0mfunc\u001b[0m\u001b[0;34m(\u001b[0m\u001b[0mx\u001b[0m\u001b[0;34m,\u001b[0m \u001b[0;34m*\u001b[0m\u001b[0margs\u001b[0m\u001b[0;34m,\u001b[0m \u001b[0;34m**\u001b[0m\u001b[0mkwargs\u001b[0m\u001b[0;34m)\u001b[0m\u001b[0;34m\u001b[0m\u001b[0;34m\u001b[0m\u001b[0m\n\u001b[0m\u001b[1;32m     75\u001b[0m     \u001b[0;32mif\u001b[0m \u001b[0mf_ieqcons\u001b[0m \u001b[0;32mis\u001b[0m \u001b[0;32mNone\u001b[0m\u001b[0;34m:\u001b[0m\u001b[0;34m\u001b[0m\u001b[0;34m\u001b[0m\u001b[0m\n\u001b[1;32m     76\u001b[0m         \u001b[0;32mif\u001b[0m \u001b[0;32mnot\u001b[0m \u001b[0mlen\u001b[0m\u001b[0;34m(\u001b[0m\u001b[0mieqcons\u001b[0m\u001b[0;34m)\u001b[0m\u001b[0;34m:\u001b[0m\u001b[0;34m\u001b[0m\u001b[0;34m\u001b[0m\u001b[0m\n",
      "\u001b[0;32m~/Documents/NOELLE/Noelle/Nozzle/nozzle_design.py\u001b[0m in \u001b[0;36mobjective_function\u001b[0;34m(parameters)\u001b[0m\n\u001b[1;32m    856\u001b[0m     \u001b[0mH2O_C2H50H\u001b[0m \u001b[0;34m=\u001b[0m \u001b[0mFluidMixture\u001b[0m\u001b[0;34m(\u001b[0m\u001b[0mfluid1\u001b[0m\u001b[0;34m=\u001b[0m\u001b[0mLC2H5OH\u001b[0m\u001b[0;34m,\u001b[0m \u001b[0mx1\u001b[0m\u001b[0;34m=\u001b[0m\u001b[0mx1\u001b[0m\u001b[0;34m,\u001b[0m \u001b[0mfluid2\u001b[0m\u001b[0;34m=\u001b[0m\u001b[0mH2O\u001b[0m\u001b[0;34m,\u001b[0m \u001b[0mx2\u001b[0m\u001b[0;34m=\u001b[0m\u001b[0mx2\u001b[0m\u001b[0;34m)\u001b[0m\u001b[0;34m\u001b[0m\u001b[0;34m\u001b[0m\u001b[0m\n\u001b[1;32m    857\u001b[0m \u001b[0;34m\u001b[0m\u001b[0m\n\u001b[0;32m--> 858\u001b[0;31m     NOELLE = Motor(\n\u001b[0m\u001b[1;32m    859\u001b[0m         \u001b[0mNOX\u001b[0m\u001b[0;34m,\u001b[0m\u001b[0;34m\u001b[0m\u001b[0;34m\u001b[0m\u001b[0m\n\u001b[1;32m    860\u001b[0m         \u001b[0mH2O_C2H50H\u001b[0m\u001b[0;34m,\u001b[0m\u001b[0;34m\u001b[0m\u001b[0;34m\u001b[0m\u001b[0m\n",
      "\u001b[0;32m~/Documents/NOELLE/Noelle/Nozzle/noelle.py\u001b[0m in \u001b[0;36m__init__\u001b[0;34m(self, oxidizer, fuel, thrust, burn_time, p_chamber, n_cstar, n_cf, cd_ox, cd_fuel, phi)\u001b[0m\n\u001b[1;32m    373\u001b[0m             \u001b[0mOF_ratio\u001b[0m\u001b[0;34m,\u001b[0m \u001b[0mgamma\u001b[0m\u001b[0;34m,\u001b[0m \u001b[0mmolecular_weight\u001b[0m\u001b[0;34m,\u001b[0m \u001b[0mflame_temperature\u001b[0m \u001b[0;34m=\u001b[0m \u001b[0mself\u001b[0m\u001b[0;34m.\u001b[0m\u001b[0moptimize_combustion_parameters_at_chamber\u001b[0m\u001b[0;34m(\u001b[0m\u001b[0;34m)\u001b[0m\u001b[0;34m\u001b[0m\u001b[0;34m\u001b[0m\u001b[0m\n\u001b[1;32m    374\u001b[0m         \u001b[0;32melse\u001b[0m\u001b[0;34m:\u001b[0m\u001b[0;34m\u001b[0m\u001b[0;34m\u001b[0m\u001b[0m\n\u001b[0;32m--> 375\u001b[0;31m             \u001b[0mOF_ratio\u001b[0m\u001b[0;34m,\u001b[0m \u001b[0mgamma\u001b[0m\u001b[0;34m,\u001b[0m \u001b[0mmolecular_weight\u001b[0m\u001b[0;34m,\u001b[0m \u001b[0mflame_temperature\u001b[0m \u001b[0;34m=\u001b[0m \u001b[0mself\u001b[0m\u001b[0;34m.\u001b[0m\u001b[0mcalculate_combustion_parameters_at_chamber\u001b[0m\u001b[0;34m(\u001b[0m\u001b[0mphi\u001b[0m\u001b[0;34m)\u001b[0m\u001b[0;34m\u001b[0m\u001b[0;34m\u001b[0m\u001b[0m\n\u001b[0m\u001b[1;32m    376\u001b[0m \u001b[0;34m\u001b[0m\u001b[0m\n\u001b[1;32m    377\u001b[0m         \u001b[0mself\u001b[0m\u001b[0;34m.\u001b[0m\u001b[0mOF_ratio\u001b[0m \u001b[0;34m=\u001b[0m \u001b[0mOF_ratio\u001b[0m\u001b[0;34m\u001b[0m\u001b[0;34m\u001b[0m\u001b[0m\n",
      "\u001b[0;32m~/Documents/NOELLE/Noelle/Nozzle/noelle.py\u001b[0m in \u001b[0;36mcalculate_combustion_parameters_at_chamber\u001b[0;34m(self, phi)\u001b[0m\n\u001b[1;32m    411\u001b[0m             \u001b[0mAdiabatic\u001b[0m \u001b[0mflame\u001b[0m \u001b[0mtemperature\u001b[0m\u001b[0;34m.\u001b[0m\u001b[0;34m\u001b[0m\u001b[0;34m\u001b[0m\u001b[0m\n\u001b[1;32m    412\u001b[0m         \"\"\"\n\u001b[0;32m--> 413\u001b[0;31m         cea_analysis = CEA_Obj(\n\u001b[0m\u001b[1;32m    414\u001b[0m             \u001b[0moxName\u001b[0m\u001b[0;34m=\u001b[0m\u001b[0mself\u001b[0m\u001b[0;34m.\u001b[0m\u001b[0moxidizer\u001b[0m\u001b[0;34m.\u001b[0m\u001b[0mname\u001b[0m\u001b[0;34m,\u001b[0m\u001b[0;34m\u001b[0m\u001b[0;34m\u001b[0m\u001b[0m\n\u001b[1;32m    415\u001b[0m             \u001b[0mfuelName\u001b[0m\u001b[0;34m=\u001b[0m\u001b[0mself\u001b[0m\u001b[0;34m.\u001b[0m\u001b[0mfuel\u001b[0m\u001b[0;34m.\u001b[0m\u001b[0mname\u001b[0m\u001b[0;34m,\u001b[0m\u001b[0;34m\u001b[0m\u001b[0;34m\u001b[0m\u001b[0m\n",
      "\u001b[0;32m~/.local/lib/python3.8/site-packages/rocketcea/cea_obj_w_units.py\u001b[0m in \u001b[0;36m__init__\u001b[0;34m(self, propName, oxName, fuelName, useFastLookup, makeOutput, isp_units, cstar_units, pressure_units, temperature_units, sonic_velocity_units, enthalpy_units, density_units, specific_heat_units, viscosity_units, thermal_cond_units, fac_CR, make_debug_prints)\u001b[0m\n\u001b[1;32m     68\u001b[0m         \u001b[0mself\u001b[0m\u001b[0;34m.\u001b[0m\u001b[0mthermal_cond_U\u001b[0m   \u001b[0;34m=\u001b[0m \u001b[0mget_units_obj\u001b[0m\u001b[0;34m(\u001b[0m\u001b[0;34m'mcal/cm-K-s'\u001b[0m\u001b[0;34m,\u001b[0m \u001b[0mthermal_cond_units\u001b[0m\u001b[0;34m)\u001b[0m\u001b[0;34m\u001b[0m\u001b[0;34m\u001b[0m\u001b[0m\n\u001b[1;32m     69\u001b[0m \u001b[0;34m\u001b[0m\u001b[0m\n\u001b[0;32m---> 70\u001b[0;31m         self.cea_obj = CEA_Obj_default(propName=propName, oxName=oxName, fuelName=fuelName, \n\u001b[0m\u001b[1;32m     71\u001b[0m                                \u001b[0museFastLookup\u001b[0m\u001b[0;34m=\u001b[0m\u001b[0museFastLookup\u001b[0m\u001b[0;34m,\u001b[0m \u001b[0mmakeOutput\u001b[0m\u001b[0;34m=\u001b[0m\u001b[0mmakeOutput\u001b[0m\u001b[0;34m,\u001b[0m\u001b[0;34m\u001b[0m\u001b[0;34m\u001b[0m\u001b[0m\n\u001b[1;32m     72\u001b[0m                                fac_CR=fac_CR, make_debug_prints=make_debug_prints)\n",
      "\u001b[0;32m~/.local/lib/python3.8/site-packages/rocketcea/cea_obj.py\u001b[0m in \u001b[0;36m__init__\u001b[0;34m(self, propName, oxName, fuelName, fac_CR, useFastLookup, makeOutput, make_debug_prints)\u001b[0m\n\u001b[1;32m    301\u001b[0m             \u001b[0;32melse\u001b[0m\u001b[0;34m:\u001b[0m\u001b[0;34m\u001b[0m\u001b[0;34m\u001b[0m\u001b[0m\n\u001b[1;32m    302\u001b[0m                 \u001b[0mprint\u001b[0m\u001b[0;34m(\u001b[0m\u001b[0;34m'ERROR... bad fuel name (%s) in cea_obj.py'\u001b[0m\u001b[0;34m%\u001b[0m\u001b[0mfuelName\u001b[0m\u001b[0;34m)\u001b[0m\u001b[0;34m\u001b[0m\u001b[0;34m\u001b[0m\u001b[0m\n\u001b[0;32m--> 303\u001b[0;31m                 \u001b[0;32mraise\u001b[0m \u001b[0mException\u001b[0m\u001b[0;34m(\u001b[0m\u001b[0;34m'ERROR... bad fuel name (%s) in cea_obj.py'\u001b[0m\u001b[0;34m%\u001b[0m\u001b[0mfuelName\u001b[0m\u001b[0;34m)\u001b[0m\u001b[0;34m\u001b[0m\u001b[0;34m\u001b[0m\u001b[0m\n\u001b[0m\u001b[1;32m    304\u001b[0m \u001b[0;34m\u001b[0m\u001b[0m\n\u001b[1;32m    305\u001b[0m         \u001b[0;31m#check for oxidizer\u001b[0m\u001b[0;34m\u001b[0m\u001b[0;34m\u001b[0m\u001b[0;34m\u001b[0m\u001b[0m\n",
      "\u001b[0;31mException\u001b[0m: ERROR... bad fuel name (C2H5OH(L)_100_H2O(L)_7.8648e_06) in cea_obj.py"
     ]
    }
   ],
   "source": [
    "# Optimization lower and upper bounds\n",
    "lb = np.array([15e5, 1e-3, 1e-3, 10, 0.00, 0.6, 1.0, 1000])\n",
    "ub = np.array([40e5, 6e-3, 6e-3, 60, 0.08, 1.5, 1.5, 2500])\n",
    "\n",
    "# Running the optimization\n",
    "x_opt, f_opt = optimize(lb, ub, 2)\n",
    "T_min = f_opt"
   ]
  },
  {
   "cell_type": "code",
   "execution_count": 6,
   "metadata": {
    "tags": []
   },
   "outputs": [
    {
     "output_type": "stream",
     "name": "stdout",
     "text": "2969.429605990873\n243.74002713680449\n1.1429165865072355\n3182.2223579569195\n"
    }
   ],
   "source": [
    "parameters = np.array([35e5, 1e-3, 1e-3, 30, 1])\n",
    "\n",
    "inletPressure = parameters[0]\n",
    "channelHeight = parameters[1]\n",
    "channelWidth = parameters[2]\n",
    "numberOfChannels = parameters[3]\n",
    "coolantWaterFraction = 0 # parameters[4]\n",
    "phi = parameters[4]\n",
    "\n",
    "x1 = 100 - coolantWaterFraction*100\n",
    "x2 = coolantWaterFraction*100\n",
    "p_chamber = inletPressure/(10**5)\n",
    "\n",
    "#coolantMassFlow = 0.1\n",
    "\n",
    "exitPressure = 100000\n",
    "thrust = 1000\n",
    "gas = 'CombustionProducts'\n",
    "channelLength = 40e-3\n",
    "k = 401\n",
    "wallThickness = 2e-3\n",
    "coolantType = 'Ethanol'\n",
    "\n",
    "# Oxidizer\n",
    "NOX =  Fluid(name='N2O', coolprop_name='NitrousOxide', formula=None, fluid_type='oxidizer', storage_temperature=298.15)\n",
    "\n",
    "# Fuels\n",
    "H2O = Fluid(name='H2O(L)', coolprop_name='water', formula='H 2 O 1', fluid_type='fuel', storage_pressure=60e5, storage_temperature=298.15)\n",
    "\n",
    "LC2H5OH = Fluid(name='C2H5OH(L)', coolprop_name='ethanol', formula='C 2 H 6 O 1', fluid_type='fuel', storage_pressure=60e5, storage_temperature=298.15)\n",
    "\n",
    "H2O_C2H50H = FluidMixture(fluid1=LC2H5OH, x1=x1, fluid2=H2O, x2=x2)\n",
    "\n",
    "NOELLE = Motor(\n",
    "    NOX,\n",
    "    H2O_C2H50H,\n",
    "    thrust = thrust,\n",
    "    burn_time = 10,\n",
    "    p_chamber = p_chamber,\n",
    "    n_cstar = 1,\n",
    "    n_cf = 1,\n",
    "    cd_ox = 0.6,\n",
    "    cd_fuel = 0.182,\n",
    "    phi = phi\n",
    "    )\n",
    "\n",
    "inletTemperature = NOELLE.To\n",
    "\n",
    "NOELLE_Nozzle1 = Nozzle(inletPressure,\n",
    "    inletTemperature,\n",
    "    exitPressure,\n",
    "    thrust,\n",
    "    gas,\n",
    "    motor=NOELLE\n",
    "    )\n",
    "\n",
    "NOELLE_Nozzle1.addCooling(\n",
    "    channelHeight,\n",
    "    channelWidth,\n",
    "    channelLength,\n",
    "    numberOfChannels,\n",
    "    coolantType,\n",
    "    coolantWaterFraction,\n",
    "    k,\n",
    "    wallThickness\n",
    "    )\n",
    "\n",
    "n_points = 3\n",
    "max_wall_temp = NOELLE_Nozzle1.max_wall_temperature(n_points)\n",
    "\n",
    "print(max_wall_temp)\n",
    "print(NOELLE.Isp)\n",
    "print(NOELLE.k)\n",
    "print(NOELLE.To)"
   ]
  },
  {
   "cell_type": "code",
   "execution_count": 3,
   "metadata": {
    "tags": []
   },
   "outputs": [
    {
     "output_type": "stream",
     "name": "stdout",
     "text": "2473.854304136782\n206.00876054734178\n1.4\n"
    }
   ],
   "source": [
    "parameters = np.array([35e5, 1e-3, 1e-3, 36, 1])\n",
    "\n",
    "inletPressure = parameters[0]\n",
    "channelHeight = parameters[1]\n",
    "channelWidth = parameters[2]\n",
    "numberOfChannels = parameters[3]\n",
    "coolantWaterFraction = 0 # parameters[4]\n",
    "phi = parameters[4]\n",
    "\n",
    "x1 = 100 - coolantWaterFraction*100\n",
    "x2 = coolantWaterFraction*100\n",
    "p_chamber = inletPressure/(10**5)\n",
    "\n",
    "#coolantMassFlow = 0.1\n",
    "\n",
    "exitPressure = 100000\n",
    "thrust = 1000\n",
    "gas = 'Air'\n",
    "channelLength = 40e-3\n",
    "k = 401\n",
    "wallThickness = 2e-3\n",
    "coolantType = 'Ethanol'\n",
    "\n",
    "inletTemperature = 3187\n",
    "\n",
    "NOELLE_Nozzle2 = Nozzle(inletPressure,\n",
    "    inletTemperature,\n",
    "    exitPressure,\n",
    "    thrust,\n",
    "    gas,\n",
    "    motor=False,\n",
    "    n=100\n",
    "    )\n",
    "\n",
    "NOELLE_Nozzle2.addCooling(\n",
    "    channelHeight,\n",
    "    channelWidth,\n",
    "    channelLength,\n",
    "    numberOfChannels,\n",
    "    coolantType,\n",
    "    coolantWaterFraction,\n",
    "    k,\n",
    "    wallThickness,\n",
    "    coolantMassFlow=0.1,\n",
    "    coolantInletTemperature=300,\n",
    "    coolantPressure=35e5\n",
    "    )\n",
    "\n",
    "n_points = 3\n",
    "max_wall_temp = NOELLE_Nozzle2.max_wall_temperature(n_points)\n",
    "\n",
    "print(max_wall_temp)\n",
    "print(NOELLE_Nozzle2.ISP)\n",
    "print(NOELLE_Nozzle2.gamma)\n"
   ]
  },
  {
   "cell_type": "code",
   "execution_count": 4,
   "metadata": {
    "tags": []
   },
   "outputs": [
    {
     "output_type": "stream",
     "name": "stdout",
     "text": "[13227.6741078371, 20629.547617707703, 23814.238037614763]\n725.983777823708\n"
    }
   ],
   "source": [
    "print(NOELLE_Nozzle1.gasH)\n",
    "print(NOELLE_Nozzle1.coolantH)"
   ]
  },
  {
   "cell_type": "code",
   "execution_count": 5,
   "metadata": {
    "tags": []
   },
   "outputs": [
    {
     "output_type": "stream",
     "name": "stdout",
     "text": "[3608.62289561492, 5660.889626434449, 6675.744852446658]\n718.9090868462395\n"
    }
   ],
   "source": [
    "print(NOELLE_Nozzle2.gasH)\n",
    "print(NOELLE_Nozzle2.coolantH)"
   ]
  },
  {
   "cell_type": "code",
   "execution_count": 6,
   "metadata": {
    "tags": []
   },
   "outputs": [
    {
     "output_type": "stream",
     "name": "stdout",
     "text": "[3.3578 2.9922 2.1683]\n[9.8640e-05 9.7741e-05 9.5283e-05]\n[0.5286, 0.5329, 0.5454]\n[0.76049 0.74078 0.68493]\n"
    }
   ],
   "source": [
    "print(NOELLE_Nozzle1.rho_vector)\n",
    "print(NOELLE_Nozzle1.viscosity_vector)\n",
    "print(NOELLE_Nozzle1.Pr_vector)\n",
    "print(NOELLE_Nozzle1.k_vector)"
   ]
  },
  {
   "cell_type": "code",
   "execution_count": 7,
   "metadata": {
    "tags": []
   },
   "outputs": [
    {
     "output_type": "stream",
     "name": "stdout",
     "text": "[3.65190583 3.27664552 2.41945699]\n[9.300228246589196e-05, 9.011351447167252e-05, 8.264665350015524e-05]\n[0.7344099535138106, 0.7355070074006888, 0.7384201987511876]\n[0.16451133768606674, 0.1586381800443145, 0.1435277491643484]\n"
    }
   ],
   "source": [
    "print(NOELLE_Nozzle2.rho_vector)\n",
    "print(NOELLE_Nozzle2.viscosity_vector)\n",
    "print(NOELLE_Nozzle2.Pr_vector)\n",
    "print(NOELLE_Nozzle2.k_vector)"
   ]
  },
  {
   "cell_type": "code",
   "execution_count": 8,
   "metadata": {
    "tags": []
   },
   "outputs": [
    {
     "output_type": "execute_result",
     "data": {
      "text/plain": "[0.29408518584519194, 0.5592295391538813, 1.0000000185553173]"
     },
     "metadata": {},
     "execution_count": 8
    }
   ],
   "source": [
    "NOELLE_Nozzle2.MachFunction"
   ]
  },
  {
   "cell_type": "code",
   "execution_count": 4,
   "metadata": {},
   "outputs": [],
   "source": [
    "def objective_function2(parameters):\n",
    "    inletPressure = parameters[0]\n",
    "    channelHeight = parameters[1]\n",
    "    channelWidth = parameters[2]\n",
    "    numberOfChannels = parameters[3]\n",
    "    coolantWaterFraction = parameters[4]\n",
    "    phi = parameters[5]\n",
    "\n",
    "    x1 = 100 - coolantWaterFraction*100\n",
    "    x2 = coolantWaterFraction*100\n",
    "    p_chamber = inletPressure/(10**5)\n",
    "\n",
    "    #coolantMassFlow = 0.1\n",
    "\n",
    "    exitPressure = 100000\n",
    "    thrust = 1000\n",
    "    gas = 'Air'\n",
    "    channelLength = 40e-3\n",
    "    k = 401\n",
    "    wallThickness = 2e-3\n",
    "    coolantType = 'Ethanol'\n",
    "\n",
    "    inletTemperature = 3187\n",
    "\n",
    "    NOELLE_Nozzle2 = Nozzle(inletPressure,\n",
    "        inletTemperature,\n",
    "        exitPressure,\n",
    "        thrust,\n",
    "        gas,\n",
    "        motor=False,\n",
    "        n=100\n",
    "        )\n",
    "\n",
    "    NOELLE_Nozzle2.addCooling(\n",
    "        channelHeight,\n",
    "        channelWidth,\n",
    "        channelLength,\n",
    "        numberOfChannels,\n",
    "        coolantType,\n",
    "        coolantWaterFraction,\n",
    "        k,\n",
    "        wallThickness,\n",
    "        coolantMassFlow=0.1,\n",
    "        coolantInletTemperature=300,\n",
    "        coolantPressure=35e5\n",
    "        )\n",
    "\n",
    "    n_points = 3\n",
    "    max_wall_temp = NOELLE_Nozzle2.max_wall_temperature(n_points)\n",
    "\n",
    "    objFunction = max_wall_temp\n",
    "\n",
    "    return objFunction"
   ]
  },
  {
   "cell_type": "code",
   "execution_count": 5,
   "metadata": {
    "tags": []
   },
   "outputs": [
    {
     "output_type": "stream",
     "name": "stdout",
     "text": "2.76 ms ± 99.8 µs per loop (mean ± std. dev. of 7 runs, 100 loops each)\n"
    }
   ],
   "source": [
    "parameters = np.array([35e5, 1e-3, 1e-3, 30, 0.05, 1])\n",
    "%timeit objective_function2(parameters)"
   ]
  },
  {
   "cell_type": "code",
   "execution_count": 6,
   "metadata": {
    "tags": []
   },
   "outputs": [
    {
     "output_type": "stream",
     "name": "stdout",
     "text": "34.1 ms ± 515 µs per loop (mean ± std. dev. of 7 runs, 10 loops each)\n"
    }
   ],
   "source": [
    "parameters = np.array([35e5, 1e-3, 1e-3, 30, 0.05, 1])\n",
    "%timeit objective_function(parameters)"
   ]
  },
  {
   "cell_type": "code",
   "execution_count": 5,
   "metadata": {},
   "outputs": [
    {
     "output_type": "execute_result",
     "data": {
      "text/plain": "2505.371260561282"
     },
     "metadata": {},
     "execution_count": 5
    }
   ],
   "source": [
    "objective_function([30e5, 4e-3, 1e-3, 20, 0.08, 1.5, 1.5, 1000])"
   ]
  },
  {
   "cell_type": "code",
   "execution_count": 6,
   "metadata": {},
   "outputs": [
    {
     "output_type": "execute_result",
     "data": {
      "text/plain": "2592.3556128345936"
     },
     "metadata": {},
     "execution_count": 6
    }
   ],
   "source": [
    "objective_function([30e5, 4e-3, 1e-3, 20, 0.08, 1.5, 1.5, 2000])"
   ]
  },
  {
   "cell_type": "code",
   "execution_count": null,
   "metadata": {},
   "outputs": [],
   "source": []
  }
 ],
 "metadata": {
  "kernelspec": {
   "display_name": "Python 3",
   "language": "python",
   "name": "python3"
  },
  "language_info": {
   "codemirror_mode": {
    "name": "ipython",
    "version": 3
   },
   "file_extension": ".py",
   "mimetype": "text/x-python",
   "name": "python",
   "nbconvert_exporter": "python",
   "pygments_lexer": "ipython3",
   "version": "3.8.2-final"
  }
 },
 "nbformat": 4,
 "nbformat_minor": 2
}