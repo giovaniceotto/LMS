{
 "cells": [
  {
   "cell_type": "code",
   "execution_count": 1,
   "metadata": {},
   "outputs": [],
   "source": [
    "from nozzle_design import *"
   ]
  },
  {
   "cell_type": "code",
   "execution_count": 3,
   "metadata": {
    "tags": []
   },
   "outputs": [
    {
     "output_type": "stream",
     "name": "stdout",
     "text": "No constraints given.\nNew best for swarm at iteration 1: [2.90202268e+06 2.09395790e-03 5.00000000e-04 5.96975510e+01\n 2.11888284e-02 7.80684617e-01] [2437.78558701]\nNew best for swarm at iteration 1: [2.31292356e+06 3.00000000e-03 5.00000000e-04 6.00000000e+01\n 2.20674728e-02 8.41558822e-01] [2325.13404266]\nNew best for swarm at iteration 1: [2.00000000e+06 2.82955850e-03 6.74193961e-04 5.75455305e+01\n 2.46438834e-02 7.00000000e-01] [2312.0228102]\nNew best for swarm at iteration 1: [2.13324209e+06 3.00000000e-03 5.00000000e-04 6.00000000e+01\n 0.00000000e+00 7.78455355e-01] [2265.62999963]\nBest after iteration 1: [2.13324209e+06 3.00000000e-03 5.00000000e-04 6.00000000e+01\n 0.00000000e+00 7.78455355e-01] [2265.62999963]\nNew best for swarm at iteration 2: [2.93833878e+06 2.92605085e-03 5.00000000e-04 6.00000000e+01\n 1.78603000e-02 7.00000000e-01] [2240.86249108]\nNew best for swarm at iteration 2: [2.00000000e+06 3.00000000e-03 5.00000000e-04 6.00000000e+01\n 1.82505269e-02 7.00000000e-01] [2162.01206165]\nNew best for swarm at iteration 2: [2.02286507e+06 3.00000000e-03 5.00000000e-04 6.00000000e+01\n 3.60235756e-02 7.00000000e-01] [2156.51435929]\nBest after iteration 2: [2.02286507e+06 3.00000000e-03 5.00000000e-04 6.00000000e+01\n 3.60235756e-02 7.00000000e-01] [2156.51435929]\nNew best for swarm at iteration 3: [2.00000000e+06 3.00000000e-03 5.00000000e-04 6.00000000e+01\n 3.43356423e-02 7.00000000e-01] [2155.2468595]\nBest after iteration 3: [2.00000000e+06 3.00000000e-03 5.00000000e-04 6.00000000e+01\n 3.43356423e-02 7.00000000e-01] [2155.2468595]\nNew best for swarm at iteration 4: [2.00000000e+06 3.00000000e-03 5.00000000e-04 6.00000000e+01\n 3.80683456e-02 7.00000000e-01] [2153.64469748]\nNew best for swarm at iteration 4: [2.00000000e+06 3.00000000e-03 5.00000000e-04 6.00000000e+01\n 4.07843042e-02 7.00000000e-01] [2152.48264188]\nNew best for swarm at iteration 4: [2.00000000e+06 3.00000000e-03 5.00000000e-04 6.00000000e+01\n 4.14300485e-02 7.00000000e-01] [2152.19549193]\nBest after iteration 4: [2.00000000e+06 3.00000000e-03 5.00000000e-04 6.00000000e+01\n 4.14300485e-02 7.00000000e-01] [2152.19549193]\nNew best for swarm at iteration 5: [2.00000000e+06 3.00000000e-03 5.00000000e-04 6.00000000e+01\n 4.18449221e-02 7.00000000e-01] [2152.00939716]\nNew best for swarm at iteration 5: [2.00000000e+06 3.00000000e-03 5.00000000e-04 6.00000000e+01\n 4.72567032e-02 7.00000000e-01] [2149.64003068]\nBest after iteration 5: [2.00000000e+06 3.00000000e-03 5.00000000e-04 6.00000000e+01\n 4.72567032e-02 7.00000000e-01] [2149.64003068]\nNew best for swarm at iteration 6: [2.0000000e+06 3.0000000e-03 5.0000000e-04 6.0000000e+01 4.9123134e-02\n 7.0000000e-01] [2148.81941195]\nNew best for swarm at iteration 6: [2.00000000e+06 3.00000000e-03 5.00000000e-04 6.00000000e+01\n 4.96887292e-02 7.00000000e-01] [2148.55929622]\nNew best for swarm at iteration 6: [2.e+06 3.e-03 5.e-04 6.e+01 5.e-02 7.e-01] [2148.44265459]\nBest after iteration 6: [2.e+06 3.e-03 5.e-04 6.e+01 5.e-02 7.e-01] [2148.44265459]\nBest after iteration 7: [2.e+06 3.e-03 5.e-04 6.e+01 5.e-02 7.e-01] [2148.44265459]\nBest after iteration 8: [2.e+06 3.e-03 5.e-04 6.e+01 5.e-02 7.e-01] [2148.44265459]\nBest after iteration 9: [2.e+06 3.e-03 5.e-04 6.e+01 5.e-02 7.e-01] [2148.44265459]\nBest after iteration 10: [2.e+06 3.e-03 5.e-04 6.e+01 5.e-02 7.e-01] [2148.44265459]\nBest after iteration 11: [2.e+06 3.e-03 5.e-04 6.e+01 5.e-02 7.e-01] [2148.44265459]\nBest after iteration 12: [2.e+06 3.e-03 5.e-04 6.e+01 5.e-02 7.e-01] [2148.44265459]\nBest after iteration 13: [2.e+06 3.e-03 5.e-04 6.e+01 5.e-02 7.e-01] [2148.44265459]\nBest after iteration 14: [2.e+06 3.e-03 5.e-04 6.e+01 5.e-02 7.e-01] [2148.44265459]\nBest after iteration 15: [2.e+06 3.e-03 5.e-04 6.e+01 5.e-02 7.e-01] [2148.44265459]\nBest after iteration 16: [2.e+06 3.e-03 5.e-04 6.e+01 5.e-02 7.e-01] [2148.44265459]\nBest after iteration 17: [2.e+06 3.e-03 5.e-04 6.e+01 5.e-02 7.e-01] [2148.44265459]\nBest after iteration 18: [2.e+06 3.e-03 5.e-04 6.e+01 5.e-02 7.e-01] [2148.44265459]\nBest after iteration 19: [2.e+06 3.e-03 5.e-04 6.e+01 5.e-02 7.e-01] [2148.44265459]\nBest after iteration 20: [2.e+06 3.e-03 5.e-04 6.e+01 5.e-02 7.e-01] [2148.44265459]\nBest after iteration 21: [2.e+06 3.e-03 5.e-04 6.e+01 5.e-02 7.e-01] [2148.44265459]\nBest after iteration 22: [2.e+06 3.e-03 5.e-04 6.e+01 5.e-02 7.e-01] [2148.44265459]\nBest after iteration 23: [2.e+06 3.e-03 5.e-04 6.e+01 5.e-02 7.e-01] [2148.44265459]\nBest after iteration 24: [2.e+06 3.e-03 5.e-04 6.e+01 5.e-02 7.e-01] [2148.44265459]\nBest after iteration 25: [2.e+06 3.e-03 5.e-04 6.e+01 5.e-02 7.e-01] [2148.44265459]\nBest after iteration 26: [2.e+06 3.e-03 5.e-04 6.e+01 5.e-02 7.e-01] [2148.44265459]\nBest after iteration 27: [2.e+06 3.e-03 5.e-04 6.e+01 5.e-02 7.e-01] [2148.44265459]\nBest after iteration 28: [2.e+06 3.e-03 5.e-04 6.e+01 5.e-02 7.e-01] [2148.44265459]\nBest after iteration 29: [2.e+06 3.e-03 5.e-04 6.e+01 5.e-02 7.e-01] [2148.44265459]\nBest after iteration 30: [2.e+06 3.e-03 5.e-04 6.e+01 5.e-02 7.e-01] [2148.44265459]\nBest after iteration 31: [2.e+06 3.e-03 5.e-04 6.e+01 5.e-02 7.e-01] [2148.44265459]\nBest after iteration 32: [2.e+06 3.e-03 5.e-04 6.e+01 5.e-02 7.e-01] [2148.44265459]\nBest after iteration 33: [2.e+06 3.e-03 5.e-04 6.e+01 5.e-02 7.e-01] [2148.44265459]\nBest after iteration 34: [2.e+06 3.e-03 5.e-04 6.e+01 5.e-02 7.e-01] [2148.44265459]\nBest after iteration 35: [2.e+06 3.e-03 5.e-04 6.e+01 5.e-02 7.e-01] [2148.44265459]\nBest after iteration 36: [2.e+06 3.e-03 5.e-04 6.e+01 5.e-02 7.e-01] [2148.44265459]\nBest after iteration 37: [2.e+06 3.e-03 5.e-04 6.e+01 5.e-02 7.e-01] [2148.44265459]\nBest after iteration 38: [2.e+06 3.e-03 5.e-04 6.e+01 5.e-02 7.e-01] [2148.44265459]\nBest after iteration 39: [2.e+06 3.e-03 5.e-04 6.e+01 5.e-02 7.e-01] [2148.44265459]\nBest after iteration 40: [2.e+06 3.e-03 5.e-04 6.e+01 5.e-02 7.e-01] [2148.44265459]\nBest after iteration 41: [2.e+06 3.e-03 5.e-04 6.e+01 5.e-02 7.e-01] [2148.44265459]\nBest after iteration 42: [2.e+06 3.e-03 5.e-04 6.e+01 5.e-02 7.e-01] [2148.44265459]\nBest after iteration 43: [2.e+06 3.e-03 5.e-04 6.e+01 5.e-02 7.e-01] [2148.44265459]\nBest after iteration 44: [2.e+06 3.e-03 5.e-04 6.e+01 5.e-02 7.e-01] [2148.44265459]\nBest after iteration 45: [2.e+06 3.e-03 5.e-04 6.e+01 5.e-02 7.e-01] [2148.44265459]\nBest after iteration 46: [2.e+06 3.e-03 5.e-04 6.e+01 5.e-02 7.e-01] [2148.44265459]\nBest after iteration 47: [2.e+06 3.e-03 5.e-04 6.e+01 5.e-02 7.e-01] [2148.44265459]\nBest after iteration 48: [2.e+06 3.e-03 5.e-04 6.e+01 5.e-02 7.e-01] [2148.44265459]\nBest after iteration 49: [2.e+06 3.e-03 5.e-04 6.e+01 5.e-02 7.e-01] [2148.44265459]\nBest after iteration 50: [2.e+06 3.e-03 5.e-04 6.e+01 5.e-02 7.e-01] [2148.44265459]\nBest after iteration 51: [2.e+06 3.e-03 5.e-04 6.e+01 5.e-02 7.e-01] [2148.44265459]\nBest after iteration 52: [2.e+06 3.e-03 5.e-04 6.e+01 5.e-02 7.e-01] [2148.44265459]\nBest after iteration 53: [2.e+06 3.e-03 5.e-04 6.e+01 5.e-02 7.e-01] [2148.44265459]\n"
    },
    {
     "output_type": "error",
     "ename": "KeyboardInterrupt",
     "evalue": "",
     "traceback": [
      "\u001b[0;31m---------------------------------------------------------------------------\u001b[0m",
      "\u001b[0;31mKeyboardInterrupt\u001b[0m                         Traceback (most recent call last)",
      "\u001b[0;32m<ipython-input-3-ddad12ec7b6f>\u001b[0m in \u001b[0;36m<module>\u001b[0;34m\u001b[0m\n\u001b[1;32m      4\u001b[0m \u001b[0;34m\u001b[0m\u001b[0m\n\u001b[1;32m      5\u001b[0m \u001b[0;31m# Running the optimization\u001b[0m\u001b[0;34m\u001b[0m\u001b[0;34m\u001b[0m\u001b[0;34m\u001b[0m\u001b[0m\n\u001b[0;32m----> 6\u001b[0;31m \u001b[0mx_opt\u001b[0m\u001b[0;34m,\u001b[0m \u001b[0mf_opt\u001b[0m \u001b[0;34m=\u001b[0m \u001b[0moptimize\u001b[0m\u001b[0;34m(\u001b[0m\u001b[0mlb\u001b[0m\u001b[0;34m,\u001b[0m \u001b[0mub\u001b[0m\u001b[0;34m,\u001b[0m \u001b[0;36m2\u001b[0m\u001b[0;34m)\u001b[0m\u001b[0;34m\u001b[0m\u001b[0;34m\u001b[0m\u001b[0m\n\u001b[0m\u001b[1;32m      7\u001b[0m \u001b[0mT_min\u001b[0m \u001b[0;34m=\u001b[0m \u001b[0mf_opt\u001b[0m\u001b[0;34m\u001b[0m\u001b[0;34m\u001b[0m\u001b[0m\n",
      "\u001b[0;32m~/Documents/NOELLE/Noelle/Nozzle/nozzle_design.py\u001b[0m in \u001b[0;36moptimize\u001b[0;34m(lb, ub, j)\u001b[0m\n\u001b[1;32m    872\u001b[0m \u001b[0;34m\u001b[0m\u001b[0m\n\u001b[1;32m    873\u001b[0m     \u001b[0;32mfor\u001b[0m \u001b[0mi\u001b[0m \u001b[0;32min\u001b[0m \u001b[0mrange\u001b[0m\u001b[0;34m(\u001b[0m\u001b[0mj\u001b[0m\u001b[0;34m)\u001b[0m\u001b[0;34m:\u001b[0m\u001b[0;34m\u001b[0m\u001b[0;34m\u001b[0m\u001b[0m\n\u001b[0;32m--> 874\u001b[0;31m         \u001b[0mxopt_i\u001b[0m\u001b[0;34m,\u001b[0m \u001b[0mfopt_i\u001b[0m \u001b[0;34m=\u001b[0m \u001b[0mpso\u001b[0m\u001b[0;34m(\u001b[0m\u001b[0mobjective_function\u001b[0m\u001b[0;34m,\u001b[0m \u001b[0mlb\u001b[0m\u001b[0;34m,\u001b[0m \u001b[0mub\u001b[0m\u001b[0;34m,\u001b[0m \u001b[0mswarmsize\u001b[0m\u001b[0;34m=\u001b[0m\u001b[0;36m500\u001b[0m\u001b[0;34m,\u001b[0m \u001b[0mmaxiter\u001b[0m\u001b[0;34m=\u001b[0m\u001b[0;36m100\u001b[0m\u001b[0;34m,\u001b[0m \u001b[0mminstep\u001b[0m\u001b[0;34m=\u001b[0m\u001b[0;36m1e-6\u001b[0m\u001b[0;34m,\u001b[0m \u001b[0mminfunc\u001b[0m\u001b[0;34m=\u001b[0m\u001b[0;36m1e-5\u001b[0m\u001b[0;34m,\u001b[0m \u001b[0mdebug\u001b[0m\u001b[0;34m=\u001b[0m\u001b[0;32mTrue\u001b[0m\u001b[0;34m)\u001b[0m\u001b[0;34m\u001b[0m\u001b[0;34m\u001b[0m\u001b[0m\n\u001b[0m\u001b[1;32m    875\u001b[0m         \u001b[0;32mif\u001b[0m \u001b[0mfopt_i\u001b[0m \u001b[0;34m<\u001b[0m \u001b[0mfopt\u001b[0m\u001b[0;34m:\u001b[0m\u001b[0;34m\u001b[0m\u001b[0;34m\u001b[0m\u001b[0m\n\u001b[1;32m    876\u001b[0m             \u001b[0mfopt\u001b[0m \u001b[0;34m=\u001b[0m \u001b[0mfopt_i\u001b[0m\u001b[0;34m\u001b[0m\u001b[0;34m\u001b[0m\u001b[0m\n",
      "\u001b[0;32m~/.local/lib/python3.8/site-packages/pyswarm/pso.py\u001b[0m in \u001b[0;36mpso\u001b[0;34m(func, lb, ub, ieqcons, f_ieqcons, args, kwargs, swarmsize, omega, phip, phig, maxiter, minstep, minfunc, debug)\u001b[0m\n\u001b[1;32m    143\u001b[0m             \u001b[0mx\u001b[0m\u001b[0;34m[\u001b[0m\u001b[0mi\u001b[0m\u001b[0;34m,\u001b[0m \u001b[0mmark1\u001b[0m\u001b[0;34m]\u001b[0m \u001b[0;34m=\u001b[0m \u001b[0mlb\u001b[0m\u001b[0;34m[\u001b[0m\u001b[0mmark1\u001b[0m\u001b[0;34m]\u001b[0m\u001b[0;34m\u001b[0m\u001b[0;34m\u001b[0m\u001b[0m\n\u001b[1;32m    144\u001b[0m             \u001b[0mx\u001b[0m\u001b[0;34m[\u001b[0m\u001b[0mi\u001b[0m\u001b[0;34m,\u001b[0m \u001b[0mmark2\u001b[0m\u001b[0;34m]\u001b[0m \u001b[0;34m=\u001b[0m \u001b[0mub\u001b[0m\u001b[0;34m[\u001b[0m\u001b[0mmark2\u001b[0m\u001b[0;34m]\u001b[0m\u001b[0;34m\u001b[0m\u001b[0;34m\u001b[0m\u001b[0m\n\u001b[0;32m--> 145\u001b[0;31m             \u001b[0mfx\u001b[0m \u001b[0;34m=\u001b[0m \u001b[0mobj\u001b[0m\u001b[0;34m(\u001b[0m\u001b[0mx\u001b[0m\u001b[0;34m[\u001b[0m\u001b[0mi\u001b[0m\u001b[0;34m,\u001b[0m \u001b[0;34m:\u001b[0m\u001b[0;34m]\u001b[0m\u001b[0;34m)\u001b[0m\u001b[0;34m\u001b[0m\u001b[0;34m\u001b[0m\u001b[0m\n\u001b[0m\u001b[1;32m    146\u001b[0m \u001b[0;34m\u001b[0m\u001b[0m\n\u001b[1;32m    147\u001b[0m             \u001b[0;31m# Compare particle's best position (if constraints are satisfied)\u001b[0m\u001b[0;34m\u001b[0m\u001b[0;34m\u001b[0m\u001b[0;34m\u001b[0m\u001b[0m\n",
      "\u001b[0;32m~/.local/lib/python3.8/site-packages/pyswarm/pso.py\u001b[0m in \u001b[0;36m<lambda>\u001b[0;34m(x)\u001b[0m\n\u001b[1;32m     72\u001b[0m \u001b[0;34m\u001b[0m\u001b[0m\n\u001b[1;32m     73\u001b[0m     \u001b[0;31m# Check for constraint function(s) #########################################\u001b[0m\u001b[0;34m\u001b[0m\u001b[0;34m\u001b[0m\u001b[0;34m\u001b[0m\u001b[0m\n\u001b[0;32m---> 74\u001b[0;31m     \u001b[0mobj\u001b[0m \u001b[0;34m=\u001b[0m \u001b[0;32mlambda\u001b[0m \u001b[0mx\u001b[0m\u001b[0;34m:\u001b[0m \u001b[0mfunc\u001b[0m\u001b[0;34m(\u001b[0m\u001b[0mx\u001b[0m\u001b[0;34m,\u001b[0m \u001b[0;34m*\u001b[0m\u001b[0margs\u001b[0m\u001b[0;34m,\u001b[0m \u001b[0;34m**\u001b[0m\u001b[0mkwargs\u001b[0m\u001b[0;34m)\u001b[0m\u001b[0;34m\u001b[0m\u001b[0;34m\u001b[0m\u001b[0m\n\u001b[0m\u001b[1;32m     75\u001b[0m     \u001b[0;32mif\u001b[0m \u001b[0mf_ieqcons\u001b[0m \u001b[0;32mis\u001b[0m \u001b[0;32mNone\u001b[0m\u001b[0;34m:\u001b[0m\u001b[0;34m\u001b[0m\u001b[0;34m\u001b[0m\u001b[0m\n\u001b[1;32m     76\u001b[0m         \u001b[0;32mif\u001b[0m \u001b[0;32mnot\u001b[0m \u001b[0mlen\u001b[0m\u001b[0;34m(\u001b[0m\u001b[0mieqcons\u001b[0m\u001b[0;34m)\u001b[0m\u001b[0;34m:\u001b[0m\u001b[0;34m\u001b[0m\u001b[0;34m\u001b[0m\u001b[0m\n",
      "\u001b[0;32m~/Documents/NOELLE/Noelle/Nozzle/nozzle_design.py\u001b[0m in \u001b[0;36mobjective_function\u001b[0;34m(parameters)\u001b[0m\n\u001b[1;32m    814\u001b[0m     \u001b[0mH2O_C2H50H\u001b[0m \u001b[0;34m=\u001b[0m \u001b[0mFluidMixture\u001b[0m\u001b[0;34m(\u001b[0m\u001b[0mfluid1\u001b[0m\u001b[0;34m=\u001b[0m\u001b[0mLC2H5OH\u001b[0m\u001b[0;34m,\u001b[0m \u001b[0mx1\u001b[0m\u001b[0;34m=\u001b[0m\u001b[0mx1\u001b[0m\u001b[0;34m,\u001b[0m \u001b[0mfluid2\u001b[0m\u001b[0;34m=\u001b[0m\u001b[0mH2O\u001b[0m\u001b[0;34m,\u001b[0m \u001b[0mx2\u001b[0m\u001b[0;34m=\u001b[0m\u001b[0mx2\u001b[0m\u001b[0;34m)\u001b[0m\u001b[0;34m\u001b[0m\u001b[0;34m\u001b[0m\u001b[0m\n\u001b[1;32m    815\u001b[0m \u001b[0;34m\u001b[0m\u001b[0m\n\u001b[0;32m--> 816\u001b[0;31m     NOELLE = Motor(\n\u001b[0m\u001b[1;32m    817\u001b[0m         \u001b[0mNOX\u001b[0m\u001b[0;34m,\u001b[0m\u001b[0;34m\u001b[0m\u001b[0;34m\u001b[0m\u001b[0m\n\u001b[1;32m    818\u001b[0m         \u001b[0mH2O_C2H50H\u001b[0m\u001b[0;34m,\u001b[0m\u001b[0;34m\u001b[0m\u001b[0;34m\u001b[0m\u001b[0m\n",
      "\u001b[0;32m~/Documents/NOELLE/Noelle/Nozzle/noelle.py\u001b[0m in \u001b[0;36m__init__\u001b[0;34m(self, oxidizer, fuel, thrust, burn_time, p_chamber, n_cstar, n_cf, cd_ox, cd_fuel, phi)\u001b[0m\n\u001b[1;32m    373\u001b[0m             \u001b[0mOF_ratio\u001b[0m\u001b[0;34m,\u001b[0m \u001b[0mgamma\u001b[0m\u001b[0;34m,\u001b[0m \u001b[0mmolecular_weight\u001b[0m\u001b[0;34m,\u001b[0m \u001b[0mflame_temperature\u001b[0m \u001b[0;34m=\u001b[0m \u001b[0mself\u001b[0m\u001b[0;34m.\u001b[0m\u001b[0moptimize_combustion_parameters_at_chamber\u001b[0m\u001b[0;34m(\u001b[0m\u001b[0;34m)\u001b[0m\u001b[0;34m\u001b[0m\u001b[0;34m\u001b[0m\u001b[0m\n\u001b[1;32m    374\u001b[0m         \u001b[0;32melse\u001b[0m\u001b[0;34m:\u001b[0m\u001b[0;34m\u001b[0m\u001b[0;34m\u001b[0m\u001b[0m\n\u001b[0;32m--> 375\u001b[0;31m             \u001b[0mOF_ratio\u001b[0m\u001b[0;34m,\u001b[0m \u001b[0mgamma\u001b[0m\u001b[0;34m,\u001b[0m \u001b[0mmolecular_weight\u001b[0m\u001b[0;34m,\u001b[0m \u001b[0mflame_temperature\u001b[0m \u001b[0;34m=\u001b[0m \u001b[0mself\u001b[0m\u001b[0;34m.\u001b[0m\u001b[0mcalculate_combustion_parameters_at_chamber\u001b[0m\u001b[0;34m(\u001b[0m\u001b[0mphi\u001b[0m\u001b[0;34m)\u001b[0m\u001b[0;34m\u001b[0m\u001b[0;34m\u001b[0m\u001b[0m\n\u001b[0m\u001b[1;32m    376\u001b[0m \u001b[0;34m\u001b[0m\u001b[0m\n\u001b[1;32m    377\u001b[0m         \u001b[0mself\u001b[0m\u001b[0;34m.\u001b[0m\u001b[0mOF_ratio\u001b[0m \u001b[0;34m=\u001b[0m \u001b[0mOF_ratio\u001b[0m\u001b[0;34m\u001b[0m\u001b[0;34m\u001b[0m\u001b[0m\n",
      "\u001b[0;32m~/Documents/NOELLE/Noelle/Nozzle/noelle.py\u001b[0m in \u001b[0;36mcalculate_combustion_parameters_at_chamber\u001b[0;34m(self, phi)\u001b[0m\n\u001b[1;32m    427\u001b[0m \u001b[0;34m\u001b[0m\u001b[0m\n\u001b[1;32m    428\u001b[0m         \u001b[0;31m# Get OF ratio based on equivalence ratio\u001b[0m\u001b[0;34m\u001b[0m\u001b[0;34m\u001b[0m\u001b[0;34m\u001b[0m\u001b[0m\n\u001b[0;32m--> 429\u001b[0;31m         \u001b[0mOF_ratio\u001b[0m \u001b[0;34m=\u001b[0m \u001b[0mcea_analysis\u001b[0m\u001b[0;34m.\u001b[0m\u001b[0mgetMRforER\u001b[0m\u001b[0;34m(\u001b[0m\u001b[0mERphi\u001b[0m\u001b[0;34m=\u001b[0m\u001b[0mphi\u001b[0m\u001b[0;34m)\u001b[0m\u001b[0;34m\u001b[0m\u001b[0;34m\u001b[0m\u001b[0m\n\u001b[0m\u001b[1;32m    430\u001b[0m \u001b[0;34m\u001b[0m\u001b[0m\n\u001b[1;32m    431\u001b[0m         \u001b[0;31m# Calculate outputs\u001b[0m\u001b[0;34m\u001b[0m\u001b[0;34m\u001b[0m\u001b[0;34m\u001b[0m\u001b[0m\n",
      "\u001b[0;32m~/.local/lib/python3.8/site-packages/rocketcea/cea_obj_w_units.py\u001b[0m in \u001b[0;36mgetMRforER\u001b[0;34m(self, ERphi, ERr)\u001b[0m\n\u001b[1;32m    285\u001b[0m \u001b[0;34m\u001b[0m\u001b[0m\n\u001b[1;32m    286\u001b[0m     \u001b[0;32mdef\u001b[0m \u001b[0mgetMRforER\u001b[0m\u001b[0;34m(\u001b[0m\u001b[0mself\u001b[0m\u001b[0;34m,\u001b[0m \u001b[0mERphi\u001b[0m\u001b[0;34m=\u001b[0m\u001b[0;32mNone\u001b[0m\u001b[0;34m,\u001b[0m \u001b[0mERr\u001b[0m\u001b[0;34m=\u001b[0m\u001b[0;32mNone\u001b[0m\u001b[0;34m)\u001b[0m\u001b[0;34m:\u001b[0m\u001b[0;34m\u001b[0m\u001b[0;34m\u001b[0m\u001b[0m\n\u001b[0;32m--> 287\u001b[0;31m         \u001b[0;32mreturn\u001b[0m \u001b[0mself\u001b[0m\u001b[0;34m.\u001b[0m\u001b[0mcea_obj\u001b[0m\u001b[0;34m.\u001b[0m\u001b[0mgetMRforER\u001b[0m\u001b[0;34m(\u001b[0m \u001b[0mERphi\u001b[0m\u001b[0;34m=\u001b[0m\u001b[0mERphi\u001b[0m\u001b[0;34m,\u001b[0m \u001b[0mERr\u001b[0m\u001b[0;34m=\u001b[0m\u001b[0mERr\u001b[0m \u001b[0;34m)\u001b[0m\u001b[0;34m\u001b[0m\u001b[0;34m\u001b[0m\u001b[0m\n\u001b[0m\u001b[1;32m    288\u001b[0m \u001b[0;34m\u001b[0m\u001b[0m\n\u001b[1;32m    289\u001b[0m     \u001b[0;32mdef\u001b[0m \u001b[0mget_description\u001b[0m\u001b[0;34m(\u001b[0m\u001b[0mself\u001b[0m\u001b[0;34m)\u001b[0m\u001b[0;34m:\u001b[0m\u001b[0;34m\u001b[0m\u001b[0;34m\u001b[0m\u001b[0m\n",
      "\u001b[0;32m~/.local/lib/python3.8/site-packages/rocketcea/cea_obj.py\u001b[0m in \u001b[0;36mgetMRforER\u001b[0;34m(self, ERphi, ERr)\u001b[0m\n\u001b[1;32m   1316\u001b[0m \u001b[0;34m\u001b[0m\u001b[0m\n\u001b[1;32m   1317\u001b[0m         \u001b[0;32mif\u001b[0m \u001b[0mERphi\u001b[0m \u001b[0;34m!=\u001b[0m \u001b[0;32mNone\u001b[0m\u001b[0;34m:\u001b[0m\u001b[0;34m\u001b[0m\u001b[0;34m\u001b[0m\u001b[0m\n\u001b[0;32m-> 1318\u001b[0;31m             \u001b[0mself\u001b[0m\u001b[0;34m.\u001b[0m\u001b[0msetupCards\u001b[0m\u001b[0;34m(\u001b[0m \u001b[0mPc\u001b[0m\u001b[0;34m=\u001b[0m\u001b[0;36m100.0\u001b[0m\u001b[0;34m,\u001b[0m \u001b[0mERphi\u001b[0m\u001b[0;34m=\u001b[0m\u001b[0mERphi\u001b[0m\u001b[0;34m,\u001b[0m \u001b[0meps\u001b[0m\u001b[0;34m=\u001b[0m\u001b[0;36m40.0\u001b[0m \u001b[0;34m)\u001b[0m\u001b[0;34m\u001b[0m\u001b[0;34m\u001b[0m\u001b[0m\n\u001b[0m\u001b[1;32m   1319\u001b[0m             \u001b[0mMR\u001b[0m \u001b[0;34m=\u001b[0m \u001b[0mpy_cea\u001b[0m\u001b[0;34m.\u001b[0m\u001b[0mmiscr\u001b[0m\u001b[0;34m.\u001b[0m\u001b[0moxfl\u001b[0m\u001b[0;34m\u001b[0m\u001b[0;34m\u001b[0m\u001b[0m\n\u001b[1;32m   1320\u001b[0m         \u001b[0;32melif\u001b[0m \u001b[0mERr\u001b[0m \u001b[0;34m!=\u001b[0m \u001b[0;32mNone\u001b[0m\u001b[0;34m:\u001b[0m\u001b[0;34m\u001b[0m\u001b[0;34m\u001b[0m\u001b[0m\n",
      "\u001b[0;32m~/.local/lib/python3.8/site-packages/rocketcea/cea_obj.py\u001b[0m in \u001b[0;36msetupCards\u001b[0;34m(self, Pc, MR, eps, subar, PcOvPe, frozen, ERphi, ERr, frozenAtThroat, short_output, show_transport, pc_units, output, show_mass_frac)\u001b[0m\n\u001b[1;32m    595\u001b[0m         \u001b[0;31m#print( 'calling py_cea with pathPrefix and myfile=' )\u001b[0m\u001b[0;34m\u001b[0m\u001b[0;34m\u001b[0m\u001b[0;34m\u001b[0m\u001b[0m\n\u001b[1;32m    596\u001b[0m         \u001b[0;31m#print( '\"'+self.pathPrefix+'\"',' and ', '\"'+myfile+'\"' )\u001b[0m\u001b[0;34m\u001b[0m\u001b[0;34m\u001b[0m\u001b[0;34m\u001b[0m\u001b[0m\n\u001b[0;32m--> 597\u001b[0;31m         \u001b[0mpy_cea\u001b[0m\u001b[0;34m.\u001b[0m\u001b[0mpy_cea\u001b[0m\u001b[0;34m(\u001b[0m\u001b[0mself\u001b[0m\u001b[0;34m.\u001b[0m\u001b[0mpathPrefix\u001b[0m\u001b[0;34m,\u001b[0m \u001b[0mmyfile\u001b[0m\u001b[0;34m,\u001b[0m \u001b[0mself\u001b[0m\u001b[0;34m.\u001b[0m\u001b[0mmakeOutput\u001b[0m\u001b[0;34m,\u001b[0m \u001b[0mreadData\u001b[0m\u001b[0;34m)\u001b[0m\u001b[0;34m\u001b[0m\u001b[0;34m\u001b[0m\u001b[0m\n\u001b[0m\u001b[1;32m    598\u001b[0m \u001b[0;34m\u001b[0m\u001b[0m\n\u001b[1;32m    599\u001b[0m     def get_full_cea_output(self, Pc=100.0, MR=1.0, eps=40.0, subar=None, PcOvPe=None,\n",
      "\u001b[0;31mKeyboardInterrupt\u001b[0m: "
     ]
    }
   ],
   "source": [
    "# Optimization lower and upper bounds\n",
    "lb = np.array([20e5, 0.5e-3, 0.5e-3, 10, 0, 0.7])\n",
    "ub = np.array([40e5,   3e-3,   3e-3, 60, 0.05, 1.3])\n",
    "\n",
    "# Running the optimization\n",
    "x_opt, f_opt = optimize(lb, ub, 2)\n",
    "T_min = f_opt"
   ]
  },
  {
   "cell_type": "code",
   "execution_count": 2,
   "metadata": {
    "tags": []
   },
   "outputs": [
    {
     "output_type": "stream",
     "name": "stdout",
     "text": "[2969.42960599]\n243.74002713680449\n1.1429165865072355\n3182.2223579569195\n"
    }
   ],
   "source": [
    "parameters = np.array([35e5, 1e-3, 1e-3, 30, 1])\n",
    "\n",
    "inletPressure = parameters[0]\n",
    "channelHeight = parameters[1]\n",
    "channelWidth = parameters[2]\n",
    "numberOfChannels = parameters[3]\n",
    "coolantWaterFraction = 0 # parameters[4]\n",
    "phi = parameters[4]\n",
    "\n",
    "x1 = 100 - coolantWaterFraction*100\n",
    "x2 = coolantWaterFraction*100\n",
    "p_chamber = inletPressure/(10**5)\n",
    "\n",
    "#coolantMassFlow = 0.1\n",
    "\n",
    "exitPressure = 100000\n",
    "thrust = 1000\n",
    "gas = 'CombustionProducts'\n",
    "channelLength = 40e-3\n",
    "k = 401\n",
    "wallThickness = 2e-3\n",
    "coolantType = 'Ethanol'\n",
    "\n",
    "# Oxidizer\n",
    "NOX =  Fluid(name='N2O', coolprop_name='NitrousOxide', formula=None, fluid_type='oxidizer', storage_temperature=298.15)\n",
    "\n",
    "# Fuels\n",
    "H2O = Fluid(name='H2O(L)', coolprop_name='water', formula='H 2 O 1', fluid_type='fuel', storage_pressure=60e5, storage_temperature=298.15)\n",
    "\n",
    "LC2H5OH = Fluid(name='C2H5OH(L)', coolprop_name='ethanol', formula='C 2 H 6 O 1', fluid_type='fuel', storage_pressure=60e5, storage_temperature=298.15)\n",
    "\n",
    "H2O_C2H50H = FluidMixture(fluid1=LC2H5OH, x1=x1, fluid2=H2O, x2=x2)\n",
    "\n",
    "NOELLE = Motor(\n",
    "    NOX,\n",
    "    H2O_C2H50H,\n",
    "    thrust = thrust,\n",
    "    burn_time = 10,\n",
    "    p_chamber = p_chamber,\n",
    "    n_cstar = 1,\n",
    "    n_cf = 1,\n",
    "    cd_ox = 0.6,\n",
    "    cd_fuel = 0.182,\n",
    "    phi = phi\n",
    "    )\n",
    "\n",
    "inletTemperature = NOELLE.To\n",
    "\n",
    "NOELLE_Nozzle1 = Nozzle(inletPressure,\n",
    "    inletTemperature,\n",
    "    exitPressure,\n",
    "    thrust,\n",
    "    gas,\n",
    "    motor=NOELLE\n",
    "    )\n",
    "\n",
    "NOELLE_Nozzle1.addCooling(\n",
    "    channelHeight,\n",
    "    channelWidth,\n",
    "    channelLength,\n",
    "    numberOfChannels,\n",
    "    coolantType,\n",
    "    coolantWaterFraction,\n",
    "    k,\n",
    "    wallThickness\n",
    "    )\n",
    "\n",
    "n_points = 3\n",
    "max_wall_temp = NOELLE_Nozzle1.max_wall_temperature(n_points)\n",
    "\n",
    "print(max_wall_temp)\n",
    "print(NOELLE.Isp)\n",
    "print(NOELLE.k)\n",
    "print(NOELLE.To)"
   ]
  },
  {
   "cell_type": "code",
   "execution_count": 3,
   "metadata": {
    "tags": []
   },
   "outputs": [
    {
     "output_type": "stream",
     "name": "stdout",
     "text": "2473.854304136782\n206.00876054734178\n1.4\n"
    }
   ],
   "source": [
    "parameters = np.array([35e5, 1e-3, 1e-3, 36, 1])\n",
    "\n",
    "inletPressure = parameters[0]\n",
    "channelHeight = parameters[1]\n",
    "channelWidth = parameters[2]\n",
    "numberOfChannels = parameters[3]\n",
    "coolantWaterFraction = 0 # parameters[4]\n",
    "phi = parameters[4]\n",
    "\n",
    "x1 = 100 - coolantWaterFraction*100\n",
    "x2 = coolantWaterFraction*100\n",
    "p_chamber = inletPressure/(10**5)\n",
    "\n",
    "#coolantMassFlow = 0.1\n",
    "\n",
    "exitPressure = 100000\n",
    "thrust = 1000\n",
    "gas = 'Air'\n",
    "channelLength = 40e-3\n",
    "k = 401\n",
    "wallThickness = 2e-3\n",
    "coolantType = 'Ethanol'\n",
    "\n",
    "inletTemperature = 3187\n",
    "\n",
    "NOELLE_Nozzle2 = Nozzle(inletPressure,\n",
    "    inletTemperature,\n",
    "    exitPressure,\n",
    "    thrust,\n",
    "    gas,\n",
    "    motor=False,\n",
    "    n=100\n",
    "    )\n",
    "\n",
    "NOELLE_Nozzle2.addCooling(\n",
    "    channelHeight,\n",
    "    channelWidth,\n",
    "    channelLength,\n",
    "    numberOfChannels,\n",
    "    coolantType,\n",
    "    coolantWaterFraction,\n",
    "    k,\n",
    "    wallThickness,\n",
    "    coolantMassFlow=0.1,\n",
    "    coolantInletTemperature=300,\n",
    "    coolantPressure=35e5\n",
    "    )\n",
    "\n",
    "n_points = 3\n",
    "max_wall_temp = NOELLE_Nozzle2.max_wall_temperature(n_points)\n",
    "\n",
    "print(max_wall_temp)\n",
    "print(NOELLE_Nozzle2.ISP)\n",
    "print(NOELLE_Nozzle2.gamma)\n"
   ]
  },
  {
   "cell_type": "code",
   "execution_count": 4,
   "metadata": {
    "tags": []
   },
   "outputs": [
    {
     "output_type": "stream",
     "name": "stdout",
     "text": "[13227.6741078371, 20629.547617707703, 23814.238037614763]\n725.983777823708\n"
    }
   ],
   "source": [
    "print(NOELLE_Nozzle1.gasH)\n",
    "print(NOELLE_Nozzle1.coolantH)"
   ]
  },
  {
   "cell_type": "code",
   "execution_count": 5,
   "metadata": {
    "tags": []
   },
   "outputs": [
    {
     "output_type": "stream",
     "name": "stdout",
     "text": "[3608.62289561492, 5660.889626434449, 6675.744852446658]\n718.9090868462395\n"
    }
   ],
   "source": [
    "print(NOELLE_Nozzle2.gasH)\n",
    "print(NOELLE_Nozzle2.coolantH)"
   ]
  },
  {
   "cell_type": "code",
   "execution_count": 6,
   "metadata": {
    "tags": []
   },
   "outputs": [
    {
     "output_type": "stream",
     "name": "stdout",
     "text": "[3.3578 2.9922 2.1683]\n[9.8640e-05 9.7741e-05 9.5283e-05]\n[0.5286, 0.5329, 0.5454]\n[0.76049 0.74078 0.68493]\n"
    }
   ],
   "source": [
    "print(NOELLE_Nozzle1.rho_vector)\n",
    "print(NOELLE_Nozzle1.viscosity_vector)\n",
    "print(NOELLE_Nozzle1.Pr_vector)\n",
    "print(NOELLE_Nozzle1.k_vector)"
   ]
  },
  {
   "cell_type": "code",
   "execution_count": 7,
   "metadata": {
    "tags": []
   },
   "outputs": [
    {
     "output_type": "stream",
     "name": "stdout",
     "text": "[3.65190583 3.27664552 2.41945699]\n[9.300228246589196e-05, 9.011351447167252e-05, 8.264665350015524e-05]\n[0.7344099535138106, 0.7355070074006888, 0.7384201987511876]\n[0.16451133768606674, 0.1586381800443145, 0.1435277491643484]\n"
    }
   ],
   "source": [
    "print(NOELLE_Nozzle2.rho_vector)\n",
    "print(NOELLE_Nozzle2.viscosity_vector)\n",
    "print(NOELLE_Nozzle2.Pr_vector)\n",
    "print(NOELLE_Nozzle2.k_vector)"
   ]
  },
  {
   "cell_type": "code",
   "execution_count": 8,
   "metadata": {
    "tags": []
   },
   "outputs": [
    {
     "output_type": "execute_result",
     "data": {
      "text/plain": "[0.29408518584519194, 0.5592295391538813, 1.0000000185553173]"
     },
     "metadata": {},
     "execution_count": 8
    }
   ],
   "source": [
    "NOELLE_Nozzle2.MachFunction"
   ]
  },
  {
   "cell_type": "code",
   "execution_count": 9,
   "metadata": {},
   "outputs": [],
   "source": [
    "def objective_function2(parameters):\n",
    "    inletPressure = parameters[0]\n",
    "    channelHeight = parameters[1]\n",
    "    channelWidth = parameters[2]\n",
    "    numberOfChannels = parameters[3]\n",
    "    coolantWaterFraction = parameters[4]\n",
    "    phi = parameters[5]\n",
    "\n",
    "    x1 = 100 - coolantWaterFraction*100\n",
    "    x2 = coolantWaterFraction*100\n",
    "    p_chamber = inletPressure/(10**5)\n",
    "\n",
    "    #coolantMassFlow = 0.1\n",
    "\n",
    "    exitPressure = 100000\n",
    "    thrust = 1000\n",
    "    gas = 'Air'\n",
    "    channelLength = 40e-3\n",
    "    k = 401\n",
    "    wallThickness = 2e-3\n",
    "    coolantType = 'Ethanol'\n",
    "\n",
    "    inletTemperature = 3187\n",
    "\n",
    "    NOELLE_Nozzle2 = Nozzle(inletPressure,\n",
    "        inletTemperature,\n",
    "        exitPressure,\n",
    "        thrust,\n",
    "        gas,\n",
    "        motor=False,\n",
    "        n=100\n",
    "        )\n",
    "\n",
    "    NOELLE_Nozzle2.addCooling(\n",
    "        channelHeight,\n",
    "        channelWidth,\n",
    "        channelLength,\n",
    "        numberOfChannels,\n",
    "        coolantType,\n",
    "        coolantWaterFraction,\n",
    "        k,\n",
    "        wallThickness,\n",
    "        coolantMassFlow=0.1,\n",
    "        coolantInletTemperature=300,\n",
    "        coolantPressure=35e5\n",
    "        )\n",
    "\n",
    "    n_points = 3\n",
    "    max_wall_temp = NOELLE_Nozzle2.max_wall_temperature(n_points)\n",
    "\n",
    "    objFunction = max_wall_temp\n",
    "\n",
    "    return objFunction"
   ]
  },
  {
   "cell_type": "code",
   "execution_count": 10,
   "metadata": {
    "tags": []
   },
   "outputs": [
    {
     "output_type": "stream",
     "name": "stdout",
     "text": "2.62 ms ± 54.3 µs per loop (mean ± std. dev. of 7 runs, 100 loops each)\n"
    }
   ],
   "source": [
    "parameters = np.array([35e5, 1e-3, 1e-3, 30, 0.05, 1])\n",
    "%timeit objective_function2(parameters)"
   ]
  },
  {
   "cell_type": "code",
   "execution_count": 11,
   "metadata": {
    "tags": []
   },
   "outputs": [
    {
     "output_type": "stream",
     "name": "stdout",
     "text": "24.4 ms ± 224 µs per loop (mean ± std. dev. of 7 runs, 10 loops each)\n"
    }
   ],
   "source": [
    "parameters = np.array([35e5, 1e-3, 1e-3, 30, 0.05, 1])\n",
    "%timeit objective_function(parameters)"
   ]
  },
  {
   "cell_type": "code",
   "execution_count": null,
   "metadata": {},
   "outputs": [],
   "source": []
  }
 ],
 "metadata": {
  "kernelspec": {
   "display_name": "Python 3",
   "language": "python",
   "name": "python3"
  },
  "language_info": {
   "codemirror_mode": {
    "name": "ipython",
    "version": 3
   },
   "file_extension": ".py",
   "mimetype": "text/x-python",
   "name": "python",
   "nbconvert_exporter": "python",
   "pygments_lexer": "ipython3",
   "version": "3.8.2-final"
  }
 },
 "nbformat": 4,
 "nbformat_minor": 2
}