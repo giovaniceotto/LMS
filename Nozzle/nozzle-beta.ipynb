{
  "cells": [
    {
      "metadata": {
        "collapsed": true,
        "trusted": false
      },
      "cell_type": "code",
      "source": "import matplotlib\nimport math\n\nthrust = 1000\ngammaAir = 1.4\ninletTotalPressure = 30*100*10^6 \ninletTotalTemperature = 2000 \nairGasConstant = 287\nnozzleArea = \nfreeStremPressure = 100*10^6\nexitPressure = freeStreamPressure\nthroatArea = \n\ntrust = massFlowRate*exitVelocity + (exitPressure - freeStreamPressure)*exitArea\n\nexitMach = math.sqrt((2/(gamma - 1))*((exitPressure/inletTotalPressure)^((1-gamma)/gamma) - 1))\n\nexitArea = (throatArea*((gamma + 1)/2)**((gamma + 1)/(2*(1 - gamma))))*(1/exitMach)*(1 + ((gamma - 1)/2)*exitMach**2)**((gamma + 1)/(2*(gamma - 1)))\n\nexitTemperature = inletTotalTemperature*(1 + ((gamma - 1)/2)*exitMach**2)**(-1)\n\nexitVelocity = exitMach*math.sqrt(gamma*airGasConstant*exitTemperature)\n\ntrust = massFlowRate*exitVelocity + (exitPressure - freeStreamPressure)*exitArea",
      "execution_count": null,
      "outputs": []
    }
  ],
  "metadata": {
    "kernelspec": {
      "name": "python36",
      "display_name": "Python 3.6",
      "language": "python"
    },
    "language_info": {
      "mimetype": "text/x-python",
      "nbconvert_exporter": "python",
      "name": "python",
      "pygments_lexer": "ipython3",
      "version": "3.6.6",
      "file_extension": ".py",
      "codemirror_mode": {
        "version": 3,
        "name": "ipython"
      }
    }
  },
  "nbformat": 4,
  "nbformat_minor": 2
}