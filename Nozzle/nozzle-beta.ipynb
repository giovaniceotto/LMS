{
  "cells": [
    {
      "metadata": {
        "collapsed": true,
        "trusted": false
      },
      "cell_type": "code",
      "source": [
        "import matplotlib\n",
        "import math\n",
        "\n",
        "thrust = 1000\n",
        "gammaAir = 1.4\n",
        "inletTotalPressure = 30*100*10^6 \n",
        "inletTotalTemperature = 2000 \n",
        "airGasConstant = 287\n",
        "freeStremPressure = 100*10^6\n",
        "exitPressure = freeStreamPressure\n",
        "\n",
        "trust = massFlowRate*exitVelocity + (exitPressure - freeStreamPressure)*exitArea\n",
        "\n",
        "exitMach = math.sqrt((2/(gamma - 1))*((exitPressure/inletTotalPressure)^((1-gamma)/gamma) - 1))\n",
        "\n",
        "exitArea = (throatArea*((gamma + 1)/2)**((gamma + 1)/(2*(1 - gamma))))*(1/exitMach)*(1 + ((gamma - 1)/2)*exitMach**2)**((gamma + 1)/(2*(gamma - 1)))\n",
        "\n",
        "exitTemperature = inletTotalTemperature*(1 + ((gamma - 1)/2)*exitMach**2)**(-1)\n",
        "\n",
        "exitVelocity = exitMach*math.sqrt(gamma*airGasConstant*exitTemperature)\n",
        "\n",
        "trust = massFlowRate*exitVelocity + (exitPressure - freeStreamPressure)*exitArea\n",
        "\n"
      ],
      "execution_count": null,
      "outputs": []
    }
  ],
  "metadata": {
    "kernelspec": {
      "name": "python36",
      "display_name": "Python 3.6",
      "language": "python"
    },
    "language_info": {
      "mimetype": "text/x-python",
      "nbconvert_exporter": "python",
      "name": "python",
      "pygments_lexer": "ipython3",
      "version": "3.6.6",
      "file_extension": ".py",
      "codemirror_mode": {
        "version": 3,
        "name": "ipython"
      }
    }
  },
  "nbformat": 4,
  "nbformat_minor": 2
}