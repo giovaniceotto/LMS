{
 "cells": [
  {
   "cell_type": "markdown",
   "metadata": {},
   "source": [
    "# Initialization"
   ]
  },
  {
   "source": [
    "%load_ext autoreload\n",
    "%autoreload 2"
   ],
   "cell_type": "code",
   "metadata": {
    "tags": []
   },
   "execution_count": 1,
   "outputs": []
  },
  {
   "cell_type": "code",
   "execution_count": 2,
   "metadata": {
    "scrolled": false
   },
   "outputs": [],
   "source": [
    "# Noelle\n",
    "from noelle import Motor, Fluid, FluidMixture\n",
    "\n",
    "# Numpy\n",
    "import numpy as np\n",
    "\n",
    "# Matplotlib\n",
    "from matplotlib import pyplot as plt\n",
    "import matplotlib\n",
    "import matplotlib as mpl\n",
    "from labellines import labelLine, labelLines"
   ]
  },
  {
   "cell_type": "code",
   "execution_count": 3,
   "metadata": {},
   "outputs": [],
   "source": [
    "# Configure plot styles\n",
    "\n",
    "# Sizes\n",
    "mpl.rcParams['figure.figsize'] = [12.0, 6.0]\n",
    "mpl.rcParams['figure.dpi'] = 120\n",
    "mpl.rcParams['savefig.dpi'] = 120\n",
    "\n",
    "# Font\n",
    "font = {'family' : 'normal',\n",
    "        'weight' : 'bold',\n",
    "        'size'   : 22}\n",
    "matplotlib.rc('font', **font)\n",
    "\n",
    "# Style\n",
    "plt.style.use(['science'])"
   ]
  },
  {
   "cell_type": "markdown",
   "metadata": {},
   "source": [
    "# Fuel and Oxidizer Definitions"
   ]
  },
  {
   "cell_type": "code",
   "execution_count": 4,
   "metadata": {
    "scrolled": false,
    "tags": []
   },
   "outputs": [],
   "source": [
    "# Oxidizer\n",
    "NOX =  Fluid(name='N2O', coolprop_name='NitrousOxide', formula=None, fluid_type='oxidizer', storage_temperature=298.15)\n",
    "\n",
    "# Fuels\n",
    "H2O = Fluid(name='H2O(L)', coolprop_name='water', formula='H 2 O 1', fluid_type='fuel', storage_pressure=60e5, storage_temperature=298.15)\n",
    "\n",
    "LC2H5OH = Fluid(name='C2H5OH(L)', coolprop_name='ethanol', formula='C 2 H 6 O 1', fluid_type='fuel', storage_pressure=60e5, storage_temperature=298.15)\n",
    "\n",
    "H2O_30_C2H50H_70 = FluidMixture(fluid1=LC2H5OH, x1=70, fluid2=H2O, x2=30)"
   ]
  },
  {
   "cell_type": "markdown",
   "metadata": {},
   "source": [
    "# Motor Main Parameters Design"
   ]
  },
  {
   "cell_type": "markdown",
   "metadata": {},
   "source": [
    "## Anhydrous Ethanol"
   ]
  },
  {
   "cell_type": "code",
   "execution_count": 5,
   "metadata": {
    "scrolled": false,
    "tags": []
   },
   "outputs": [
    {
     "output_type": "stream",
     "name": "stdout",
     "text": "Thrust (N): 1000.00\n\nBurn time (seconds): 10.00\n\nChamber pressure (bar): 35.0\n\nAdiabatic chamber temperature (Kelvin): 3182.2\n\nMolecular Weight of exhaust products (kg/kmol): 26.56\n\nRatio of specific heats of exhaust products: 1.14\n\nOxidiser/fuel mass ratio: 5.73\n\nCombustion efficiency (%): 1.00\n\nThrust coefficient efficiency (%): 1.00\n\nPressure on oxidiser tank (bar): 56.52\n\nTemperature on oxidiser tank (K): 298.15\n\nPressure on fuel tank (bar): 60.00\n\nTemperature on fuel tank (K): 298.15\n\nCharacteristic velocity (m/s): 1566.19\n\nThrust coefficient: 1.53\n\nSpecific impulse (seconds): 243.74\n\nVolumetric Specific impulse (Ns/m³): 1792389.81\n\nTotal mass flow rate (kg/s): 0.418\n\nOxidiser mass flow rate (kg/s): 0.356\n\nFuel mass flow rate (kg/s): 0.062\n\nTotal oxidiser mass (kg): 3.561\n\nTotal fuel mass (kg): 0.621\n\nNozzle throat diameter (mm): 15.4\n\nNozzle exit diameter (mm): 37.7\n\nPERFORMANCE PARAMETERS\n\n+---------------------------------------------+------------+---------+\n|            Performance parameters           |   Value    |  Units  |\n+---------------------------------------------+------------+---------+\n|                    Thrust                   |    1000    |    N    |\n|                  Burn time                  |     10     | Seconds |\n|               Chamber pressure              |     35     |   bar   |\n|        Adiabatic chamber temperature        |  3182.22   |    K    |\n|     Molecular Weight of exhaust products    |   26.56    | kg/kmol |\n| Ratio of specific heats of exhaust products |    1.14    |    -    |\n|            Combustion efficiency            |    100     |    %    |\n|        Thrust coefficient efficiency        |    100     |    %    |\n|           Characteristic velocity           |  1566.19   |   m/s   |\n|              Thrust coefficient             |    1.53    |    -    |\n|               Specific impulse              |   243.74   | Seconds |\n|         Volumetric Specific impulse         | 1792389.81 |  Ns/m³  |\n+---------------------------------------------+------------+---------+\n\nINJECTOR PARAMETERS\n\n+------------------------------+--------+-------+\n|     Injector parameters      | Value  | Units |\n+------------------------------+--------+-------+\n|  Pressure on oxidiser tank   | 56.52  |  bar  |\n| Temperature on oxidiser tank | 298.15 |   K   |\n|    Pressure on fuel tank     |  60.0  |  bar  |\n|   Temperature on fuel tank   | 298.15 |   K   |\n|     Total mass flow rate     | 0.418  |  kg/s |\n|   Oxidiser mass flow rate    | 0.356  |  kg/s |\n|     Fuel mass flow rate      | 0.062  |  kg/s |\n|     Total oxidiser mass      | 3.561  |   kg  |\n|       Total fuel mass        | 0.621  |   kg  |\n+------------------------------+--------+-------+\n\nGEOMETRIC PARAMETERS\n\n+------------------------+-------+-------+\n|  Geometric parameters  | Value | Units |\n+------------------------+-------+-------+\n| Nozzle throat diameter |  15.4 |   mm  |\n|  Nozzle exit diameter  |  37.7 |   mm  |\n+------------------------+-------+-------+\n"
    }
   ],
   "source": [
    "NOELLE = Motor(\n",
    "    NOX,\n",
    "    LC2H5OH,\n",
    "    thrust = 1000,\n",
    "    burn_time = 10,\n",
    "    p_chamber = 35,\n",
    "    n_cstar = 1,\n",
    "    n_cf = 1,\n",
    "    cd_ox = 0.6,\n",
    "    cd_fuel = 0.182,\n",
    "    phi=1.0\n",
    ")\n",
    "NOELLE.report()\n",
    "NOELLE.report_ptable()"
   ]
  },
  {
   "cell_type": "markdown",
   "metadata": {},
   "source": [
    "## Hydrous Ethanol"
   ]
  },
  {
   "cell_type": "code",
   "execution_count": 6,
   "metadata": {
    "tags": []
   },
   "outputs": [
    {
     "output_type": "stream",
     "name": "stdout",
     "text": "Thrust (N): 1000.00\n\nBurn time (seconds): 10.00\n\nChamber pressure (bar): 35.0\n\nAdiabatic chamber temperature (Kelvin): 3000.6\n\nMolecular Weight of exhaust products (kg/kmol): 26.17\n\nRatio of specific heats of exhaust products: 1.14\n\nOxidiser/fuel mass ratio: 4.01\n\nCombustion efficiency (%): 1.00\n\nThrust coefficient efficiency (%): 1.00\n\nPressure on oxidiser tank (bar): 56.52\n\nTemperature on oxidiser tank (K): 298.15\n\nPressure on fuel tank (bar): 60.00\n\nTemperature on fuel tank (K): 298.15\n\nCharacteristic velocity (m/s): 1531.87\n\nThrust coefficient: 1.53\n\nSpecific impulse (seconds): 238.35\n\nVolumetric Specific impulse (Ns/m³): 1769043.48\n\nTotal mass flow rate (kg/s): 0.428\n\nOxidiser mass flow rate (kg/s): 0.342\n\nFuel mass flow rate (kg/s): 0.085\n\nTotal oxidiser mass (kg): 3.424\n\nTotal fuel mass (kg): 0.853\n\nNozzle throat diameter (mm): 15.4\n\nNozzle exit diameter (mm): 37.7\n\nPERFORMANCE PARAMETERS\n\n+---------------------------------------------+------------+---------+\n|            Performance parameters           |   Value    |  Units  |\n+---------------------------------------------+------------+---------+\n|                    Thrust                   |    1000    |    N    |\n|                  Burn time                  |     10     | Seconds |\n|               Chamber pressure              |     35     |   bar   |\n|        Adiabatic chamber temperature        |  3000.55   |    K    |\n|     Molecular Weight of exhaust products    |   26.17    | kg/kmol |\n| Ratio of specific heats of exhaust products |    1.14    |    -    |\n|            Combustion efficiency            |    100     |    %    |\n|        Thrust coefficient efficiency        |    100     |    %    |\n|           Characteristic velocity           |  1531.87   |   m/s   |\n|              Thrust coefficient             |    1.53    |    -    |\n|               Specific impulse              |   238.35   | Seconds |\n|         Volumetric Specific impulse         | 1769043.48 |  Ns/m³  |\n+---------------------------------------------+------------+---------+\n\nINJECTOR PARAMETERS\n\n+------------------------------+--------+-------+\n|     Injector parameters      | Value  | Units |\n+------------------------------+--------+-------+\n|  Pressure on oxidiser tank   | 56.52  |  bar  |\n| Temperature on oxidiser tank | 298.15 |   K   |\n|    Pressure on fuel tank     |  60.0  |  bar  |\n|   Temperature on fuel tank   | 298.15 |   K   |\n|     Total mass flow rate     | 0.428  |  kg/s |\n|   Oxidiser mass flow rate    | 0.342  |  kg/s |\n|     Fuel mass flow rate      | 0.085  |  kg/s |\n|     Total oxidiser mass      | 3.424  |   kg  |\n|       Total fuel mass        | 0.853  |   kg  |\n+------------------------------+--------+-------+\n\nGEOMETRIC PARAMETERS\n\n+------------------------+-------+-------+\n|  Geometric parameters  | Value | Units |\n+------------------------+-------+-------+\n| Nozzle throat diameter |  15.4 |   mm  |\n|  Nozzle exit diameter  |  37.7 |   mm  |\n+------------------------+-------+-------+\n"
    }
   ],
   "source": [
    "NOELLE = Motor(\n",
    "    NOX,\n",
    "    H2O_30_C2H50H_70,\n",
    "    thrust = 1000,\n",
    "    burn_time = 10,\n",
    "    p_chamber = 35,\n",
    "    n_cstar = 1,\n",
    "    n_cf = 1,\n",
    "    cd_ox = 0.6,\n",
    "    cd_fuel = 0.182,\n",
    "    phi=1.0\n",
    ")\n",
    "NOELLE.report()\n",
    "NOELLE.report_ptable()"
   ]
  },
  {
   "cell_type": "code",
   "execution_count": 7,
   "metadata": {
    "tags": []
   },
   "outputs": [
    {
     "output_type": "stream",
     "name": "stdout",
     "text": "\n *******************************************************************************\n\n         NASA-GLENN CHEMICAL EQUILIBRIUM PROGRAM CEA, OCTOBER 18, 2002\n                   BY  BONNIE MCBRIDE AND SANFORD GORDON\n      REFS: NASA RP-1311, PART I, 1994 AND NASA RP-1311, PART II, 1996\n\n *******************************************************************************\n\n\n\n reac\n  fuel C2H5OH(L) C 2 H 6 O 1 wt%=70 t(k)=298.150 rho=0.790\n  fuel H2O(L) H 2 O 1 wt%=30 t(k)=298.150 rho=1.000\n  oxid NitrousOxide  N 2.0 O 1.0  wt%=100.00\n  h,cal= 19467.0 t(k)=298.15\n  \n prob case=RocketCEA,\n  rocket equilibrium   p,bar=35.000000,  pi/p=35.000000,\n  o/f=4.012590,\n  \n  \n output siunits  transport  massf\n end\n\n OPTIONS: TP=F  HP=F  SP=F  TV=F  UV=F  SV=F  DETN=F  SHOCK=F  REFL=F  INCD=F\n RKT=T  FROZ=F  EQL=T  IONS=F  SIUNIT=T  DEBUGF=F  SHKDBG=F  DETDBG=F  TRNSPT=T\n\n TRACE= 0.00E+00  S/R= 0.000000E+00  H/R= 0.000000E+00  U/R= 0.000000E+00\n\n Pc,BAR =    35.000000\n\n Pc/P =    35.0000\n\n SUBSONIC AREA RATIOS =\n\n SUPERSONIC AREA RATIOS =\n\n NFZ=  1  Mdot/Ac= 0.000000E+00  Ac/At= 0.000000E+00\n\n    REACTANT          WT.FRAC   (ENERGY/R),K   TEMP,K  DENSITY\n        EXPLODED FORMULA\n F: C2H5OH(L)        0.700000  -0.333766E+05   298.15  0.7900\n          C  2.00000  H  6.00000  O  1.00000\n F: H2O(L)           0.300000  -0.343773E+05   298.15  1.0000\n          H  2.00000  O  1.00000\n O: NitrousOxide     1.000000   0.979612E+04   298.15  0.0000\n          N  2.00000  O  1.00000\n\n  SPECIES BEING CONSIDERED IN THIS SYSTEM\n (CONDENSED PHASE MAY HAVE NAME LISTED SEVERAL TIMES)\n  LAST thermo.inp UPDATE:    9/09/04\n\n  g 7/97  *C               tpis79  *CH              g 4/02  CH2            \n  g 4/02  CH3              g11/00  CH2OH            g 7/00  CH3O           \n  g 8/99  CH4              g 7/00  CH3OH            srd 01  CH3OOH         \n  g 8/99  *CN              g12/99  CNN              tpis79  *CO            \n  g 9/99  *CO2             tpis91  COOH             tpis91  *C2            \n  g 6/01  C2H              g 1/91  C2H2,acetylene   g 5/01  C2H2,vinylidene\n  g 4/02  CH2CO,ketene     g 3/02  O(CH)2O          srd 01  HO(CO)2OH      \n  g 7/01  C2H3,vinyl       g 9/00  CH3CN            g 6/96  CH3CO,acetyl   \n  g 1/00  C2H4             g 8/88  C2H4O,ethylen-o  g 8/88  CH3CHO,ethanal \n  g 6/00  CH3COOH          srd 01  OHCH2COOH        g 7/00  C2H5           \n  g 7/00  C2H6             g 8/88  CH3N2CH3         g 8/88  C2H5OH         \n  g 7/00  CH3OCH3          srd 01  CH3O2CH3         g 7/00  CCN            \n  tpis91  CNC              srd 01  OCCN             tpis79  C2N2           \n  g 8/00  C2O              tpis79  *C3              n 4/98  C3H3,1-propynl \n  n 4/98  C3H3,2-propynl   g 2/00  C3H4,allene      g 1/00  C3H4,propyne   \n  g 5/90  C3H4,cyclo-      g 3/01  C3H5,allyl       g 2/00  C3H6,propylene \n  g 1/00  C3H6,cyclo-      g 6/01  C3H6O,propylox   g 6/97  C3H6O,acetone  \n  g 1/02  C3H6O,propanal   g 7/01  C3H7,n-propyl    g 9/85  C3H7,i-propyl  \n  g 2/00  C3H8             g 2/00  C3H8O,1propanol  g 2/00  C3H8O,2propanol\n  srd 01  CNCOCN           g 7/88  C3O2             g tpis  *C4            \n  g 7/01  C4H2,butadiyne   g 8/00  C4H4,1,3-cyclo-  n10/92  C4H6,butadiene \n  n10/93  C4H6,1butyne     n10/93  C4H6,2butyne     g 8/00  C4H6,cyclo-    \n  n 4/88  C4H8,1-butene    n 4/88  C4H8,cis2-buten  n 4/88  C4H8,tr2-butene\n  n 4/88  C4H8,isobutene   g 8/00  C4H8,cyclo-      g10/00  (CH3COOH)2     \n  n10/84  C4H9,n-butyl     n10/84  C4H9,i-butyl     g 1/93  C4H9,s-butyl   \n  g 1/93  C4H9,t-butyl     g12/00  C4H10,n-butane   g 8/00  C4H10,isobutane\n  g 6/01  C4N2             g 8/00  *C5              g 5/90  C5H6,1,3cyclo- \n  g 1/93  C5H8,cyclo-      n 4/87  C5H10,1-pentene  g 2/01  C5H10,cyclo-   \n  n10/84  C5H11,pentyl     g 1/93  C5H11,t-pentyl   n10/85  C5H12,n-pentane\n  n10/85  C5H12,i-pentane  n10/85  CH3C(CH3)2CH3    g 2/93  C6H2           \n  g11/00  C6H5,phenyl      g 8/00  C6H5O,phenoxy    g 8/00  C6H6           \n  g 8/00  C6H5OH,phenol    g 1/93  C6H10,cyclo-     n 4/87  C6H12,1-hexene \n  g 6/90  C6H12,cyclo-     n10/83  C6H13,n-hexyl    g 6/01  C6H14,n-hexane \n  g 7/01  C7H7,benzyl      g 1/93  C7H8             g12/00  C7H8O,cresol-mx\n  n 4/87  C7H14,1-heptene  n10/83  C7H15,n-heptyl   n10/85  C7H16,n-heptane\n  n10/85  C7H16,2-methylh  n 4/89  C8H8,styrene     n10/86  C8H10,ethylbenz\n  n 4/87  C8H16,1-octene   n10/83  C8H17,n-octyl    n 4/85  C8H18,n-octane \n  n 4/85  C8H18,isooctane  n10/83  C9H19,n-nonyl    g 3/01  C10H8,naphthale\n  n10/83  C10H21,n-decyl   g 8/00  C12H9,o-bipheny  g 8/00  C12H10,biphenyl\n  g 6/97  *H               g 6/01  HCN              g 1/01  HCO            \n  tpis89  HCCN             g 6/01  HCCO             g 6/01  HNC            \n  g 7/00  HNCO             g10/01  HNO              tpis89  HNO2           \n  g 5/99  HNO3             g 4/02  HO2              tpis78  *H2            \n  g 5/01  HCHO,formaldehy  g 6/01  HCOOH            g 8/89  H2O            \n  g 6/99  H2O2             g 6/01  (HCOOH)2         g 5/97  *N             \n  g 6/01  NCO              g 4/99  *NH              g 3/01  NH2            \n  tpis89  NH3              tpis89  NH2OH            tpis89  *NO            \n  g 4/99  NO2              j12/64  NO3              tpis78  *N2            \n  g 6/01  NCN              g 5/99  N2H2             tpis89  NH2NO2         \n  g 4/99  N2H4             g 4/99  N2O              g 4/99  N2O3           \n  tpis89  N2O4             g 4/99  N2O5             tpis89  N3             \n  g 4/99  N3H              g 5/97  *O               g 4/02  *OH            \n  tpis89  *O2              g 8/01  O3               n 4/83  C(gr)          \n  n 4/83  C(gr)            n 4/83  C(gr)            g11/99  H2O(cr)        \n  g 8/01  H2O(L)           g 8/01  H2O(L)         \n\n SPECIES WITH TRANSPORT PROPERTIES\n\n        PURE SPECIES\n\n  C                 CH4               CH3OH             CO              \n  CO2               C2H2,acetylene  \n  C2H4              C2H6              C2H5OH            C2N2            \n  H                 HCN             \n  H2                H2O               N                 NH3             \n  NO                NO2             \n  N2                N2O               N2O4              O               \n  OH                O2              \n\n     BINARY INTERACTIONS\n\n     C               O               \n     CH4             O2              \n     CO              CO2             \n     CO              N2              \n     CO              O2              \n     CO2             H2              \n     CO2             H2O             \n     CO2             N2              \n     CO2             O2              \n     H               H2              \n     H               N               \n     H               N2              \n     H               O               \n     H2              H2O             \n     H2              N2              \n     H2              O2              \n     H2O             N2              \n     H2O             O2              \n     N               NO              \n     N               N2              \n     N               O               \n     N               O2              \n     NO              O               \n     N2              O               \n     N2              O2              \n     O               O2              \n\n\n O/F =   4.012590\n\n                       EFFECTIVE FUEL     EFFECTIVE OXIDANT        MIXTURE\n ENTHALPY                  h(2)/R              h(1)/R               h0/R\n (KG-MOL)(K)/KG       -0.10796185E+04      0.22257432E+03     -0.37210111E+02\n\n KG-FORM.WT./KG             bi(2)               bi(1)               b0i\n  *C                   0.30389568E-01      0.00000000E+00      0.60626479E-02\n  *H                   0.12447377E+00      0.00000000E+00      0.24832226E-01\n  *O                   0.31847315E-01      0.22720663E-01      0.24541409E-01\n  *N                   0.00000000E+00      0.45441326E-01      0.36375888E-01\n\n POINT ITN      T            C           H           O           N \n\n   1   23    3000.554     -17.779     -10.707     -15.342     -12.791\n\n Pinf/Pt = 1.737083\n   2    4    2825.357     -18.358     -10.991     -15.589     -12.950\n\n Pinf/Pt = 1.737712\n   2    2    2825.244     -18.358     -10.992     -15.589     -12.950\n\n   3    5    1906.637     -22.953     -13.021     -17.563     -13.742\n\n\n\n\n\n\n              THEORETICAL ROCKET PERFORMANCE ASSUMING EQUILIBRIUM\n\n           COMPOSITION DURING EXPANSION FROM INFINITE AREA COMBUSTOR\n\n Pinj =   507.6 PSIA\n CASE = RocketCEA,     \n\n             REACTANT                    WT FRACTION      ENERGY      TEMP\n                                          (SEE NOTE)     KJ/KG-MOL      K  \n FUEL        C2H5OH(L)                    0.7000000   -277510.001    298.150\n FUEL        H2O(L)                       0.3000000   -285830.088    298.150\n OXIDANT     NitrousOxide                 1.0000000     81449.928    298.150\n\n O/F=    4.01259  %FUEL= 19.949766  R,EQ.RATIO= 1.000000  PHI,EQ.RATIO= 1.000000\n\n                 CHAMBER   THROAT     EXIT\n Pinf/P            1.0000   1.7377   35.000\n P, BAR            35.000   20.141   1.0000\n T, K             3000.55  2825.24  1906.64\n RHO, KG/CU M    3.6715 0 2.2649 0 1.7168-1\n H, KJ/KG         -309.38  -818.26 -3017.80\n U, KJ/KG        -1262.67 -1707.53 -3600.27\n G, KJ/KG        -30323.5 -29078.7 -22089.6\n S, KJ/(KG)(K)    10.0028  10.0028  10.0028\n\n M, (1/n)          26.171   26.415   27.216\n (dLV/dLP)t      -1.01281 -1.01009 -1.00068\n (dLV/dLT)p        1.2819   1.2368   1.0239\n Cp, KJ/(KG)(K)    3.7729   3.5314   1.9094\n GAMMAs            1.1436   1.1445   1.2005\n SON VEL,M/SEC     1044.1   1008.8    836.2\n MACH NUMBER        0.000    1.000    2.783\n\n TRANSPORT PROPERTIES (GASES ONLY)\n   CONDUCTIVITY IN UNITS OF MILLIWATTS/(CM)(K)\n\n VISC,MILLIPOISE  0.96386  0.92664  0.71198\n\n  WITH EQUILIBRIUM REACTIONS\n\n Cp, KJ/(KG)(K)    3.7729   3.5314   1.9094\n CONDUCTIVITY      6.4594   5.6183   1.9305\n PRANDTL NUMBER    0.5630   0.5824   0.7042\n\n  WITH FROZEN REACTIONS\n\n Cp, KJ/(KG)(K)    1.7462   1.7368   1.6488\n CONDUCTIVITY      2.4359   2.3108   1.6073\n PRANDTL NUMBER    0.6909   0.6964   0.7304\n\n PERFORMANCE PARAMETERS\n\n Ae/At                      1.0000   5.7185\n CSTAR, M/SEC               1531.8   1531.8\n CF                         0.6586   1.5194\n Ivac, M/SEC                1890.3   2577.7\n Isp, M/SEC                 1008.8   2327.4\n\n\n MASS FRACTIONS\n\n *CO              0.04891  0.03873  0.00255\n *CO2             0.18996  0.20595  0.26281\n *H               0.00013  0.00009  0.00000\n HO2              0.00004  0.00002  0.00000\n *H2              0.00125  0.00098  0.00009\n H2O              0.20364  0.20839  0.22262\n H2O2             0.00001  0.00000  0.00000\n *NO              0.01281  0.00931  0.00043\n NO2              0.00002  0.00001  0.00000\n *N2              0.50351  0.50515  0.50931\n *O               0.00162  0.00103  0.00001\n *OH              0.01457  0.01083  0.00048\n *O2              0.02351  0.01949  0.00172\n\n  * THERMODYNAMIC PROPERTIES FITTED TO 20000.K\n\n    PRODUCTS WHICH WERE CONSIDERED BUT WHOSE MASS FRACTIONS\n    WERE LESS THAN 5.000000E-06 FOR ALL ASSIGNED CONDITIONS\n\n *C              *CH             CH2             CH3             CH2OH          \n CH3O            CH4             CH3OH           CH3OOH          *CN            \n CNN             COOH            *C2             C2H             C2H2,acetylene \n C2H2,vinylidene CH2CO,ketene    O(CH)2O         HO(CO)2OH       C2H3,vinyl     \n CH3CN           CH3CO,acetyl    C2H4            C2H4O,ethylen-o CH3CHO,ethanal \n CH3COOH         OHCH2COOH       C2H5            C2H6            CH3N2CH3       \n C2H5OH          CH3OCH3         CH3O2CH3        CCN             CNC            \n OCCN            C2N2            C2O             *C3             C3H3,1-propynl \n C3H3,2-propynl  C3H4,allene     C3H4,propyne    C3H4,cyclo-     C3H5,allyl     \n C3H6,propylene  C3H6,cyclo-     C3H6O,propylox  C3H6O,acetone   C3H6O,propanal \n C3H7,n-propyl   C3H7,i-propyl   C3H8            C3H8O,1propanol C3H8O,2propanol\n CNCOCN          C3O2            *C4             C4H2,butadiyne  C4H4,1,3-cyclo-\n C4H6,butadiene  C4H6,1butyne    C4H6,2butyne    C4H6,cyclo-     C4H8,1-butene  \n C4H8,cis2-buten C4H8,tr2-butene C4H8,isobutene  C4H8,cyclo-     (CH3COOH)2     \n C4H9,n-butyl    C4H9,i-butyl    C4H9,s-butyl    C4H9,t-butyl    C4H10,n-butane \n C4H10,isobutane C4N2            *C5             C5H6,1,3cyclo-  C5H8,cyclo-    \n C5H10,1-pentene C5H10,cyclo-    C5H11,pentyl    C5H11,t-pentyl  C5H12,n-pentane\n C5H12,i-pentane CH3C(CH3)2CH3   C6H2            C6H5,phenyl     C6H5O,phenoxy  \n C6H6            C6H5OH,phenol   C6H10,cyclo-    C6H12,1-hexene  C6H12,cyclo-   \n C6H13,n-hexyl   C6H14,n-hexane  C7H7,benzyl     C7H8            C7H8O,cresol-mx\n C7H14,1-heptene C7H15,n-heptyl  C7H16,n-heptane C7H16,2-methylh C8H8,styrene   \n C8H10,ethylbenz C8H16,1-octene  C8H17,n-octyl   C8H18,n-octane  C8H18,isooctane\n C9H19,n-nonyl   C10H8,naphthale C10H21,n-decyl  C12H9,o-bipheny C12H10,biphenyl\n HCN             HCO             HCCN            HCCO            HNC            \n HNCO            HNO             HNO2            HNO3            HCHO,formaldehy\n HCOOH           (HCOOH)2        *N              NCO             *NH            \n NH2             NH3             NH2OH           NO3             NCN            \n N2H2            NH2NO2          N2H4            N2O             N2O3           \n N2O4            N2O5            N3              N3H             O3             \n C(gr)           H2O(cr)         H2O(L)         \n\n NOTE. WEIGHT FRACTION OF FUEL IN TOTAL FUELS AND OF OXIDANT IN TOTAL OXIDANTS\n\n\n\n\n"
    }
   ],
   "source": [
    "NOELLE.print_cea_output()"
   ]
  },
  {
   "cell_type": "code",
   "execution_count": 8,
   "metadata": {
    "tags": []
   },
   "outputs": [
    {
     "output_type": "stream",
     "name": "stdout",
     "text": "Throat index: 19\n"
    },
    {
     "output_type": "execute_result",
     "data": {
      "text/plain": "([3.5083,\n  3.4854,\n  3.4593,\n  3.4297,\n  3.3962,\n  3.3584,\n  3.316,\n  3.2685,\n  3.2158,\n  3.1574,\n  3.0932,\n  3.0229,\n  2.9466,\n  2.8644,\n  2.7763,\n  2.6828,\n  2.5843,\n  2.4813,\n  2.3745,\n  2.2649,\n  2.2146,\n  2.1641,\n  2.1136,\n  2.0629,\n  2.0122,\n  1.9616,\n  1.9111,\n  1.8609,\n  1.811,\n  1.6302,\n  1.4968,\n  1.3893,\n  1.2988,\n  1.2207,\n  1.1522,\n  1.0914,\n  1.0368],\n [0.96032,\n  0.95981,\n  0.95923,\n  0.95856,\n  0.9578,\n  0.95693,\n  0.95595,\n  0.95483,\n  0.95357,\n  0.95216,\n  0.95057,\n  0.94879,\n  0.94682,\n  0.94464,\n  0.94224,\n  0.93961,\n  0.93674,\n  0.93362,\n  0.93025,\n  0.92664,\n  0.92492,\n  0.92315,\n  0.92135,\n  0.9195,\n  0.9176,\n  0.91565,\n  0.91366,\n  0.91163,\n  0.90955,\n  0.90152,\n  0.89499,\n  0.88927,\n  0.8841,\n  0.87933,\n  0.87487,\n  0.87068,\n  0.86669],\n [0.5648,\n  0.565,\n  0.5653,\n  0.5656,\n  0.566,\n  0.5665,\n  0.567,\n  0.5675,\n  0.5682,\n  0.5689,\n  0.5697,\n  0.5706,\n  0.5717,\n  0.5728,\n  0.5741,\n  0.5755,\n  0.577,\n  0.5787,\n  0.5805,\n  0.5824,\n  0.5834,\n  0.5843,\n  0.5853,\n  0.5864,\n  0.5874,\n  0.5885,\n  0.5896,\n  0.5907,\n  0.5919,\n  0.5964,\n  0.6002,\n  0.6035,\n  0.6065,\n  0.6093,\n  0.6119,\n  0.6144,\n  0.6167],\n [6.3805,\n  6.3691,\n  6.356,\n  6.3411,\n  6.324,\n  6.3045,\n  6.2824,\n  6.2574,\n  6.229,\n  6.1972,\n  6.1613,\n  6.1213,\n  6.0768,\n  6.0274,\n  5.973,\n  5.9133,\n  5.848,\n  5.7771,\n  5.7005,\n  5.6183,\n  5.5791,\n  5.539,\n  5.4979,\n  5.4558,\n  5.4126,\n  5.3684,\n  5.3232,\n  5.2771,\n  5.2301,\n  5.0487,\n  4.9023,\n  4.7751,\n  4.6609,\n  4.5563,\n  4.4595,\n  4.3692,\n  4.2842])"
     },
     "metadata": {},
     "execution_count": 8
    }
   ],
   "source": [
    "radius_mesh = [0.02644198, 0.0256534 , 0.02489945, 0.02418143, 0.02350056,\n",
    "       0.02285801, 0.02225487, 0.02169218, 0.02117089, 0.02069189,\n",
    "       0.02025601, 0.01986399, 0.0195165 , 0.01921413, 0.0189574 ,\n",
    "       0.01874674, 0.01858253, 0.01846503, 0.01839445, 0.01837091,\n",
    "       0.01837567, 0.01838996, 0.01841374, 0.01844699, 0.01848967,\n",
    "       0.0185417 , 0.01860304, 0.01867358, 0.01875324, 0.01912709,\n",
    "       0.0194971 , 0.01986327, 0.0202256 , 0.0205841 , 0.02093875,\n",
    "       0.02128956, 0.02163654]\n",
    "NOELLE.calculate_transport_properties(radius_mesh)"
   ]
  },
  {
   "cell_type": "code",
   "execution_count": 9,
   "metadata": {
    "tags": []
   },
   "outputs": [
    {
     "output_type": "stream",
     "name": "stdout",
     "text": "\n *******************************************************************************\n\n         NASA-GLENN CHEMICAL EQUILIBRIUM PROGRAM CEA, OCTOBER 18, 2002\n                   BY  BONNIE MCBRIDE AND SANFORD GORDON\n      REFS: NASA RP-1311, PART I, 1994 AND NASA RP-1311, PART II, 1996\n\n *******************************************************************************\n\n\n\n reac\n  fuel C2H5OH(L) C 2 H 6 O 1 wt%=70 t(k)=298.150 rho=0.790\n  fuel H2O(L) H 2 O 1 wt%=30 t(k)=298.150 rho=1.000\n  oxid NitrousOxide  N 2.0 O 1.0  wt%=100.00\n  h,cal= 19467.0 t(k)=298.15\n  \n prob case=RocketCEA,\n  rocket equilibrium   p,bar=35.000000,  subar=1.1,1.2,  pi/p=35.000000,  supar=1\n .1,1.2,\n  o/f=4.012590,\n  \n  \n output siunits  transport  massf\n end\n\n OPTIONS: TP=F  HP=F  SP=F  TV=F  UV=F  SV=F  DETN=F  SHOCK=F  REFL=F  INCD=F\n RKT=T  FROZ=F  EQL=T  IONS=F  SIUNIT=T  DEBUGF=F  SHKDBG=F  DETDBG=F  TRNSPT=T\n\n TRACE= 0.00E+00  S/R= 0.000000E+00  H/R= 0.000000E+00  U/R= 0.000000E+00\n\n Pc,BAR =    35.000000\n\n Pc/P =    35.0000\n\n SUBSONIC AREA RATIOS =     1.1000     1.2000\n\n SUPERSONIC AREA RATIOS =     1.1000     1.2000\n\n NFZ=  1  Mdot/Ac= 0.000000E+00  Ac/At= 0.000000E+00\n\n    REACTANT          WT.FRAC   (ENERGY/R),K   TEMP,K  DENSITY\n        EXPLODED FORMULA\n F: C2H5OH(L)        0.700000  -0.333766E+05   298.15  0.7900\n          C  2.00000  H  6.00000  O  1.00000\n F: H2O(L)           0.300000  -0.343773E+05   298.15  1.0000\n          H  2.00000  O  1.00000\n O: NitrousOxide     1.000000   0.979612E+04   298.15  0.0000\n          N  2.00000  O  1.00000\n\n  SPECIES BEING CONSIDERED IN THIS SYSTEM\n (CONDENSED PHASE MAY HAVE NAME LISTED SEVERAL TIMES)\n  LAST thermo.inp UPDATE:    9/09/04\n\n  g 7/97  *C               tpis79  *CH              g 4/02  CH2            \n  g 4/02  CH3              g11/00  CH2OH            g 7/00  CH3O           \n  g 8/99  CH4              g 7/00  CH3OH            srd 01  CH3OOH         \n  g 8/99  *CN              g12/99  CNN              tpis79  *CO            \n  g 9/99  *CO2             tpis91  COOH             tpis91  *C2            \n  g 6/01  C2H              g 1/91  C2H2,acetylene   g 5/01  C2H2,vinylidene\n  g 4/02  CH2CO,ketene     g 3/02  O(CH)2O          srd 01  HO(CO)2OH      \n  g 7/01  C2H3,vinyl       g 9/00  CH3CN            g 6/96  CH3CO,acetyl   \n  g 1/00  C2H4             g 8/88  C2H4O,ethylen-o  g 8/88  CH3CHO,ethanal \n  g 6/00  CH3COOH          srd 01  OHCH2COOH        g 7/00  C2H5           \n  g 7/00  C2H6             g 8/88  CH3N2CH3         g 8/88  C2H5OH         \n  g 7/00  CH3OCH3          srd 01  CH3O2CH3         g 7/00  CCN            \n  tpis91  CNC              srd 01  OCCN             tpis79  C2N2           \n  g 8/00  C2O              tpis79  *C3              n 4/98  C3H3,1-propynl \n  n 4/98  C3H3,2-propynl   g 2/00  C3H4,allene      g 1/00  C3H4,propyne   \n  g 5/90  C3H4,cyclo-      g 3/01  C3H5,allyl       g 2/00  C3H6,propylene \n  g 1/00  C3H6,cyclo-      g 6/01  C3H6O,propylox   g 6/97  C3H6O,acetone  \n  g 1/02  C3H6O,propanal   g 7/01  C3H7,n-propyl    g 9/85  C3H7,i-propyl  \n  g 2/00  C3H8             g 2/00  C3H8O,1propanol  g 2/00  C3H8O,2propanol\n  srd 01  CNCOCN           g 7/88  C3O2             g tpis  *C4            \n  g 7/01  C4H2,butadiyne   g 8/00  C4H4,1,3-cyclo-  n10/92  C4H6,butadiene \n  n10/93  C4H6,1butyne     n10/93  C4H6,2butyne     g 8/00  C4H6,cyclo-    \n  n 4/88  C4H8,1-butene    n 4/88  C4H8,cis2-buten  n 4/88  C4H8,tr2-butene\n  n 4/88  C4H8,isobutene   g 8/00  C4H8,cyclo-      g10/00  (CH3COOH)2     \n  n10/84  C4H9,n-butyl     n10/84  C4H9,i-butyl     g 1/93  C4H9,s-butyl   \n  g 1/93  C4H9,t-butyl     g12/00  C4H10,n-butane   g 8/00  C4H10,isobutane\n  g 6/01  C4N2             g 8/00  *C5              g 5/90  C5H6,1,3cyclo- \n  g 1/93  C5H8,cyclo-      n 4/87  C5H10,1-pentene  g 2/01  C5H10,cyclo-   \n  n10/84  C5H11,pentyl     g 1/93  C5H11,t-pentyl   n10/85  C5H12,n-pentane\n  n10/85  C5H12,i-pentane  n10/85  CH3C(CH3)2CH3    g 2/93  C6H2           \n  g11/00  C6H5,phenyl      g 8/00  C6H5O,phenoxy    g 8/00  C6H6           \n  g 8/00  C6H5OH,phenol    g 1/93  C6H10,cyclo-     n 4/87  C6H12,1-hexene \n  g 6/90  C6H12,cyclo-     n10/83  C6H13,n-hexyl    g 6/01  C6H14,n-hexane \n  g 7/01  C7H7,benzyl      g 1/93  C7H8             g12/00  C7H8O,cresol-mx\n  n 4/87  C7H14,1-heptene  n10/83  C7H15,n-heptyl   n10/85  C7H16,n-heptane\n  n10/85  C7H16,2-methylh  n 4/89  C8H8,styrene     n10/86  C8H10,ethylbenz\n  n 4/87  C8H16,1-octene   n10/83  C8H17,n-octyl    n 4/85  C8H18,n-octane \n  n 4/85  C8H18,isooctane  n10/83  C9H19,n-nonyl    g 3/01  C10H8,naphthale\n  n10/83  C10H21,n-decyl   g 8/00  C12H9,o-bipheny  g 8/00  C12H10,biphenyl\n  g 6/97  *H               g 6/01  HCN              g 1/01  HCO            \n  tpis89  HCCN             g 6/01  HCCO             g 6/01  HNC            \n  g 7/00  HNCO             g10/01  HNO              tpis89  HNO2           \n  g 5/99  HNO3             g 4/02  HO2              tpis78  *H2            \n  g 5/01  HCHO,formaldehy  g 6/01  HCOOH            g 8/89  H2O            \n  g 6/99  H2O2             g 6/01  (HCOOH)2         g 5/97  *N             \n  g 6/01  NCO              g 4/99  *NH              g 3/01  NH2            \n  tpis89  NH3              tpis89  NH2OH            tpis89  *NO            \n  g 4/99  NO2              j12/64  NO3              tpis78  *N2            \n  g 6/01  NCN              g 5/99  N2H2             tpis89  NH2NO2         \n  g 4/99  N2H4             g 4/99  N2O              g 4/99  N2O3           \n  tpis89  N2O4             g 4/99  N2O5             tpis89  N3             \n  g 4/99  N3H              g 5/97  *O               g 4/02  *OH            \n  tpis89  *O2              g 8/01  O3               n 4/83  C(gr)          \n  n 4/83  C(gr)            n 4/83  C(gr)            g11/99  H2O(cr)        \n  g 8/01  H2O(L)           g 8/01  H2O(L)         \n\n SPECIES WITH TRANSPORT PROPERTIES\n\n        PURE SPECIES\n\n  C                 CH4               CH3OH             CO              \n  CO2               C2H2,acetylene  \n  C2H4              C2H6              C2H5OH            C2N2            \n  H                 HCN             \n  H2                H2O               N                 NH3             \n  NO                NO2             \n  N2                N2O               N2O4              O               \n  OH                O2              \n\n     BINARY INTERACTIONS\n\n     C               O               \n     CH4             O2              \n     CO              CO2             \n     CO              N2              \n     CO              O2              \n     CO2             H2              \n     CO2             H2O             \n     CO2             N2              \n     CO2             O2              \n     H               H2              \n     H               N               \n     H               N2              \n     H               O               \n     H2              H2O             \n     H2              N2              \n     H2              O2              \n     H2O             N2              \n     H2O             O2              \n     N               NO              \n     N               N2              \n     N               O               \n     N               O2              \n     NO              O               \n     N2              O               \n     N2              O2              \n     O               O2              \n\n\n O/F =   4.012590\n\n                       EFFECTIVE FUEL     EFFECTIVE OXIDANT        MIXTURE\n ENTHALPY                  h(2)/R              h(1)/R               h0/R\n (KG-MOL)(K)/KG       -0.10796185E+04      0.22257432E+03     -0.37210111E+02\n\n KG-FORM.WT./KG             bi(2)               bi(1)               b0i\n  *C                   0.30389568E-01      0.00000000E+00      0.60626479E-02\n  *H                   0.12447377E+00      0.00000000E+00      0.24832226E-01\n  *O                   0.31847315E-01      0.22720663E-01      0.24541409E-01\n  *N                   0.00000000E+00      0.45441326E-01      0.36375888E-01\n\n POINT ITN      T            C           H           O           N \n\n   1   23    3000.554     -17.779     -10.707     -15.342     -12.791\n\n Pinf/Pt = 1.737083\n   2    4    2825.357     -18.358     -10.991     -15.589     -12.950\n\n Pinf/Pt = 1.737712\n   2    2    2825.244     -18.358     -10.992     -15.589     -12.950\n\n   3    5    1906.637     -22.953     -13.021     -17.563     -13.742\n\n   4    3    2912.484     -18.062     -10.847     -15.462     -12.870\n\n   4    2    2911.635     -18.065     -10.848     -15.463     -12.871\n\n   5    3    2941.096     -17.968     -10.801     -15.422     -12.844\n\n   5    2    2935.395     -17.987     -10.810     -15.430     -12.849\n\n   5    2    2934.946     -17.988     -10.811     -15.431     -12.850\n\n   6    4    2695.903     -18.831     -11.219     -15.794     -13.070\n\n   6    2    2697.197     -18.826     -11.217     -15.791     -13.069\n\n   7    3    2633.785     -19.073     -11.334     -15.899     -13.128\n\n   7    2    2636.098     -19.064     -11.330     -15.895     -13.126\n\n\n\n\n\n\n              THEORETICAL ROCKET PERFORMANCE ASSUMING EQUILIBRIUM\n\n           COMPOSITION DURING EXPANSION FROM INFINITE AREA COMBUSTOR\n\n Pinj =   507.6 PSIA\n CASE = RocketCEA,     \n\n             REACTANT                    WT FRACTION      ENERGY      TEMP\n                                          (SEE NOTE)     KJ/KG-MOL      K  \n FUEL        C2H5OH(L)                    0.7000000   -277510.001    298.150\n FUEL        H2O(L)                       0.3000000   -285830.088    298.150\n OXIDANT     NitrousOxide                 1.0000000     81449.928    298.150\n\n O/F=    4.01259  %FUEL= 19.949766  R,EQ.RATIO= 1.000000  PHI,EQ.RATIO= 1.000000\n\n                 CHAMBER   THROAT     EXIT     EXIT     EXIT     EXIT     EXIT\n Pinf/P            1.0000   1.7377   35.000   1.3199   1.2266   2.6330   3.2186\n P, BAR            35.000   20.141   1.0000   26.517   28.535   13.293   10.874\n T, K             3000.55  2825.24  1906.64  2911.64  2934.95  2697.20  2636.10\n RHO, KG/CU M    3.6715 0 2.2649 0 1.7168-1 2.8804 0 3.0711 0 1.5758 0 1.3227 0\n H, KJ/KG         -309.38  -818.26 -3017.80  -569.41  -501.59 -1178.24 -1345.48\n U, KJ/KG        -1262.67 -1707.53 -3600.27 -1490.03 -1430.73 -2021.82 -2167.59\n G, KJ/KG        -30323.5 -29078.7 -22089.6 -29694.1 -29859.4 -28157.9 -27714.0\n S, KJ/(KG)(K)    10.0028  10.0028  10.0028  10.0028  10.0028  10.0028  10.0028\n\n M, (1/n)          26.171   26.415   27.216   26.296   26.264   26.584   26.661\n (dLV/dLP)t      -1.01281 -1.01009 -1.00068 -1.01142 -1.01178 -1.00817 -1.00729\n (dLV/dLT)p        1.2819   1.2368   1.0239   1.2596   1.2656   1.2013   1.1841\n Cp, KJ/(KG)(K)    3.7729   3.5314   1.9094   3.6577   3.6894   3.3194   3.2091\n GAMMAs            1.1436   1.1445   1.2005   1.1438   1.1437   1.1465   1.1481\n SON VEL,M/SEC     1044.1   1008.8    836.2   1026.2   1030.9    983.5    971.5\n MACH NUMBER        0.000    1.000    2.783    0.703    0.601    1.340    1.482\n\n TRANSPORT PROPERTIES (GASES ONLY)\n   CONDUCTIVITY IN UNITS OF MILLIWATTS/(CM)(K)\n\n VISC,MILLIPOISE  0.96386  0.92664  0.71198  0.94507  0.95001  0.89892  0.88551\n\n  WITH EQUILIBRIUM REACTIONS\n\n Cp, KJ/(KG)(K)    3.7729   3.5314   1.9094   3.6577   3.6894   3.3194   3.2091\n CONDUCTIVITY      6.4594   5.6183   1.9305   6.0371   6.1489   4.9904   4.6919\n PRANDTL NUMBER    0.5630   0.5824   0.7042   0.5726   0.5700   0.5979   0.6057\n\n  WITH FROZEN REACTIONS\n\n Cp, KJ/(KG)(K)    1.7462   1.7368   1.6488   1.7416   1.7428   1.7289   1.7247\n CONDUCTIVITY      2.4359   2.3108   1.6073   2.3726   2.3892   2.2183   2.1737\n PRANDTL NUMBER    0.6909   0.6964   0.7304   0.6937   0.6930   0.7006   0.7026\n\n PERFORMANCE PARAMETERS\n\n Ae/At                      1.0000   5.7185   1.1000   1.2000   1.1000   1.2000\n CSTAR, M/SEC               1531.8   1531.8   1531.8   1531.8   1531.8   1531.8\n CF                         0.6586   1.5194   0.4708   0.4048   0.8606   0.9398\n Ivac, M/SEC                1890.3   2577.7   1997.7   2118.6   1958.2   2010.6\n Isp, M/SEC                 1008.8   2327.4    721.2    620.0   1318.2   1439.5\n\n\n MASS FRACTIONS\n\n *CO              0.04891  0.03873  0.00255  0.04374  0.04510  0.03146  0.02811\n *CO2             0.18996  0.20595  0.26281  0.19808  0.19595  0.21738  0.22265\n *H               0.00013  0.00009  0.00000  0.00011  0.00011  0.00006  0.00005\n HO2              0.00004  0.00002  0.00000  0.00003  0.00003  0.00001  0.00001\n *H2              0.00125  0.00098  0.00009  0.00111  0.00114  0.00080  0.00072\n H2O              0.20364  0.20839  0.22262  0.20611  0.20547  0.21154  0.21292\n H2O2             0.00001  0.00000  0.00000  0.00000  0.00000  0.00000  0.00000\n *NO              0.01281  0.00931  0.00043  0.01097  0.01144  0.00711  0.00617\n NO2              0.00002  0.00001  0.00000  0.00002  0.00002  0.00001  0.00001\n *N2              0.50351  0.50515  0.50931  0.50438  0.50416  0.50618  0.50662\n *O               0.00162  0.00103  0.00001  0.00130  0.00138  0.00069  0.00055\n *OH              0.01457  0.01083  0.00048  0.01263  0.01313  0.00838  0.00731\n *O2              0.02351  0.01949  0.00172  0.02152  0.02205  0.01638  0.01487\n\n  * THERMODYNAMIC PROPERTIES FITTED TO 20000.K\n\n    PRODUCTS WHICH WERE CONSIDERED BUT WHOSE MASS FRACTIONS\n    WERE LESS THAN 5.000000E-06 FOR ALL ASSIGNED CONDITIONS\n\n *C              *CH             CH2             CH3             CH2OH          \n CH3O            CH4             CH3OH           CH3OOH          *CN            \n CNN             COOH            *C2             C2H             C2H2,acetylene \n C2H2,vinylidene CH2CO,ketene    O(CH)2O         HO(CO)2OH       C2H3,vinyl     \n CH3CN           CH3CO,acetyl    C2H4            C2H4O,ethylen-o CH3CHO,ethanal \n CH3COOH         OHCH2COOH       C2H5            C2H6            CH3N2CH3       \n C2H5OH          CH3OCH3         CH3O2CH3        CCN             CNC            \n OCCN            C2N2            C2O             *C3             C3H3,1-propynl \n C3H3,2-propynl  C3H4,allene     C3H4,propyne    C3H4,cyclo-     C3H5,allyl     \n C3H6,propylene  C3H6,cyclo-     C3H6O,propylox  C3H6O,acetone   C3H6O,propanal \n C3H7,n-propyl   C3H7,i-propyl   C3H8            C3H8O,1propanol C3H8O,2propanol\n CNCOCN          C3O2            *C4             C4H2,butadiyne  C4H4,1,3-cyclo-\n C4H6,butadiene  C4H6,1butyne    C4H6,2butyne    C4H6,cyclo-     C4H8,1-butene  \n C4H8,cis2-buten C4H8,tr2-butene C4H8,isobutene  C4H8,cyclo-     (CH3COOH)2     \n C4H9,n-butyl    C4H9,i-butyl    C4H9,s-butyl    C4H9,t-butyl    C4H10,n-butane \n C4H10,isobutane C4N2            *C5             C5H6,1,3cyclo-  C5H8,cyclo-    \n C5H10,1-pentene C5H10,cyclo-    C5H11,pentyl    C5H11,t-pentyl  C5H12,n-pentane\n C5H12,i-pentane CH3C(CH3)2CH3   C6H2            C6H5,phenyl     C6H5O,phenoxy  \n C6H6            C6H5OH,phenol   C6H10,cyclo-    C6H12,1-hexene  C6H12,cyclo-   \n C6H13,n-hexyl   C6H14,n-hexane  C7H7,benzyl     C7H8            C7H8O,cresol-mx\n C7H14,1-heptene C7H15,n-heptyl  C7H16,n-heptane C7H16,2-methylh C8H8,styrene   \n C8H10,ethylbenz C8H16,1-octene  C8H17,n-octyl   C8H18,n-octane  C8H18,isooctane\n C9H19,n-nonyl   C10H8,naphthale C10H21,n-decyl  C12H9,o-bipheny C12H10,biphenyl\n HCN             HCO             HCCN            HCCO            HNC            \n HNCO            HNO             HNO2            HNO3            HCHO,formaldehy\n HCOOH           (HCOOH)2        *N              NCO             *NH            \n NH2             NH3             NH2OH           NO3             NCN            \n N2H2            NH2NO2          N2H4            N2O             N2O3           \n N2O4            N2O5            N3              N3H             O3             \n C(gr)           H2O(cr)         H2O(L)         \n\n NOTE. WEIGHT FRACTION OF FUEL IN TOTAL FUELS AND OF OXIDANT IN TOTAL OXIDANTS\n\n\n\n\n"
    }
   ],
   "source": [
    "NOELLE.print_cea_output(subar=[1.1,1.2], supar=[1.1,1.2])"
   ]
  },
  {
   "cell_type": "code",
   "execution_count": null,
   "metadata": {},
   "outputs": [],
   "source": []
  }
 ],
 "metadata": {
  "kernelspec": {
   "name": "Python 3.8.3 64-bit ('base': conda)",
   "display_name": "Python 3.8.3 64-bit ('base': conda)",
   "metadata": {
    "interpreter": {
     "hash": "380cb6fe9d4f167c2eb9d18c86915886ff2a417f8ec4263832bd8a0e4a146ed9"
    }
   }
  },
  "language_info": {
   "codemirror_mode": {
    "name": "ipython",
    "version": 3
   },
   "file_extension": ".py",
   "mimetype": "text/x-python",
   "name": "python",
   "nbconvert_exporter": "python",
   "pygments_lexer": "ipython3",
   "version": "3.8.3-final"
  }
 },
 "nbformat": 4,
 "nbformat_minor": 1
}