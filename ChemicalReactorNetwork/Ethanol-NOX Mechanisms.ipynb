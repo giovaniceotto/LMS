{
 "cells": [
  {
   "cell_type": "markdown",
   "metadata": {},
   "source": [
    "# Initialization"
   ]
  },
  {
   "cell_type": "code",
   "execution_count": 1,
   "metadata": {},
   "outputs": [
    {
     "name": "stdout",
     "output_type": "stream",
     "text": [
      "Runnning Cantera version: 2.4.0\n"
     ]
    }
   ],
   "source": [
    "import pandas as pd\n",
    "import numpy as np\n",
    "import cantera as ct\n",
    "print('Runnning Cantera version: ' + ct.__version__)"
   ]
  },
  {
   "cell_type": "code",
   "execution_count": 2,
   "metadata": {},
   "outputs": [],
   "source": [
    "import matplotlib as mpl\n",
    "import matplotlib.pyplot as plt\n",
    "\n",
    "mpl.rcParams['figure.figsize'] = [12.0, 6.0]\n",
    "mpl.rcParams['figure.dpi'] = 120\n",
    "mpl.rcParams['savefig.dpi'] = 120\n",
    "\n",
    "# Font\n",
    "font = {'family' : 'normal',\n",
    "        'weight' : 'bold',\n",
    "        'size'   : 22}\n",
    "mpl.rc('font', **font)\n",
    "\n",
    "# Style\n",
    "plt.style.use(['science', 'grid'])"
   ]
  },
  {
   "cell_type": "markdown",
   "metadata": {},
   "source": [
    "# Defining Reaction Mechanisms"
   ]
  },
  {
   "cell_type": "markdown",
   "metadata": {},
   "source": [
    "## Mechanism I - The San Diego Mechanism"
   ]
  },
  {
   "cell_type": "code",
   "execution_count": 3,
   "metadata": {},
   "outputs": [
    {
     "name": "stdout",
     "output_type": "stream",
     "text": [
      "\n",
      "\n",
      "**** WARNING ****\n",
      "For species C2H4OOH, discontinuity in cp/R detected at Tmid = 1000\n",
      "\tValue computed using low-temperature polynomial:  18.4211\n",
      "\tValue computed using high-temperature polynomial: 18.7409\n",
      "\n",
      "\n",
      "**** WARNING ****\n",
      "For species C2H4OOH, discontinuity in h/RT detected at Tmid = 1000\n",
      "\tValue computed using low-temperature polynomial:  14.778\n",
      "\tValue computed using high-temperature polynomial: 14.7264\n",
      "\n",
      "\n",
      "**** WARNING ****\n",
      "For species OC2H3OOH, discontinuity in cp/R detected at Tmid = 1000\n",
      "\tValue computed using low-temperature polynomial:  18.7616\n",
      "\tValue computed using high-temperature polynomial: 19.0815\n",
      "\n",
      "\n",
      "**** WARNING ****\n",
      "For species OC2H3OOH, discontinuity in h/RT detected at Tmid = 1000\n",
      "\tValue computed using low-temperature polynomial:  -18.695\n",
      "\tValue computed using high-temperature polynomial: -18.741\n",
      "\n",
      "\n",
      "**** WARNING ****\n",
      "For species CH2CH2OH, discontinuity in cp/R detected at Tmid = 1000\n",
      "\tValue computed using low-temperature polynomial:  15.1078\n",
      "\tValue computed using high-temperature polynomial: 15.3858\n",
      "\n",
      "\n",
      "**** WARNING ****\n",
      "For species CH2CH2OH, discontinuity in h/RT detected at Tmid = 1000\n",
      "\tValue computed using low-temperature polynomial:  4.68858\n",
      "\tValue computed using high-temperature polynomial: 4.64839\n",
      "\n",
      "\n",
      "**** WARNING ****\n",
      "For species CH3CHOH, discontinuity in cp/R detected at Tmid = 1000\n",
      "\tValue computed using low-temperature polynomial:  14.8258\n",
      "\tValue computed using high-temperature polynomial: 15.1099\n",
      "\n",
      "\n",
      "**** WARNING ****\n",
      "For species CH3CHOH, discontinuity in h/RT detected at Tmid = 1000\n",
      "\tValue computed using low-temperature polynomial:  3.05408\n",
      "\tValue computed using high-temperature polynomial: 3.0213\n",
      "\n",
      "\n",
      "**** WARNING ****\n",
      "For species CH3CH2O, discontinuity in cp/R detected at Tmid = 1000\n",
      "\tValue computed using low-temperature polynomial:  15.4991\n",
      "\tValue computed using high-temperature polynomial: 15.7456\n",
      "\n",
      "\n",
      "**** WARNING ****\n",
      "For species CH3CH2O, discontinuity in h/RT detected at Tmid = 1000\n",
      "\tValue computed using low-temperature polynomial:  6.37479\n",
      "\tValue computed using high-temperature polynomial: 6.34376\n",
      "\n",
      "\n",
      "**** WARNING ****\n",
      "For species C3H6OOH, discontinuity in cp/R detected at Tmid = 1000\n",
      "\tValue computed using low-temperature polynomial:  24.3334\n",
      "\tValue computed using high-temperature polynomial: 24.8126\n",
      "\n",
      "\n",
      "**** WARNING ****\n",
      "For species C3H6OOH, discontinuity in h/RT detected at Tmid = 1000\n",
      "\tValue computed using low-temperature polynomial:  13.9525\n",
      "\tValue computed using high-temperature polynomial: 13.8907\n",
      "\n",
      "\n",
      "**** WARNING ****\n",
      "For species OC3H5OOH, discontinuity in cp/R detected at Tmid = 1000\n",
      "\tValue computed using low-temperature polynomial:  25.6842\n",
      "\tValue computed using high-temperature polynomial: 26.1906\n",
      "\n",
      "\n",
      "**** WARNING ****\n",
      "For species OC3H5OOH, discontinuity in h/RT detected at Tmid = 1000\n",
      "\tValue computed using low-temperature polynomial:  -19.3499\n",
      "\tValue computed using high-temperature polynomial: -19.4271\n",
      "Number of species: 68\n",
      "Number of reactions: 311\n"
     ]
    }
   ],
   "source": [
    "san_diego_gas = ct.Solution('sandiego2016_plus_N_CK.cti')\n",
    "print('Number of species:', san_diego_gas.n_species)\n",
    "print('Number of reactions:', san_diego_gas.n_reactions)"
   ]
  },
  {
   "cell_type": "markdown",
   "metadata": {},
   "source": [
    "## Mechanism II - Marinov + Mevel"
   ]
  },
  {
   "cell_type": "code",
   "execution_count": 4,
   "metadata": {
    "scrolled": false
   },
   "outputs": [
    {
     "name": "stdout",
     "output_type": "stream",
     "text": [
      "Number of species: 93\n",
      "Number of reactions: 664\n"
     ]
    }
   ],
   "source": [
    "marinov_species = ct.Species.listFromFile('marinov_ethanol_mechanism.cti')\n",
    "marinov_reactions = ct.Reaction.listFromFile('marinov_ethanol_mechanism.cti')\n",
    "\n",
    "mevel_species = ct.Species.listFromFile('mevel_ethanol_mechanism.cti')\n",
    "mevel_reactions = ct.Reaction.listFromFile('mevel_ethanol_mechanism.cti')\n",
    "\n",
    "new_species = []\n",
    "new_reactions = []\n",
    "\n",
    "# Filter species\n",
    "for specie in mevel_species:\n",
    "    # Include all nitrogen compounds except for N2\n",
    "    if 'N' in specie.composition and specie.composition != {'N':2}: new_species.append(specie)\n",
    "\n",
    "new_species_names = {specie.name for specie in new_species}\n",
    "# print('N based species: {0}'.format(', '.join(name for name in new_species_names)))\n",
    "\n",
    "marinov_mevel_species = marinov_species + new_species\n",
    "marinov_mevel_species_names = {specie.name.upper() for specie in marinov_mevel_species}\n",
    "\n",
    "# Filter reactions, keeping only those that only involve the selected species\n",
    "# print('\\nReactions:')\n",
    "for R in mevel_reactions:\n",
    "    if any(reactant in new_species_names for reactant in R.reactants) or any(product in new_species_names for product in R.products):\n",
    "        # for reactant in R.reactants:\n",
    "            # if reactant not in marinov_mevel_species_names:\n",
    "                # print('Missing reactant:', reactant, 'when analyzing reaction', R.equation)\n",
    "        # for product in R.products:\n",
    "            # if product not in marinov_mevel_species_names:\n",
    "                # print('Missing product:', product, 'when analyzing reaction', R.equation)\n",
    "        if all(reactant in marinov_mevel_species_names for reactant in R.reactants):\n",
    "            if all(product in marinov_mevel_species_names for product in R.products):\n",
    "                new_reactions.append(R)\n",
    "                # print('Accepted reaction:', R.equation)\n",
    "# print('\\n')\n",
    "\n",
    "marinov_mevel_species = marinov_species + new_species\n",
    "marinov_mevel_reactions = marinov_reactions + new_reactions\n",
    "\n",
    "marinov_mevel_gas = ct.Solution(\n",
    "    thermo='IdealGas',\n",
    "    kinetics='GasKinetics',\n",
    "    species=marinov_mevel_species,\n",
    "    reactions=marinov_mevel_reactions\n",
    ")\n",
    "\n",
    "print('Number of species:', marinov_mevel_gas.n_species)\n",
    "print('Number of reactions:', marinov_mevel_gas.n_reactions)"
   ]
  },
  {
   "cell_type": "markdown",
   "metadata": {},
   "source": [
    "## Mechanism III - Marinov + GRI 3.0"
   ]
  },
  {
   "cell_type": "code",
   "execution_count": 5,
   "metadata": {},
   "outputs": [
    {
     "name": "stdout",
     "output_type": "stream",
     "text": [
      "Number of species: 75\n",
      "Number of reactions: 494\n"
     ]
    }
   ],
   "source": [
    "marinov_species = ct.Species.listFromFile('marinov_ethanol_mechanism.cti')\n",
    "marinov_reactions = ct.Reaction.listFromFile('marinov_ethanol_mechanism.cti')\n",
    "\n",
    "gri_species = ct.Species.listFromFile('gri30.xml')\n",
    "n_species = []\n",
    "gri_reactions = ct.Reaction.listFromFile('gri30.xml')\n",
    "n_reactions = []\n",
    "\n",
    "# Filter species\n",
    "for S in gri_species:\n",
    "    comp = S.composition\n",
    "    if 'N' in comp and comp != {'N':2}:\n",
    "        # Include all nitrogen compounds except for N2\n",
    "        n_species.append(S)\n",
    "    if 'C' == S.name:\n",
    "        # Include all nitrogen compounds except for N2\n",
    "        n_species.append(S)\n",
    "\n",
    "n_species_names = {S.name for S in n_species}\n",
    "# print('N based species: {0}'.format(', '.join(S.name for S in n_species)))\n",
    "\n",
    "marinov_gri_species = marinov_species + n_species\n",
    "marinov_gri_species_names = {S.name.upper() for S in marinov_gri_species}\n",
    "\n",
    "\n",
    "# Filter reactions, keeping only those that only involve the selected species\n",
    "# print('\\nReactions:')\n",
    "for R in gri_reactions:\n",
    "    if any(reactant in n_species_names for reactant in R.reactants) or any(product in n_species_names for product in R.products):\n",
    "        # for reactant in R.reactants:\n",
    "            # if reactant not in marinov_gri_species_names:\n",
    "                # print('Missing reactant:', reactant, 'when analyzing reaction', R.equation)\n",
    "        # for product in R.products:\n",
    "            # if product not in marinov_gri_species_names:\n",
    "                # print('Missing product:', product, 'when analyzing reaction', R.equation)\n",
    "        if all(reactant in marinov_gri_species_names for reactant in R.reactants):\n",
    "            if all(product in marinov_gri_species_names for product in R.products):\n",
    "                n_reactions.append(R)\n",
    "                # print('Accepted reaction:', R.equation)\n",
    "# print('\\n')\n",
    "\n",
    "marinov_gri_species = marinov_species + n_species\n",
    "marinov_gri_reactions = marinov_reactions + n_reactions\n",
    "\n",
    "marinov_gri_gas = ct.Solution(\n",
    "    thermo='IdealGas',\n",
    "    kinetics='GasKinetics',\n",
    "    species=marinov_gri_species,\n",
    "    reactions=marinov_gri_reactions\n",
    ")\n",
    "\n",
    "print('Number of species:', marinov_gri_gas.n_species)\n",
    "print('Number of reactions:', marinov_gri_gas.n_reactions)"
   ]
  },
  {
   "cell_type": "markdown",
   "metadata": {},
   "source": [
    "# Comparing Ignition Delay"
   ]
  },
  {
   "cell_type": "code",
   "execution_count": 6,
   "metadata": {},
   "outputs": [],
   "source": [
    "def ignitionDelay(df, species):\n",
    "    \"\"\"\n",
    "    This function computes the ignition delay from the occurence of the\n",
    "    peak in species' concentration.\n",
    "    \"\"\"\n",
    "    return df[species].idxmax()"
   ]
  },
  {
   "cell_type": "markdown",
   "metadata": {},
   "source": [
    "## Defining IdealGasConstPressureReactor"
   ]
  },
  {
   "cell_type": "code",
   "execution_count": 7,
   "metadata": {},
   "outputs": [
    {
     "name": "stdout",
     "output_type": "stream",
     "text": [
      "San Diego  | Computed Ignition Delay: 9.168e-06 seconds.\n",
      "Marinov + Mevel  | Computed Ignition Delay: 4.597e-06 seconds.\n",
      "Marinov + GRI  | Computed Ignition Delay: 6.450e-06 seconds.\n"
     ]
    }
   ],
   "source": [
    "# Define the reactor temperature and pressure\n",
    "reactorTemperature = 1500 #Kelvin\n",
    "reactorPressure = 35e5 #Pascals\n",
    "\n",
    "gas_dict = {\n",
    "    'San Diego': san_diego_gas,\n",
    "    'Marinov + Mevel': marinov_mevel_gas,\n",
    "    'Marinov + GRI': marinov_gri_gas,\n",
    "}\n",
    "\n",
    "result_dict = {\n",
    "    'San Diego': None,\n",
    "    'Marinov + Mevel': None,\n",
    "    'Marinov + GRI': None,\n",
    "}\n",
    "\n",
    "for mechanism_name, gas in gas_dict.items():\n",
    "    # Set temp and pressure\n",
    "    gas.TP = reactorTemperature, reactorPressure\n",
    "    \n",
    "    # Define the fuel, oxidizer and set the stoichiometry\n",
    "    try: gas.set_equivalence_ratio(phi=1, fuel='C2H5OH', oxidizer='N2O')\n",
    "    except: gas.set_equivalence_ratio(phi=1, fuel='c2h5oh', oxidizer='N2O')\n",
    "    \n",
    "    # Create IdealGasConstPressureReactor\n",
    "    reactor = ct.IdealGasReactor(contents=gas, name='Constant Pressure Reactor')\n",
    "    reactorNetwork = ct.ReactorNet([reactor])\n",
    "\n",
    "    # Compile a list of all variables for which we will store data\n",
    "    stateVariableNames = [reactor.component_name(item) for item in range(reactor.n_vars)]\n",
    "\n",
    "    # Use the above list to create a DataFrame\n",
    "    timeHistory = pd.DataFrame(columns=stateVariableNames)\n",
    "\n",
    "    # If you do not get an ignition within this time, increase it\n",
    "    estimatedIgnitionDelayTime = 0.1\n",
    "    t = 0\n",
    "    counter = 1;\n",
    "    while t < estimatedIgnitionDelayTime:\n",
    "        t = reactorNetwork.step()\n",
    "        timeHistory.loc[t] = reactorNetwork.get_state()\n",
    "        counter += 1\n",
    "\n",
    "    try: tau = ignitionDelay(timeHistory, 'CO')\n",
    "    except: tau = ignitionDelay(timeHistory, 'co')\n",
    "        \n",
    "    result_dict[mechanism_name] = timeHistory\n",
    "\n",
    "    print(mechanism_name, ' | Computed Ignition Delay: {:.3e} seconds.'.format(tau))"
   ]
  },
  {
   "cell_type": "markdown",
   "metadata": {},
   "source": [
    "## Plots"
   ]
  },
  {
   "cell_type": "code",
   "execution_count": 9,
   "metadata": {},
   "outputs": [
    {
     "data": {
      "text/plain": [
       "[]"
      ]
     },
     "execution_count": 9,
     "metadata": {},
     "output_type": "execute_result"
    },
    {
     "data": {
      "image/png": "[encoded data removed]",
      "text/plain": [
       "<Figure size 1200x720 with 1 Axes>"
      ]
     },
     "metadata": {
      "needs_background": "light"
     },
     "output_type": "display_data"
    }
   ],
   "source": [
    "plt.figure(figsize=(10,6))\n",
    "tau = 0.0\n",
    "\n",
    "for mechanism_name, timeHistory in result_dict.items():\n",
    "    try: tau = max(tau, ignitionDelay(timeHistory, 'CO'))\n",
    "    except: tau = max(tau, ignitionDelay(timeHistory, 'co'))\n",
    "        \n",
    "    # try: plt.plot(timeHistory.index, timeHistory['c2h5oh'],'-o', label=mechanism_name + ' - C2H5OH')\n",
    "    # except: plt.plot(timeHistory.index, timeHistory['C2H5OH'],'-o', label=mechanism_name + ' - C2H5OH')\n",
    "    # plt.plot(timeHistory.index, timeHistory['N2O'],'-o', label=mechanism_name + ' - N2O')\n",
    "\n",
    "    plt.plot(1e6*timeHistory.index, timeHistory['temperature'], label=mechanism_name, linewidth=2)\n",
    "    plt.xlabel(r'Time $(\\mathrm{\\mu s})$')\n",
    "    plt.ylabel('Temperature (K)')\n",
    "\n",
    "plt.xlim([0,2*1e6*tau])\n",
    "plt.legend()\n",
    "plt.savefig('ignition_delay.pdf')\n",
    "plt.plot()"
   ]
  },
  {
   "cell_type": "code",
   "execution_count": null,
   "metadata": {},
   "outputs": [],
   "source": []
  }
 ],
 "metadata": {
  "kernelspec": {
   "display_name": "Python 3",
   "language": "python",
   "name": "python3"
  },
  "language_info": {
   "codemirror_mode": {
    "name": "ipython",
    "version": 3
   },
   "file_extension": ".py",
   "mimetype": "text/x-python",
   "name": "python",
   "nbconvert_exporter": "python",
   "pygments_lexer": "ipython3",
   "version": "3.7.9"
  }
 },
 "nbformat": 4,
 "nbformat_minor": 4
}
