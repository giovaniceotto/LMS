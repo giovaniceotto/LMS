{
  "cells": [
    {
      "metadata": {
        "trusted": true
      },
      "cell_type": "code",
      "source": "%load_ext autoreload\n%autoreload 2",
      "execution_count": 2,
      "outputs": []
    },
    {
      "metadata": {
        "trusted": true
      },
      "cell_type": "code",
      "source": "from preliminar import Motor",
      "execution_count": 1,
      "outputs": []
    },
    {
      "metadata": {
        "trusted": true
      },
      "cell_type": "code",
      "source": "LMS_I = Motor()\nLMS_I.report()",
      "execution_count": 2,
      "outputs": [
        {
          "output_type": "stream",
          "text": "Thrust (N):  1000\n\nBurn time (seconds):  10\n\nChamber pressure (bar):  35.0\n\nAdiabatic chamber temperature (Kelvin):  3459\n\nMolecular Weight of exhaust products (kg/kmol):  21.479\n\nRatio of specific heats of exhaust products:  1.1275\n\nOxidiser/fuel mass ratio:  3.4\n\nCombustion efficiency (%):  0.885\n\nThrust coefficient efficiency (%):  0.95\n\nPressure on oxidiser tank (bar):  60.0\n\nPressure on fuel tank (bar):  60.0\n\nCharacteristic velocity (m/s):  1824.9090670998671\n\nThrust coefficient:  1.5319423642464303\n\nSpecific impulse (seconds):  239.59708162026234\n\nTotal mass flow rate (kg/s):  0.42545092158536946\n\nOxidiser mass flow rate (kg/s):  0.3287575303159673\n\nFuel mass flow rate (kg/s):  0.09669339126940214\n\nTotal oxidiser mass (kg):  3.287575303159673\n\nTotal fuel mass (kg):  0.9669339126940214\n\nNozzle throat diameter (mm):  15.8102239371169\n\nNozzle exit diameter (mm):  38.962301101776795\n\n",
          "name": "stdout"
        }
      ]
    }
  ],
  "metadata": {
    "kernelspec": {
      "name": "python36",
      "display_name": "Python 3.6",
      "language": "python"
    },
    "language_info": {
      "mimetype": "text/x-python",
      "nbconvert_exporter": "python",
      "name": "python",
      "pygments_lexer": "ipython3",
      "version": "3.6.6",
      "file_extension": ".py",
      "codemirror_mode": {
        "version": 3,
        "name": "ipython"
      }
    }
  },
  "nbformat": 4,
  "nbformat_minor": 1
}