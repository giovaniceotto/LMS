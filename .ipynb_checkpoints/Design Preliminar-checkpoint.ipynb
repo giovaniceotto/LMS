{
  "cells": [
    {
      "metadata": {
        "trusted": true
      },
      "cell_type": "code",
      "source": "!pip install coolprop",
      "execution_count": 2,
      "outputs": [
        {
          "output_type": "stream",
          "text": "Collecting coolprop\n\u001b[?25l  Downloading https://files.pythonhosted.org/packages/03/d8/6cbeeb68464c7811a9d48f800618746d3415bf84d545add04eb4290f83c5/CoolProp-6.3.0-cp36-cp36m-manylinux1_x86_64.whl (4.0MB)\n\u001b[K     |████████████████████████████████| 4.0MB 131kB/s eta 0:00:01K     |██████████████████▌             | 2.3MB 3.8MB/s eta 0:00:01\n\u001b[?25hInstalling collected packages: coolprop\nSuccessfully installed coolprop-6.3.0\n\u001b[33mWARNING: You are using pip version 19.2.2, however version 19.2.3 is available.\nYou should consider upgrading via the 'pip install --upgrade pip' command.\u001b[0m\n",
          "name": "stdout"
        }
      ]
    },
    {
      "metadata": {
        "trusted": true
      },
      "cell_type": "code",
      "source": "from preliminar import Motor",
      "execution_count": 5,
      "outputs": []
    },
    {
      "metadata": {
        "trusted": true
      },
      "cell_type": "code",
      "source": "LMS_I = Motor()\nLMS_I.report()",
      "execution_count": 6,
      "outputs": [
        {
          "output_type": "error",
          "ename": "NameError",
          "evalue": "name 'PropsSI' is not defined",
          "traceback": [
            "\u001b[0;31m---------------------------------------------------------------------------\u001b[0m",
            "\u001b[0;31mNameError\u001b[0m                                 Traceback (most recent call last)",
            "\u001b[0;32m<ipython-input-6-6d03bbb6855e>\u001b[0m in \u001b[0;36m<module>\u001b[0;34m\u001b[0m\n\u001b[0;32m----> 1\u001b[0;31m \u001b[0mLMS_I\u001b[0m \u001b[0;34m=\u001b[0m \u001b[0mMotor\u001b[0m\u001b[0;34m(\u001b[0m\u001b[0;34m)\u001b[0m\u001b[0;34m\u001b[0m\u001b[0m\n\u001b[0m\u001b[1;32m      2\u001b[0m \u001b[0mLMS_I\u001b[0m\u001b[0;34m.\u001b[0m\u001b[0mreport\u001b[0m\u001b[0;34m(\u001b[0m\u001b[0;34m)\u001b[0m\u001b[0;34m\u001b[0m\u001b[0m\n",
            "\u001b[0;32m~/library/preliminar.py\u001b[0m in \u001b[0;36m__init__\u001b[0;34m(self, thrust, burn_time, p_chamber, To, Mol_Weight, k, OFratio, n_cstar, n_cf, p_ox, p_fuel, cd_ox, cd_fuel)\u001b[0m\n\u001b[1;32m    172\u001b[0m             \u001b[0;34m\"COMPUTED PARAMETERS\"\u001b[0m\u001b[0;34m\u001b[0m\u001b[0m\n\u001b[1;32m    173\u001b[0m \u001b[0;34m\u001b[0m\u001b[0m\n\u001b[0;32m--> 174\u001b[0;31m             \u001b[0mself\u001b[0m\u001b[0;34m.\u001b[0m\u001b[0mrho_ox\u001b[0m \u001b[0;34m=\u001b[0m \u001b[0mPropsSI\u001b[0m\u001b[0;34m(\u001b[0m\u001b[0;34m'D'\u001b[0m\u001b[0;34m,\u001b[0m\u001b[0;34m'T'\u001b[0m\u001b[0;34m,\u001b[0m\u001b[0;36m90\u001b[0m\u001b[0;34m,\u001b[0m\u001b[0;34m'P'\u001b[0m\u001b[0;34m,\u001b[0m\u001b[0mself\u001b[0m\u001b[0;34m.\u001b[0m\u001b[0mp_ox\u001b[0m\u001b[0;34m,\u001b[0m\u001b[0;34m'OXYGEN'\u001b[0m\u001b[0;34m)\u001b[0m \u001b[0;31m# Oxidiser density, kg/m3\u001b[0m\u001b[0;34m\u001b[0m\u001b[0m\n\u001b[0m\u001b[1;32m    175\u001b[0m \u001b[0;34m\u001b[0m\u001b[0m\n\u001b[1;32m    176\u001b[0m             \u001b[0mself\u001b[0m\u001b[0;34m.\u001b[0m\u001b[0mrho_fuel\u001b[0m \u001b[0;34m=\u001b[0m \u001b[0mPropsSI\u001b[0m\u001b[0;34m(\u001b[0m\u001b[0;34m'D'\u001b[0m\u001b[0;34m,\u001b[0m\u001b[0;34m'T'\u001b[0m\u001b[0;34m,\u001b[0m\u001b[0;36m111\u001b[0m\u001b[0;34m,\u001b[0m\u001b[0;34m'P'\u001b[0m\u001b[0;34m,\u001b[0m\u001b[0mself\u001b[0m\u001b[0;34m.\u001b[0m\u001b[0mp_fuel\u001b[0m\u001b[0;34m,\u001b[0m\u001b[0;34m'CH4'\u001b[0m\u001b[0;34m)\u001b[0m \u001b[0;31m# Fuel density, kg/m3\u001b[0m\u001b[0;34m\u001b[0m\u001b[0m\n",
            "\u001b[0;31mNameError\u001b[0m: name 'PropsSI' is not defined"
          ]
        }
      ]
    },
    {
      "metadata": {
        "trusted": true
      },
      "cell_type": "code",
      "source": "",
      "execution_count": null,
      "outputs": []
    }
  ],
  "metadata": {
    "kernelspec": {
      "name": "python36",
      "display_name": "Python 3.6",
      "language": "python"
    },
    "language_info": {
      "mimetype": "text/x-python",
      "nbconvert_exporter": "python",
      "name": "python",
      "pygments_lexer": "ipython3",
      "version": "3.6.6",
      "file_extension": ".py",
      "codemirror_mode": {
        "version": 3,
        "name": "ipython"
      }
    }
  },
  "nbformat": 4,
  "nbformat_minor": 1
}